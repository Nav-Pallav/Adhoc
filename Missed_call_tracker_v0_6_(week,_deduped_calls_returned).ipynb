{
  "nbformat": 4,
  "nbformat_minor": 0,
  "metadata": {
    "colab": {
      "name": "Missed call tracker v0.6 (week, deduped calls returned).ipynb",
      "provenance": [],
      "collapsed_sections": [],
      "include_colab_link": true
    },
    "kernelspec": {
      "name": "python3",
      "display_name": "Python 3"
    },
    "language_info": {
      "name": "python"
    }
  },
  "cells": [
    {
      "cell_type": "markdown",
      "metadata": {
        "id": "view-in-github",
        "colab_type": "text"
      },
      "source": [
        "<a href=\"https://colab.research.google.com/github/Nav-Pallav/Adhoc/blob/main/Missed_call_tracker_v0_6_(week%2C_deduped_calls_returned).ipynb\" target=\"_parent\"><img src=\"https://colab.research.google.com/assets/colab-badge.svg\" alt=\"Open In Colab\"/></a>"
      ]
    },
    {
      "cell_type": "code",
      "execution_count": 76,
      "metadata": {
        "colab": {
          "base_uri": "https://localhost:8080/"
        },
        "id": "Ger5lR-V1NQF",
        "outputId": "db96d9ce-f6ca-4ac6-debf-9e25130c0cc0"
      },
      "outputs": [
        {
          "output_type": "stream",
          "name": "stdout",
          "text": [
            "Drive already mounted at /content/drive; to attempt to forcibly remount, call drive.mount(\"/content/drive\", force_remount=True).\n"
          ]
        }
      ],
      "source": [
        "from google.colab import drive\n",
        "drive.mount('/content/drive')"
      ]
    },
    {
      "cell_type": "code",
      "source": [
        "import pandas as pd\n",
        "import numpy as np\n",
        "import datetime\n",
        "from datetime import timedelta\n",
        "\n",
        "df_read=pd.read_excel(\"/content/drive/MyDrive/Hackathons/Text_summarization/IB & OB VN data.xlsx\")\n",
        "#Test Data\n",
        "#Exotel Logs Inbound & Outboud- 15 Jun\n"
      ],
      "metadata": {
        "id": "CNgGLMSA1UqG"
      },
      "execution_count": 88,
      "outputs": []
    },
    {
      "cell_type": "code",
      "source": [
        "df=df_read[['CREATED_DATE','CALLER_TYPE','CALL_TYPE','CONNECTED_WITH','FROM_NUMBER']]\n",
        "df.dropna(inplace=True)\n",
        "#df=df.dropna(subset=['CREATED_DATE','APPOINTMENT'])\n",
        "df['CREATED_DATE']= pd.to_datetime(df['CREATED_DATE'])\n",
        "#df['APPOINTMENT']=df['APPOINTMENT'].astype(int)\n",
        "df['CALLER_TYPE'] = df['CALLER_TYPE'].replace(['ConnectCentralteam'],['ConnectRM'])\n",
        "\n",
        "df=df[df['CALLER_TYPE'].isin(['Connectcustomer', 'ConnectRM'])]\n",
        "\n",
        "df['Cust_no'] = df.apply(lambda x: x['FROM_NUMBER'] if x['CALLER_TYPE'] == 'Connectcustomer' else x['CONNECTED_WITH'], axis=1).astype(int)\n",
        "df['Rep_no'] = df.apply(lambda x: x['CONNECTED_WITH'] if x['CALLER_TYPE'] == 'Connectcustomer' else x['FROM_NUMBER'], axis=1).astype(int)\n",
        "#df['APPOINTMENT']=df['Cust_no'].astype(int)\n",
        "df['week']=df['CREATED_DATE'].dt.week\n",
        "rep_list=df[['week','Rep_no']].drop_duplicates()\n",
        "#rep_list=pd.DataFrame(reps, columns = ['week','Rep_no'])\n"
      ],
      "metadata": {
        "colab": {
          "base_uri": "https://localhost:8080/"
        },
        "id": "gofsOQ5Ph7cF",
        "outputId": "d10f2302-2484-4921-cfbf-38162fab250f"
      },
      "execution_count": 91,
      "outputs": [
        {
          "output_type": "stream",
          "name": "stderr",
          "text": [
            "/usr/local/lib/python3.7/dist-packages/pandas/util/_decorators.py:311: SettingWithCopyWarning: \n",
            "A value is trying to be set on a copy of a slice from a DataFrame\n",
            "\n",
            "See the caveats in the documentation: https://pandas.pydata.org/pandas-docs/stable/user_guide/indexing.html#returning-a-view-versus-a-copy\n",
            "  return func(*args, **kwargs)\n",
            "/usr/local/lib/python3.7/dist-packages/ipykernel_launcher.py:4: SettingWithCopyWarning: \n",
            "A value is trying to be set on a copy of a slice from a DataFrame.\n",
            "Try using .loc[row_indexer,col_indexer] = value instead\n",
            "\n",
            "See the caveats in the documentation: https://pandas.pydata.org/pandas-docs/stable/user_guide/indexing.html#returning-a-view-versus-a-copy\n",
            "  after removing the cwd from sys.path.\n",
            "/usr/local/lib/python3.7/dist-packages/ipykernel_launcher.py:6: SettingWithCopyWarning: \n",
            "A value is trying to be set on a copy of a slice from a DataFrame.\n",
            "Try using .loc[row_indexer,col_indexer] = value instead\n",
            "\n",
            "See the caveats in the documentation: https://pandas.pydata.org/pandas-docs/stable/user_guide/indexing.html#returning-a-view-versus-a-copy\n",
            "  \n",
            "/usr/local/lib/python3.7/dist-packages/ipykernel_launcher.py:13: FutureWarning: Series.dt.weekofyear and Series.dt.week have been deprecated.  Please use Series.dt.isocalendar().week instead.\n",
            "  del sys.path[0]\n"
          ]
        }
      ]
    },
    {
      "cell_type": "code",
      "source": [
        "incomp=df[(df['CALLER_TYPE']=='Connectcustomer') & (df['CALL_TYPE']=='incomplete')].copy()\n",
        "callbacks = df[(df['CALL_TYPE']=='completed')].copy()\n",
        "rm_failed=df[(df['CALLER_TYPE']=='ConnectRM') & (df['CALL_TYPE']=='incomplete')].copy()\n",
        "callbacks=pd.concat([callbacks, rm_failed])\n",
        "\n",
        "\n",
        "incomp = incomp.sort_values(['CREATED_DATE','Cust_no','Rep_no'],\n",
        "              ascending = [True, True,True])\n",
        "callbacks = callbacks.sort_values(['CREATED_DATE','Cust_no','Rep_no'],\n",
        "              ascending = [True, True,True])\n",
        "callbacks['call_ret_time']=callbacks['CREATED_DATE']\n",
        "callbacks['call_returned_flag']=1"
      ],
      "metadata": {
        "id": "_rhYGIK6-g0N"
      },
      "execution_count": 80,
      "outputs": []
    },
    {
      "cell_type": "code",
      "source": [
        "tol = timedelta(minutes=120)\n",
        "missedcalls = pd.merge_asof(incomp,callbacks[['CREATED_DATE','Cust_no','Rep_no','call_returned_flag','call_ret_time']],on='CREATED_DATE',by=['Cust_no','Rep_no'],direction='forward',tolerance=tol)\n",
        "missedcalls.fillna(0,inplace=True)\n",
        "#out=missedcalls.groupby('Rep_no')['Cust_no'].count().reset_index().rename(columns={'Cust_no':'missed_processed'})"
      ],
      "metadata": {
        "id": "2YU6k-fkKaCc"
      },
      "execution_count": 82,
      "outputs": []
    },
    {
      "cell_type": "code",
      "source": [
        "missed_raw=incomp.groupby(['week','Rep_no'])['Cust_no'].count().reset_index().rename(columns={'Cust_no':'missed_raw'})\n",
        "rec_raw_df=df[(df['CALLER_TYPE']=='Connectcustomer')].copy()\n",
        "rec_raw=rec_raw_df.groupby(['week','Rep_no'])['Cust_no'].count().reset_index().rename(columns={'Cust_no':'received_raw'})\n",
        "\n",
        "##callbacks_completed = df[(df['CALL_TYPE']=='completed')].copy()\n",
        "##callback_processed=callbacks_completed.groupby('CONNECTED_WITH')['APPOINTMENT'].count().reset_index().rename(columns={'APPOINTMENT':'callback_processed'})"
      ],
      "metadata": {
        "id": "pX27QwAoe2xZ"
      },
      "execution_count": 83,
      "outputs": []
    },
    {
      "cell_type": "code",
      "source": [
        "######Missed#########\n",
        "\n",
        "tin=missedcalls[missedcalls['call_returned_flag']==0]\n",
        "\n",
        "tin=tin.sort_values(['CREATED_DATE','Cust_no','Rep_no'],\n",
        "              ascending = [True, True,True])\n",
        "tin['key']=tin['Cust_no'].astype(str) + tin['Rep_no'].astype('str')\n",
        "tin['count_flag']=0\n",
        "tin['window_end']=np.nan\n",
        "key_list=list(tin['key'].drop_duplicates())\n",
        "key_list\n",
        "tol = timedelta(minutes=120)\n",
        "\n",
        "tin_mod=pd.DataFrame()\n",
        "for key in key_list:\n",
        "  tin_fil=tin[tin['key']==key].reset_index()\n",
        "  # for index,row in tin_fil.iterrows():\n",
        "  #   print(row['Cust_no'])\n",
        "  tin_fil.loc[0,'window_end']=tin_fil.loc[0,'CREATED_DATE']+timedelta(minutes=120)\n",
        "  tin_fil.loc[0,'count_flag']=1\n",
        "  for i in range(1, len(tin_fil)):\n",
        "    if (tin_fil.loc[i-1, 'window_end'] > tin_fil.loc[i, 'CREATED_DATE']):\n",
        "      tin_fil.loc[i, 'window_end'] = tin_fil.loc[i-1, 'window_end']\n",
        "\n",
        "    else:\n",
        "      tin_fil.loc[i, 'window_end'] = tin_fil.loc[i, 'CREATED_DATE']+timedelta(minutes=120)\n",
        "      tin_fil.loc[i, 'count_flag']=1\n",
        "  tin_mod=tin_mod.append(tin_fil,ignore_index=True)\n",
        "  #tin_mod = tin_mod.append(tin_fil)\n",
        "#tin_mod=pd.concat(tin_mod)\n",
        "\n",
        "Missed_proc=tin_mod.groupby(['week','Rep_no'])['count_flag'].sum().reset_index().rename(columns={'count_flag':'missed_unret_processed'})\n",
        "\n",
        "###### Returned ###########\n",
        "\n",
        "ret=missedcalls[missedcalls['call_returned_flag']==1]\n",
        "ret.drop_duplicates(subset=['call_ret_time','Rep_no','Cust_no'], keep='last', inplace=True)\n",
        "Ret_proc=ret.groupby(['week','Rep_no'])['Cust_no'].count().reset_index().rename(columns={'Cust_no':'missed_ret_processed'})\n",
        "# tin_dup=tin.copy()\n",
        "# tin=pd.merge_asof()\n",
        "\n",
        "# missedcalls = pd.merge_asof(incomp,callbacks[['CREATED_DATE','Cust_no','Rep_no','call_returned_flag']],on='CREATED_DATE',by=['Cust_no','Rep_no'],direction='forward',tolerance=tol)\n"
      ],
      "metadata": {
        "id": "a-90dkk1zwlX",
        "outputId": "6979ea71-616b-43e7-cada-f0338444fe61",
        "colab": {
          "base_uri": "https://localhost:8080/"
        }
      },
      "execution_count": 84,
      "outputs": [
        {
          "output_type": "stream",
          "name": "stderr",
          "text": [
            "/usr/local/lib/python3.7/dist-packages/pandas/util/_decorators.py:311: SettingWithCopyWarning: \n",
            "A value is trying to be set on a copy of a slice from a DataFrame\n",
            "\n",
            "See the caveats in the documentation: https://pandas.pydata.org/pandas-docs/stable/user_guide/indexing.html#returning-a-view-versus-a-copy\n",
            "  return func(*args, **kwargs)\n"
          ]
        }
      ]
    },
    {
      "cell_type": "code",
      "source": [
        "reps=rep_list.merge(Missed_proc,on=['week','Rep_no'],how='left').fillna(0)\n",
        "reps=reps.merge(missed_raw,on=['week','Rep_no'],how='left').fillna(0)\n",
        "reps=reps.merge(rec_raw,on=['week','Rep_no'],how='left').fillna(0)\n",
        "reps=reps.merge(Ret_proc,on=['week','Rep_no'],how='left').fillna(0)\n",
        "reps['missed_received_processed']=reps['missed_unret_processed']+reps['missed_ret_processed']"
      ],
      "metadata": {
        "id": "iSfkLzKrks0n"
      },
      "execution_count": 85,
      "outputs": []
    },
    {
      "cell_type": "code",
      "source": [
        "reps_pivot=reps.pivot(index='Rep_no', columns='week', values=['missed_unret_processed',\t'missed_raw'\t,'received_raw',\t'missed_ret_processed',\t'missed_received_processed']).fillna(0)\n",
        "\n"
      ],
      "metadata": {
        "id": "rOku3TfvCkG8"
      },
      "execution_count": 86,
      "outputs": []
    },
    {
      "cell_type": "code",
      "source": [
        "reps.to_csv('/content/drive/MyDrive/Hackathons/Text_summarization/output_weeklevel_v0.6.csv')\n",
        "reps_pivot.to_csv('/content/drive/MyDrive/Hackathons/Text_summarization/output_weeklevel_pivot_v0.6.csv')"
      ],
      "metadata": {
        "id": "0eIS2lB7LXGD"
      },
      "execution_count": 87,
      "outputs": []
    }
  ]
}