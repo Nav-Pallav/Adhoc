{
  "cells": [
    {
      "cell_type": "markdown",
      "metadata": {
        "id": "view-in-github",
        "colab_type": "text"
      },
      "source": [
        "<a href=\"https://colab.research.google.com/github/Nav-Pallav/Adhoc/blob/main/06_MODELLING_NOTEBOOK_%5BLSTM%5D_V4_(generating_test_promotion_sequences).ipynb\" target=\"_parent\"><img src=\"https://colab.research.google.com/assets/colab-badge.svg\" alt=\"Open In Colab\"/></a>"
      ]
    },
    {
      "cell_type": "code",
      "execution_count": null,
      "metadata": {
        "application/vnd.databricks.v1+cell": {
          "cellMetadata": {
            "byteLimit": 2048000,
            "rowLimit": 10000
          },
          "inputWidgets": {},
          "nuid": "5e90943b-ef9e-452c-9872-aabfa34cd1d5",
          "showTitle": false,
          "title": ""
        },
        "id": "Ci3aMAysirMn",
        "outputId": "2eefe478-677f-485c-9999-72e25ecfddad"
      },
      "outputs": [
        {
          "output_type": "display_data",
          "data": {
            "text/html": [
              "<style scoped>\n",
              "  .ansiout {\n",
              "    display: block;\n",
              "    unicode-bidi: embed;\n",
              "    white-space: pre-wrap;\n",
              "    word-wrap: break-word;\n",
              "    word-break: break-all;\n",
              "    font-family: \"Source Code Pro\", \"Menlo\", monospace;;\n",
              "    font-size: 13px;\n",
              "    color: #555;\n",
              "    margin-left: 4px;\n",
              "    line-height: 19px;\n",
              "  }\n",
              "</style>\n",
              "<div class=\"ansiout\"></div>"
            ]
          },
          "metadata": {
            "application/vnd.databricks.v1+output": {
              "addedWidgets": {},
              "arguments": {},
              "data": "<div class=\"ansiout\"></div>",
              "datasetInfos": [],
              "metadata": {},
              "removedWidgets": [],
              "type": "html"
            }
          }
        }
      ],
      "source": [
        "## Why does inversion take 12 columns when we have 13 features (including carryover sales)\n",
        "## Maybe because, we are utilising the sales column itself\n",
        "\n",
        "# Drop Carryover as we won't have this column for future when we predict sequences\n",
        "# Not all HCPs seem to have all weeks, create rows with all 0\n",
        "# Add removed promotions (multiples of 4) to weekly residues\n",
        "\n",
        "\n",
        "# FUTURE ENHANCEMENT #\n",
        "# Club similar tactics like social/video, sf activity and distribute their sum instead of distributing individually"
      ]
    },
    {
      "cell_type": "markdown",
      "metadata": {
        "application/vnd.databricks.v1+cell": {
          "cellMetadata": {
            "byteLimit": 2048000,
            "rowLimit": 10000
          },
          "inputWidgets": {},
          "nuid": "096bbe34-3b9b-4d50-913a-1812fa084ab2",
          "showTitle": false,
          "title": ""
        },
        "id": "B_flRGagirMw"
      },
      "source": [
        "##Importing all the Standard Libraries"
      ]
    },
    {
      "cell_type": "code",
      "execution_count": null,
      "metadata": {
        "application/vnd.databricks.v1+cell": {
          "cellMetadata": {
            "byteLimit": 2048000,
            "rowLimit": 10000
          },
          "inputWidgets": {},
          "nuid": "5ca9ab4d-3c0a-4eda-a7d7-20952316c1b0",
          "showTitle": false,
          "title": ""
        },
        "id": "kydUpGNairMz",
        "outputId": "9c247894-3fe3-4fb4-caff-879988cd208c"
      },
      "outputs": [
        {
          "output_type": "display_data",
          "data": {
            "text/html": [
              "<style scoped>\n",
              "  .ansiout {\n",
              "    display: block;\n",
              "    unicode-bidi: embed;\n",
              "    white-space: pre-wrap;\n",
              "    word-wrap: break-word;\n",
              "    word-break: break-all;\n",
              "    font-family: \"Source Code Pro\", \"Menlo\", monospace;;\n",
              "    font-size: 13px;\n",
              "    color: #555;\n",
              "    margin-left: 4px;\n",
              "    line-height: 19px;\n",
              "  }\n",
              "</style>\n",
              "<div class=\"ansiout\">Defaulting to user installation because normal site-packages is not writeable\r\n",
              "Requirement already satisfied: pip in /databricks/python3/lib/python3.8/site-packages (21.0.1)\r\n",
              "Collecting pip\r\n",
              "  Downloading pip-23.2.1-py3-none-any.whl (2.1 MB)\r\n",
              "▏                               | 10 kB 27.7 MB/s eta 0:00:01\r     |▎                               | 20 kB 7.2 MB/s eta 0:00:01\r     |▌                               | 30 kB 10.2 MB/s eta 0:00:01\r     |▋                               | 40 kB 9.1 MB/s eta 0:00:01\r     |▉                               | 51 kB 7.4 MB/s eta 0:00:01\r     |█                               | 61 kB 8.7 MB/s eta 0:00:01\r     |█                               | 71 kB 9.5 MB/s eta 0:00:01\r     |█▎                              | 81 kB 8.8 MB/s eta 0:00:01\r     |█▍                              | 92 kB 9.8 MB/s eta 0:00:01\r     |█▋                              | 102 kB 10.8 MB/s eta 0:00:01\r     |█▊                              | 112 kB 10.8 MB/s eta 0:00:01\r     |█▉                              | 122 kB 10.8 MB/s eta 0:00:01\r     |██                              | 133 kB 10.8 MB/s eta 0:00:01\r     |██▏                             | 143 kB 10.8 MB/s eta 0:00:01\r     |██▍                             | 153 kB 10.8 MB/s eta 0:00:01\r     |██▌                             | 163 kB 10.8 MB/s eta 0:00:01\r     |██▊                             | 174 kB 10.8 MB/s eta 0:00:01\r     |██▉                             | 184 kB 10.8 MB/s eta 0:00:01\r     |███                             | 194 kB 10.8 MB/s eta 0:00:01\r     |███▏                            | 204 kB 10.8 MB/s eta 0:00:01\r     |███▎                            | 215 kB 10.8 MB/s eta 0:00:01\r     |███▌                            | 225 kB 10.8 MB/s eta 0:00:01\r     |███▋                            | 235 kB 10.8 MB/s eta 0:00:01\r     |███▊                            | 245 kB 10.8 MB/s eta 0:00:01\r     |████                            | 256 kB 10.8 MB/s eta 0:00:01\r     |████                            | 266 kB 10.8 MB/s eta 0:00:01\r     |████▎                           | 276 kB 10.8 MB/s eta 0:00:01\r     |████▍                           | 286 kB 10.8 MB/s eta 0:00:01\r     |████▌                           | 296 kB 10.8 MB/s eta 0:00:01\r     |████▊                           | 307 kB 10.8 MB/s eta 0:00:01\r     |████▉                           | 317 kB 10.8 MB/s eta 0:00:01\r     |█████                           | 327 kB 10.8 MB/s eta 0:00:01\r     |█████▏                          | 337 kB 10.8 MB/s eta 0:00:01\r     |█████▍                          | 348 kB 10.8 MB/s eta 0:00:01\r     |█████▌                          | 358 kB 10.8 MB/s eta 0:00:01\r     |█████▋                          | 368 kB 10.8 MB/s eta 0:00:01\r     |█████▉                          | 378 kB 10.8 MB/s eta 0:00:01\r     |██████                          | 389 kB 10.8 MB/s eta 0:00:01\r     |██████▏                         | 399 kB 10.8 MB/s eta 0:00:01\r     |██████▎                         | 409 kB 10.8 MB/s eta 0:00:01\r     |██████▍                         | 419 kB 10.8 MB/s eta 0:00:01\r     |██████▋                         | 430 kB 10.8 MB/s eta 0:00:01\r     |██████▊                         | 440 kB 10.8 MB/s eta 0:00:01\r     |███████                         | 450 kB 10.8 MB/s eta 0:00:01\r     |███████                         | 460 kB 10.8 MB/s eta 0:00:01\r     |███████▎                        | 471 kB 10.8 MB/s eta 0:00:01\r     |███████▍                        | 481 kB 10.8 MB/s eta 0:00:01\r     |███████▌                        | 491 kB 10.8 MB/s eta 0:00:01\r     |███████▊                        | 501 kB 10.8 MB/s eta 0:00:01\r     |███████▉                        | 512 kB 10.8 MB/s eta 0:00:01\r     |████████                        | 522 kB 10.8 MB/s eta 0:00:01\r     |████████▏                       | 532 kB 10.8 MB/s eta 0:00:01\r     |████████▎                       | 542 kB 10.8 MB/s eta 0:00:01\r     |████████▌                       | 552 kB 10.8 MB/s eta 0:00:01\r     |████████▋                       | 563 kB 10.8 MB/s eta 0:00:01\r     |████████▉                       | 573 kB 10.8 MB/s eta 0:00:01\r     |█████████                       | 583 kB 10.8 MB/s eta 0:00:01\r     |█████████                       | 593 kB 10.8 MB/s eta 0:00:01\r     |█████████▎                      | 604 kB 10.8 MB/s eta 0:00:01\r     |█████████▍                      | 614 kB 10.8 MB/s eta 0:00:01\r     |█████████▋                      | 624 kB 10.8 MB/s eta 0:00:01\r     |█████████▊                      | 634 kB 10.8 MB/s eta 0:00:01\r     |██████████                      | 645 kB 10.8 MB/s eta 0:00:01\r     |██████████                      | 655 kB 10.8 MB/s eta 0:00:01\r     |██████████▏                     | 665 kB 10.8 MB/s eta 0:00:01\r     |██████████▍                     | 675 kB 10.8 MB/s eta 0:00:01\r     |██████████▌                     | 686 kB 10.8 MB/s eta 0:00:01\r     |██████████▊                     | 696 kB 10.8 MB/s eta 0:00:01\r     |██████████▉                     | 706 kB 10.8 MB/s eta 0:00:01\r     |███████████                     | 716 kB 10.8 MB/s eta 0:00:01\r     |███████████▏                    | 727 kB 10.8 MB/s eta 0:00:01\r     |███████████▎                    | 737 kB 10.8 MB/s eta 0:00:01\r     |███████████▌                    | 747 kB 10.8 MB/s eta 0:00:01\r     |███████████▋                    | 757 kB 10.8 MB/s eta 0:00:01\r     |███████████▉                    | 768 kB 10.8 MB/s eta 0:00:01\r     |████████████                    | 778 kB 10.8 MB/s eta 0:00:01\r     |████████████                    | 788 kB 10.8 MB/s eta 0:00:01\r     |████████████▎                   | 798 kB 10.8 MB/s eta 0:00:01\r     |████████████▍                   | 808 kB 10.8 MB/s eta 0:00:01\r     |████████████▋                   | 819 kB 10.8 MB/s eta 0:00:01\r     |████████████▊                   | 829 kB 10.8 MB/s eta 0:00:01\r     |████████████▉                   | 839 kB 10.8 MB/s eta 0:00:01\r     |█████████████                   | 849 kB 10.8 MB/s eta 0:00:01\r     |█████████████▏                  | 860 kB 10.8 MB/s eta 0:00:01\r     |█████████████▍                  | 870 kB 10.8 MB/s eta 0:00:01\r     |█████████████▌                  | 880 kB 10.8 MB/s eta 0:00:01\r     |█████████████▋                  | 890 kB 10.8 MB/s eta 0:00:01\r     |█████████████▉                  | 901 kB 10.8 MB/s eta 0:00:01\r     |██████████████                  | 911 kB 10.8 MB/s eta 0:00:01\r     |██████████████▏                 | 921 kB 10.8 MB/s eta 0:00:01\r     |██████████████▎                 | 931 kB 10.8 MB/s eta 0:00:01\r     |██████████████▌                 | 942 kB 10.8 MB/s eta 0:00:01\r     |██████████████▋                 | 952 kB 10.8 MB/s eta 0:00:01\r     |██████████████▊                 | 962 kB 10.8 MB/s eta 0:00:01\r     |███████████████                 | 972 kB 10.8 MB/s eta 0:00:01\r     |███████████████                 | 983 kB 10.8 MB/s eta 0:00:01\r     |███████████████▎                | 993 kB 10.8 MB/s eta 0:00:01\r     |███████████████▍                | 1.0 MB 10.8 MB/s eta 0:00:01\r     |███████████████▌                | 1.0 MB 10.8 MB/s eta 0:00:01\r     |███████████████▊                | 1.0 MB 10.8 MB/s eta 0:00:01\r     |███████████████▉                | 1.0 MB 10.8 MB/s eta 0:00:01\r     |████████████████                | 1.0 MB 10.8 MB/s eta 0:00:01\r     |████████████████▏               | 1.1 MB 10.8 MB/s eta 0:00:01\r     |████████████████▍               | 1.1 MB 10.8 MB/s eta 0:00:01\r     |████████████████▌               | 1.1 MB 10.8 MB/s eta 0:00:01\r     |████████████████▋               | 1.1 MB 10.8 MB/s eta 0:00:01\r     |████████████████▉               | 1.1 MB 10.8 MB/s eta 0:00:01\r     |█████████████████               | 1.1 MB 10.8 MB/s eta 0:00:01\r     |█████████████████▏              | 1.1 MB 10.8 MB/s eta 0:00:01\r     |█████████████████▎              | 1.1 MB 10.8 MB/s eta 0:00:01\r     |█████████████████▍              | 1.1 MB 10.8 MB/s eta 0:00:01\r     |█████████████████▋              | 1.1 MB 10.8 MB/s eta 0:00:01\r     |█████████████████▊              | 1.2 MB 10.8 MB/s eta 0:00:01\r     |██████████████████              | 1.2 MB 10.8 MB/s eta 0:00:01\r     |██████████████████              | 1.2 MB 10.8 MB/s eta 0:00:01\r     |██████████████████▏             | 1.2 MB 10.8 MB/s eta 0:00:01\r     |██████████████████▍             | 1.2 MB 10.8 MB/s eta 0:00:01\r     |██████████████████▌             | 1.2 MB 10.8 MB/s eta 0:00:01\r     |██████████████████▊             | 1.2 MB 10.8 MB/s eta 0:00:01\r     |██████████████████▉             | 1.2 MB 10.8 MB/s eta 0:00:01\r     |███████████████████             | 1.2 MB 10.8 MB/s eta 0:00:01\r     |███████████████████▏            | 1.2 MB 10.8 MB/s eta 0:00:01\r     |███████████████████▎            | 1.3 MB 10.8 MB/s eta 0:00:01\r     |███████████████████▌            | 1.3 MB 10.8 MB/s eta 0:00:01\r     |███████████████████▋            | 1.3 MB 10.8 MB/s eta 0:00:01\r     |███████████████████▉            | 1.3 MB 10.8 MB/s eta 0:00:01\r     |████████████████████            | 1.3 MB 10.8 MB/s eta 0:00:01\r     |████████████████████            | 1.3 MB 10.8 MB/s eta 0:00:01\r     |████████████████████▎           | 1.3 MB 10.8 MB/s eta 0:00:01\r     |████████████████████▍           | 1.3 MB 10.8 MB/s eta 0:00:01\r     |████████████████████▋           | 1.3 MB 10.8 MB/s eta 0:00:01\r     |████████████████████▊           | 1.4 MB 10.8 MB/s eta 0:00:01\r     |█████████████████████           | 1.4 MB 10.8 MB/s eta 0:00:01\r     |█████████████████████           | 1.4 MB 10.8 MB/s eta 0:00:01\r     |█████████████████████▏          | 1.4 MB 10.8 MB/s eta 0:00:01\r     |█████████████████████▍          | 1.4 MB 10.8 MB/s eta 0:00:01\r     |█████████████████████▌          | 1.4 MB 10.8 MB/s eta 0:00:01\r     |█████████████████████▊          | 1.4 MB 10.8 MB/s eta 0:00:01\r     |█████████████████████▉          | 1.4 MB 10.8 MB/s eta 0:00:01\r     |██████████████████████          | 1.4 MB 10.8 MB/s eta 0:00:01\r     |██████████████████████▏         | 1.4 MB 10.8 MB/s eta 0:00:01\r     |██████████████████████▎         | 1.5 MB 10.8 MB/s eta 0:00:01\r     |██████████████████████▌         | 1.5 MB 10.8 MB/s eta 0:00:01\r     |██████████████████████▋         | 1.5 MB 10.8 MB/s eta 0:00:01\r     |██████████████████████▊         | 1.5 MB 10.8 MB/s eta 0:00:01\r     |███████████████████████         | 1.5 MB 10.8 MB/s eta 0:00:01\r     |███████████████████████         | 1.5 MB 10.8 MB/s eta 0:00:01\r     |███████████████████████▎        | 1.5 MB 10.8 MB/s eta 0:00:01\r     |███████████████████████▍        | 1.5 MB 10.8 MB/s eta 0:00:01\r     |███████████████████████▋        | 1.5 MB 10.8 MB/s eta 0:00:01\r     |███████████████████████▊        | 1.5 MB 10.8 MB/s eta 0:00:01\r     |███████████████████████▉        | 1.6 MB 10.8 MB/s eta 0:00:01\r     |████████████████████████        | 1.6 MB 10.8 MB/s eta 0:00:01\r     |████████████████████████▏       | 1.6 MB 10.8 MB/s eta 0:00:01\r     |████████████████████████▍       | 1.6 MB 10.8 MB/s eta 0:00:01\r     |████████████████████████▌       | 1.6 MB 10.8 MB/s eta 0:00:01\r     |████████████████████████▋       | 1.6 MB 10.8 MB/s eta 0:00:01\r     |████████████████████████▉       | 1.6 MB 10.8 MB/s eta 0:00:01\r     |█████████████████████████       | 1.6 MB 10.8 MB/s eta 0:00:01\r     |█████████████████████████▏      | 1.6 MB 10.8 MB/s eta 0:00:01\r     |█████████████████████████▎      | 1.6 MB 10.8 MB/s eta 0:00:01\r     |█████████████████████████▌      | 1.7 MB 10.8 MB/s eta 0:00:01\r     |█████████████████████████▋      | 1.7 MB 10.8 MB/s eta 0:00:01\r     |█████████████████████████▊      | 1.7 MB 10.8 MB/s eta 0:00:01\r     |██████████████████████████      | 1.7 MB 10.8 MB/s eta 0:00:01\r     |██████████████████████████      | 1.7 MB 10.8 MB/s eta 0:00:01\r     |██████████████████████████▎     | 1.7 MB 10.8 MB/s eta 0:00:01\r     |██████████████████████████▍     | 1.7 MB 10.8 MB/s eta 0:00:01\r     |██████████████████████████▌     | 1.7 MB 10.8 MB/s eta 0:00:01\r     |██████████████████████████▊     | 1.7 MB 10.8 MB/s eta 0:00:01\r     |██████████████████████████▉     | 1.8 MB 10.8 MB/s eta 0:00:01\r     |███████████████████████████     | 1.8 MB 10.8 MB/s eta 0:00:01\r     |███████████████████████████▏    | 1.8 MB 10.8 MB/s eta 0:00:01\r     |███████████████████████████▎    | 1.8 MB 10.8 MB/s eta 0:00:01\r     |███████████████████████████▌    | 1.8 MB 10.8 MB/s eta 0:00:01\r     |███████████████████████████▋    | 1.8 MB 10.8 MB/s eta 0:00:01\r     |███████████████████████████▉    | 1.8 MB 10.8 MB/s eta 0:00:01\r     |████████████████████████████    | 1.8 MB 10.8 MB/s eta 0:00:01\r     |████████████████████████████▏   | 1.8 MB 10.8 MB/s eta 0:00:01\r     |████████████████████████████▎   | 1.8 MB 10.8 MB/s eta 0:00:01\r     |████████████████████████████▍   | 1.9 MB 10.8 MB/s eta 0:00:01\r     |████████████████████████████▋   | 1.9 MB 10.8 MB/s eta 0:00:01\r     |████████████████████████████▊   | 1.9 MB 10.8 MB/s eta 0:00:01\r     |█████████████████████████████   | 1.9 MB 10.8 MB/s eta 0:00:01\r     |█████████████████████████████   | 1.9 MB 10.8 MB/s eta 0:00:01\r     |█████████████████████████████▏  | 1.9 MB 10.8 MB/s eta 0:00:01\r     |█████████████████████████████▍  | 1.9 MB 10.8 MB/s eta 0:00:01\r     |█████████████████████████████▌  | 1.9 MB 10.8 MB/s eta 0:00:01\r     |█████████████████████████████▊  | 1.9 MB 10.8 MB/s eta 0:00:01\r     |█████████████████████████████▉  | 1.9 MB 10.8 MB/s eta 0:00:01\r     |██████████████████████████████  | 2.0 MB 10.8 MB/s eta 0:00:01\r     |██████████████████████████████▏ | 2.0 MB 10.8 MB/s eta 0:00:01\r     |██████████████████████████████▎ | 2.0 MB 10.8 MB/s eta 0:00:01\r     |██████████████████████████████▌ | 2.0 MB 10.8 MB/s eta 0:00:01\r     |██████████████████████████████▋ | 2.0 MB 10.8 MB/s eta 0:00:01\r     |██████████████████████████████▉ | 2.0 MB 10.8 MB/s eta 0:00:01\r     |███████████████████████████████ | 2.0 MB 10.8 MB/s eta 0:00:01\r     |███████████████████████████████ | 2.0 MB 10.8 MB/s eta 0:00:01\r     |███████████████████████████████▎| 2.0 MB 10.8 MB/s eta 0:00:01\r     |███████████████████████████████▍| 2.0 MB 10.8 MB/s eta 0:00:01\r     |███████████████████████████████▋| 2.1 MB 10.8 MB/s eta 0:00:01\r     |███████████████████████████████▊| 2.1 MB 10.8 MB/s eta 0:00:01\r     |███████████████████████████████▉| 2.1 MB 10.8 MB/s eta 0:00:01\r     |████████████████████████████████| 2.1 MB 10.8 MB/s \r\n",
              "<span class=\"ansi-red-fg\">ERROR: Will not install to the user site because it will lack sys.path precedence to pip in /databricks/python3/lib/python3.8/site-packages</span>\r\n",
              "<span class=\"ansi-yellow-fg\">WARNING: You are using pip version 21.0.1; however, version 23.2.1 is available.\r\n",
              "You should consider upgrading via the &#39;/databricks/python3/bin/python -m pip install --upgrade pip&#39; command.</span>\r\n",
              "Defaulting to user installation because normal site-packages is not writeable\r\n",
              "Requirement already satisfied: matplotlib in /databricks/python3/lib/python3.8/site-packages (3.4.2)\r\n",
              "Requirement already satisfied: pyparsing&gt;=2.2.1 in /databricks/python3/lib/python3.8/site-packages (from matplotlib) (2.4.7)\r\n",
              "Requirement already satisfied: cycler&gt;=0.10 in /databricks/python3/lib/python3.8/site-packages (from matplotlib) (0.10.0)\r\n",
              "Requirement already satisfied: numpy&gt;=1.16 in /databricks/python3/lib/python3.8/site-packages (from matplotlib) (1.20.1)\r\n",
              "Requirement already satisfied: python-dateutil&gt;=2.7 in /databricks/python3/lib/python3.8/site-packages (from matplotlib) (2.8.1)\r\n",
              "Requirement already satisfied: pillow&gt;=6.2.0 in /databricks/python3/lib/python3.8/site-packages (from matplotlib) (8.2.0)\r\n",
              "Requirement already satisfied: kiwisolver&gt;=1.0.1 in /databricks/python3/lib/python3.8/site-packages (from matplotlib) (1.3.1)\r\n",
              "Requirement already satisfied: six in /databricks/python3/lib/python3.8/site-packages (from cycler&gt;=0.10-&gt;matplotlib) (1.15.0)\r\n",
              "<span class=\"ansi-yellow-fg\">WARNING: You are using pip version 21.0.1; however, version 23.2.1 is available.\r\n",
              "You should consider upgrading via the &#39;/databricks/python3/bin/python -m pip install --upgrade pip&#39; command.</span>\r\n",
              "Python interpreter will be restarted.\n",
              "Collecting tensorflow\n",
              "  Downloading tensorflow-2.13.0-cp38-cp38-manylinux_2_17_x86_64.manylinux2014_x86_64.whl (524.1 MB)\n",
              "Collecting numpy&lt;=1.24.3,&gt;=1.22\n",
              "  Downloading numpy-1.24.3-cp38-cp38-manylinux_2_17_x86_64.manylinux2014_x86_64.whl (17.3 MB)\n",
              "Collecting gast&lt;=0.4.0,&gt;=0.2.1\n",
              "  Downloading gast-0.4.0-py3-none-any.whl (9.8 kB)\n",
              "Collecting grpcio&lt;2.0,&gt;=1.24.3\n",
              "  Downloading grpcio-1.56.2-cp38-cp38-manylinux_2_17_x86_64.manylinux2014_x86_64.whl (5.2 MB)\n",
              "Collecting typing-extensions&lt;4.6.0,&gt;=3.6.6\n",
              "  Downloading typing_extensions-4.5.0-py3-none-any.whl (27 kB)\n",
              "Collecting protobuf!=4.21.0,!=4.21.1,!=4.21.2,!=4.21.3,!=4.21.4,!=4.21.5,&lt;5.0.0dev,&gt;=3.20.3\n",
              "  Downloading protobuf-4.23.4-cp37-abi3-manylinux2014_x86_64.whl (304 kB)\n",
              "Collecting tensorflow-io-gcs-filesystem&gt;=0.23.1\n",
              "  Downloading tensorflow_io_gcs_filesystem-0.32.0-cp38-cp38-manylinux_2_12_x86_64.manylinux2010_x86_64.whl (2.4 MB)\n",
              "Collecting google-pasta&gt;=0.1.1\n",
              "  Downloading google_pasta-0.2.0-py3-none-any.whl (57 kB)\n",
              "Collecting flatbuffers&gt;=23.1.21\n",
              "  Downloading flatbuffers-23.5.26-py2.py3-none-any.whl (26 kB)\n",
              "Requirement already satisfied: six&gt;=1.12.0 in /databricks/python3/lib/python3.8/site-packages (from tensorflow) (1.15.0)\n",
              "Collecting termcolor&gt;=1.1.0\n",
              "  Downloading termcolor-2.3.0-py3-none-any.whl (6.9 kB)\n",
              "Collecting wrapt&gt;=1.11.0\n",
              "  Downloading wrapt-1.15.0-cp38-cp38-manylinux_2_5_x86_64.manylinux1_x86_64.manylinux_2_17_x86_64.manylinux2014_x86_64.whl (81 kB)\n",
              "Requirement already satisfied: setuptools in /usr/local/lib/python3.8/dist-packages (from tensorflow) (52.0.0)\n",
              "Collecting keras&lt;2.14,&gt;=2.13.1\n",
              "  Downloading keras-2.13.1-py3-none-any.whl (1.7 MB)\n",
              "Collecting opt-einsum&gt;=2.3.2\n",
              "  Downloading opt_einsum-3.3.0-py3-none-any.whl (65 kB)\n",
              "Collecting tensorflow-estimator&lt;2.14,&gt;=2.13.0\n",
              "  Downloading tensorflow_estimator-2.13.0-py2.py3-none-any.whl (440 kB)\n",
              "Collecting h5py&gt;=2.9.0\n",
              "  Downloading h5py-3.9.0-cp38-cp38-manylinux_2_17_x86_64.manylinux2014_x86_64.whl (4.8 MB)\n",
              "Requirement already satisfied: packaging in /databricks/python3/lib/python3.8/site-packages (from tensorflow) (20.9)\n",
              "Collecting tensorboard&lt;2.14,&gt;=2.13\n",
              "  Downloading tensorboard-2.13.0-py3-none-any.whl (5.6 MB)\n",
              "Collecting libclang&gt;=13.0.0\n",
              "  Downloading libclang-16.0.6-py2.py3-none-manylinux2010_x86_64.whl (22.9 MB)\n",
              "Collecting astunparse&gt;=1.6.0\n",
              "  Downloading astunparse-1.6.3-py2.py3-none-any.whl (12 kB)\n",
              "Collecting absl-py&gt;=1.0.0\n",
              "  Downloading absl_py-1.4.0-py3-none-any.whl (126 kB)\n",
              "Requirement already satisfied: wheel&lt;1.0,&gt;=0.23.0 in /databricks/python3/lib/python3.8/site-packages (from astunparse&gt;=1.6.0-&gt;tensorflow) (0.36.2)\n",
              "Collecting tensorboard-data-server&lt;0.8.0,&gt;=0.7.0\n",
              "  Downloading tensorboard_data_server-0.7.1-py3-none-manylinux2014_x86_64.whl (6.6 MB)\n",
              "Collecting google-auth&lt;3,&gt;=1.6.3\n",
              "  Downloading google_auth-2.22.0-py2.py3-none-any.whl (181 kB)\n",
              "Collecting google-auth-oauthlib&lt;1.1,&gt;=0.5\n",
              "  Downloading google_auth_oauthlib-1.0.0-py2.py3-none-any.whl (18 kB)\n",
              "Requirement already satisfied: requests&lt;3,&gt;=2.21.0 in /databricks/python3/lib/python3.8/site-packages (from tensorboard&lt;2.14,&gt;=2.13-&gt;tensorflow) (2.25.1)\n",
              "Collecting werkzeug&gt;=1.0.1\n",
              "  Downloading Werkzeug-2.3.6-py3-none-any.whl (242 kB)\n",
              "Collecting markdown&gt;=2.6.8\n",
              "  Downloading Markdown-3.4.3-py3-none-any.whl (93 kB)\n",
              "Collecting cachetools&lt;6.0,&gt;=2.0.0\n",
              "  Downloading cachetools-5.3.1-py3-none-any.whl (9.3 kB)\n",
              "Collecting rsa&lt;5,&gt;=3.1.4\n",
              "  Downloading rsa-4.9-py3-none-any.whl (34 kB)\n",
              "Collecting pyasn1-modules&gt;=0.2.1\n",
              "  Downloading pyasn1_modules-0.3.0-py2.py3-none-any.whl (181 kB)\n",
              "Requirement already satisfied: urllib3&lt;2.0 in /databricks/python3/lib/python3.8/site-packages (from google-auth&lt;3,&gt;=1.6.3-&gt;tensorboard&lt;2.14,&gt;=2.13-&gt;tensorflow) (1.25.11)\n",
              "Collecting requests-oauthlib&gt;=0.7.0\n",
              "  Downloading requests_oauthlib-1.3.1-py2.py3-none-any.whl (23 kB)\n",
              "Collecting importlib-metadata&gt;=4.4\n",
              "  Downloading importlib_metadata-6.8.0-py3-none-any.whl (22 kB)\n",
              "Collecting zipp&gt;=0.5\n",
              "  Downloading zipp-3.16.2-py3-none-any.whl (7.2 kB)\n",
              "Collecting pyasn1&lt;0.6.0,&gt;=0.4.6\n",
              "  Downloading pyasn1-0.5.0-py2.py3-none-any.whl (83 kB)\n",
              "Requirement already satisfied: certifi&gt;=2017.4.17 in /databricks/python3/lib/python3.8/site-packages (from requests&lt;3,&gt;=2.21.0-&gt;tensorboard&lt;2.14,&gt;=2.13-&gt;tensorflow) (2020.12.5)\n",
              "Requirement already satisfied: chardet&lt;5,&gt;=3.0.2 in /databricks/python3/lib/python3.8/site-packages (from requests&lt;3,&gt;=2.21.0-&gt;tensorboard&lt;2.14,&gt;=2.13-&gt;tensorflow) (4.0.0)\n",
              "Requirement already satisfied: idna&lt;3,&gt;=2.5 in /databricks/python3/lib/python3.8/site-packages (from requests&lt;3,&gt;=2.21.0-&gt;tensorboard&lt;2.14,&gt;=2.13-&gt;tensorflow) (2.10)\n",
              "Collecting oauthlib&gt;=3.0.0\n",
              "  Downloading oauthlib-3.2.2-py3-none-any.whl (151 kB)\n",
              "Collecting MarkupSafe&gt;=2.1.1\n",
              "  Downloading MarkupSafe-2.1.3-cp38-cp38-manylinux_2_17_x86_64.manylinux2014_x86_64.whl (25 kB)\n",
              "Requirement already satisfied: pyparsing&gt;=2.0.2 in /databricks/python3/lib/python3.8/site-packages (from packaging-&gt;tensorflow) (2.4.7)\n",
              "Installing collected packages: pyasn1, zipp, rsa, pyasn1-modules, oauthlib, cachetools, requests-oauthlib, MarkupSafe, importlib-metadata, google-auth, werkzeug, tensorboard-data-server, protobuf, numpy, markdown, grpcio, google-auth-oauthlib, absl-py, wrapt, typing-extensions, termcolor, tensorflow-io-gcs-filesystem, tensorflow-estimator, tensorboard, opt-einsum, libclang, keras, h5py, google-pasta, gast, flatbuffers, astunparse, tensorflow\n",
              "  Attempting uninstall: MarkupSafe\n",
              "    Found existing installation: MarkupSafe 2.0.1\n",
              "    Not uninstalling markupsafe at /databricks/python3/lib/python3.8/site-packages, outside environment /local_disk0/.ephemeral_nfs/envs/pythonEnv-2c650b27-d283-4e9d-adf8-92bb3ab2fdd8\n",
              "    Can&#39;t uninstall &#39;MarkupSafe&#39;. No files were found to uninstall.\n",
              "  Attempting uninstall: protobuf\n",
              "    Found existing installation: protobuf 3.17.2\n",
              "    Not uninstalling protobuf at /databricks/python3/lib/python3.8/site-packages, outside environment /local_disk0/.ephemeral_nfs/envs/pythonEnv-2c650b27-d283-4e9d-adf8-92bb3ab2fdd8\n",
              "    Can&#39;t uninstall &#39;protobuf&#39;. No files were found to uninstall.\n",
              "  Attempting uninstall: numpy\n",
              "    Found existing installation: numpy 1.20.1\n",
              "    Not uninstalling numpy at /databricks/python3/lib/python3.8/site-packages, outside environment /local_disk0/.ephemeral_nfs/envs/pythonEnv-2c650b27-d283-4e9d-adf8-92bb3ab2fdd8\n",
              "    Can&#39;t uninstall &#39;numpy&#39;. No files were found to uninstall.\n",
              "ERROR: pip&#39;s dependency resolver does not currently take into account all the packages that are installed. This behaviour is the source of the following dependency conflicts.\n",
              "scipy 1.6.2 requires numpy&lt;1.23.0,&gt;=1.16.5, but you have numpy 1.24.3 which is incompatible.\n",
              "Successfully installed MarkupSafe-2.1.3 absl-py-1.4.0 astunparse-1.6.3 cachetools-5.3.1 flatbuffers-23.5.26 gast-0.4.0 google-auth-2.22.0 google-auth-oauthlib-1.0.0 google-pasta-0.2.0 grpcio-1.56.2 h5py-3.9.0 importlib-metadata-6.8.0 keras-2.13.1 libclang-16.0.6 markdown-3.4.3 numpy-1.24.3 oauthlib-3.2.2 opt-einsum-3.3.0 protobuf-4.23.4 pyasn1-0.5.0 pyasn1-modules-0.3.0 requests-oauthlib-1.3.1 rsa-4.9 tensorboard-2.13.0 tensorboard-data-server-0.7.1 tensorflow-2.13.0 tensorflow-estimator-2.13.0 tensorflow-io-gcs-filesystem-0.32.0 termcolor-2.3.0 typing-extensions-4.5.0 werkzeug-2.3.6 wrapt-1.15.0 zipp-3.16.2\n",
              "Python interpreter will be restarted.\n",
              "</div>"
            ]
          },
          "metadata": {
            "application/vnd.databricks.v1+output": {
              "addedWidgets": {},
              "arguments": {},
              "data": "<div class=\"ansiout\">Defaulting to user installation because normal site-packages is not writeable\r\nRequirement already satisfied: pip in /databricks/python3/lib/python3.8/site-packages (21.0.1)\r\nCollecting pip\r\n  Downloading pip-23.2.1-py3-none-any.whl (2.1 MB)\r\n\r     |▏                               | 10 kB 27.7 MB/s eta 0:00:01\r     |▎                               | 20 kB 7.2 MB/s eta 0:00:01\r     |▌                               | 30 kB 10.2 MB/s eta 0:00:01\r     |▋                               | 40 kB 9.1 MB/s eta 0:00:01\r     |▉                               | 51 kB 7.4 MB/s eta 0:00:01\r     |█                               | 61 kB 8.7 MB/s eta 0:00:01\r     |█                               | 71 kB 9.5 MB/s eta 0:00:01\r     |█▎                              | 81 kB 8.8 MB/s eta 0:00:01\r     |█▍                              | 92 kB 9.8 MB/s eta 0:00:01\r     |█▋                              | 102 kB 10.8 MB/s eta 0:00:01\r     |█▊                              | 112 kB 10.8 MB/s eta 0:00:01\r     |█▉                              | 122 kB 10.8 MB/s eta 0:00:01\r     |██                              | 133 kB 10.8 MB/s eta 0:00:01\r     |██▏                             | 143 kB 10.8 MB/s eta 0:00:01\r     |██▍                             | 153 kB 10.8 MB/s eta 0:00:01\r     |██▌                             | 163 kB 10.8 MB/s eta 0:00:01\r     |██▊                             | 174 kB 10.8 MB/s eta 0:00:01\r     |██▉                             | 184 kB 10.8 MB/s eta 0:00:01\r     |███                             | 194 kB 10.8 MB/s eta 0:00:01\r     |███▏                            | 204 kB 10.8 MB/s eta 0:00:01\r     |███▎                            | 215 kB 10.8 MB/s eta 0:00:01\r     |███▌                            | 225 kB 10.8 MB/s eta 0:00:01\r     |███▋                            | 235 kB 10.8 MB/s eta 0:00:01\r     |███▊                            | 245 kB 10.8 MB/s eta 0:00:01\r     |████                            | 256 kB 10.8 MB/s eta 0:00:01\r     |████                            | 266 kB 10.8 MB/s eta 0:00:01\r     |████▎                           | 276 kB 10.8 MB/s eta 0:00:01\r     |████▍                           | 286 kB 10.8 MB/s eta 0:00:01\r     |████▌                           | 296 kB 10.8 MB/s eta 0:00:01\r     |████▊                           | 307 kB 10.8 MB/s eta 0:00:01\r     |████▉                           | 317 kB 10.8 MB/s eta 0:00:01\r     |█████                           | 327 kB 10.8 MB/s eta 0:00:01\r     |█████▏                          | 337 kB 10.8 MB/s eta 0:00:01\r     |█████▍                          | 348 kB 10.8 MB/s eta 0:00:01\r     |█████▌                          | 358 kB 10.8 MB/s eta 0:00:01\r     |█████▋                          | 368 kB 10.8 MB/s eta 0:00:01\r     |█████▉                          | 378 kB 10.8 MB/s eta 0:00:01\r     |██████                          | 389 kB 10.8 MB/s eta 0:00:01\r     |██████▏                         | 399 kB 10.8 MB/s eta 0:00:01\r     |██████▎                         | 409 kB 10.8 MB/s eta 0:00:01\r     |██████▍                         | 419 kB 10.8 MB/s eta 0:00:01\r     |██████▋                         | 430 kB 10.8 MB/s eta 0:00:01\r     |██████▊                         | 440 kB 10.8 MB/s eta 0:00:01\r     |███████                         | 450 kB 10.8 MB/s eta 0:00:01\r     |███████                         | 460 kB 10.8 MB/s eta 0:00:01\r     |███████▎                        | 471 kB 10.8 MB/s eta 0:00:01\r     |███████▍                        | 481 kB 10.8 MB/s eta 0:00:01\r     |███████▌                        | 491 kB 10.8 MB/s eta 0:00:01\r     |███████▊                        | 501 kB 10.8 MB/s eta 0:00:01\r     |███████▉                        | 512 kB 10.8 MB/s eta 0:00:01\r     |████████                        | 522 kB 10.8 MB/s eta 0:00:01\r     |████████▏                       | 532 kB 10.8 MB/s eta 0:00:01\r     |████████▎                       | 542 kB 10.8 MB/s eta 0:00:01\r     |████████▌                       | 552 kB 10.8 MB/s eta 0:00:01\r     |████████▋                       | 563 kB 10.8 MB/s eta 0:00:01\r     |████████▉                       | 573 kB 10.8 MB/s eta 0:00:01\r     |█████████                       | 583 kB 10.8 MB/s eta 0:00:01\r     |█████████                       | 593 kB 10.8 MB/s eta 0:00:01\r     |█████████▎                      | 604 kB 10.8 MB/s eta 0:00:01\r     |█████████▍                      | 614 kB 10.8 MB/s eta 0:00:01\r     |█████████▋                      | 624 kB 10.8 MB/s eta 0:00:01\r     |█████████▊                      | 634 kB 10.8 MB/s eta 0:00:01\r     |██████████                      | 645 kB 10.8 MB/s eta 0:00:01\r     |██████████                      | 655 kB 10.8 MB/s eta 0:00:01\r     |██████████▏                     | 665 kB 10.8 MB/s eta 0:00:01\r     |██████████▍                     | 675 kB 10.8 MB/s eta 0:00:01\r     |██████████▌                     | 686 kB 10.8 MB/s eta 0:00:01\r     |██████████▊                     | 696 kB 10.8 MB/s eta 0:00:01\r     |██████████▉                     | 706 kB 10.8 MB/s eta 0:00:01\r     |███████████                     | 716 kB 10.8 MB/s eta 0:00:01\r     |███████████▏                    | 727 kB 10.8 MB/s eta 0:00:01\r     |███████████▎                    | 737 kB 10.8 MB/s eta 0:00:01\r     |███████████▌                    | 747 kB 10.8 MB/s eta 0:00:01\r     |███████████▋                    | 757 kB 10.8 MB/s eta 0:00:01\r     |███████████▉                    | 768 kB 10.8 MB/s eta 0:00:01\r     |████████████                    | 778 kB 10.8 MB/s eta 0:00:01\r     |████████████                    | 788 kB 10.8 MB/s eta 0:00:01\r     |████████████▎                   | 798 kB 10.8 MB/s eta 0:00:01\r     |████████████▍                   | 808 kB 10.8 MB/s eta 0:00:01\r     |████████████▋                   | 819 kB 10.8 MB/s eta 0:00:01\r     |████████████▊                   | 829 kB 10.8 MB/s eta 0:00:01\r     |████████████▉                   | 839 kB 10.8 MB/s eta 0:00:01\r     |█████████████                   | 849 kB 10.8 MB/s eta 0:00:01\r     |█████████████▏                  | 860 kB 10.8 MB/s eta 0:00:01\r     |█████████████▍                  | 870 kB 10.8 MB/s eta 0:00:01\r     |█████████████▌                  | 880 kB 10.8 MB/s eta 0:00:01\r     |█████████████▋                  | 890 kB 10.8 MB/s eta 0:00:01\r     |█████████████▉                  | 901 kB 10.8 MB/s eta 0:00:01\r     |██████████████                  | 911 kB 10.8 MB/s eta 0:00:01\r     |██████████████▏                 | 921 kB 10.8 MB/s eta 0:00:01\r     |██████████████▎                 | 931 kB 10.8 MB/s eta 0:00:01\r     |██████████████▌                 | 942 kB 10.8 MB/s eta 0:00:01\r     |██████████████▋                 | 952 kB 10.8 MB/s eta 0:00:01\r     |██████████████▊                 | 962 kB 10.8 MB/s eta 0:00:01\r     |███████████████                 | 972 kB 10.8 MB/s eta 0:00:01\r     |███████████████                 | 983 kB 10.8 MB/s eta 0:00:01\r     |███████████████▎                | 993 kB 10.8 MB/s eta 0:00:01\r     |███████████████▍                | 1.0 MB 10.8 MB/s eta 0:00:01\r     |███████████████▌                | 1.0 MB 10.8 MB/s eta 0:00:01\r     |███████████████▊                | 1.0 MB 10.8 MB/s eta 0:00:01\r     |███████████████▉                | 1.0 MB 10.8 MB/s eta 0:00:01\r     |████████████████                | 1.0 MB 10.8 MB/s eta 0:00:01\r     |████████████████▏               | 1.1 MB 10.8 MB/s eta 0:00:01\r     |████████████████▍               | 1.1 MB 10.8 MB/s eta 0:00:01\r     |████████████████▌               | 1.1 MB 10.8 MB/s eta 0:00:01\r     |████████████████▋               | 1.1 MB 10.8 MB/s eta 0:00:01\r     |████████████████▉               | 1.1 MB 10.8 MB/s eta 0:00:01\r     |█████████████████               | 1.1 MB 10.8 MB/s eta 0:00:01\r     |█████████████████▏              | 1.1 MB 10.8 MB/s eta 0:00:01\r     |█████████████████▎              | 1.1 MB 10.8 MB/s eta 0:00:01\r     |█████████████████▍              | 1.1 MB 10.8 MB/s eta 0:00:01\r     |█████████████████▋              | 1.1 MB 10.8 MB/s eta 0:00:01\r     |█████████████████▊              | 1.2 MB 10.8 MB/s eta 0:00:01\r     |██████████████████              | 1.2 MB 10.8 MB/s eta 0:00:01\r     |██████████████████              | 1.2 MB 10.8 MB/s eta 0:00:01\r     |██████████████████▏             | 1.2 MB 10.8 MB/s eta 0:00:01\r     |██████████████████▍             | 1.2 MB 10.8 MB/s eta 0:00:01\r     |██████████████████▌             | 1.2 MB 10.8 MB/s eta 0:00:01\r     |██████████████████▊             | 1.2 MB 10.8 MB/s eta 0:00:01\r     |██████████████████▉             | 1.2 MB 10.8 MB/s eta 0:00:01\r     |███████████████████             | 1.2 MB 10.8 MB/s eta 0:00:01\r     |███████████████████▏            | 1.2 MB 10.8 MB/s eta 0:00:01\r     |███████████████████▎            | 1.3 MB 10.8 MB/s eta 0:00:01\r     |███████████████████▌            | 1.3 MB 10.8 MB/s eta 0:00:01\r     |███████████████████▋            | 1.3 MB 10.8 MB/s eta 0:00:01\r     |███████████████████▉            | 1.3 MB 10.8 MB/s eta 0:00:01\r     |████████████████████            | 1.3 MB 10.8 MB/s eta 0:00:01\r     |████████████████████            | 1.3 MB 10.8 MB/s eta 0:00:01\r     |████████████████████▎           | 1.3 MB 10.8 MB/s eta 0:00:01\r     |████████████████████▍           | 1.3 MB 10.8 MB/s eta 0:00:01\r     |████████████████████▋           | 1.3 MB 10.8 MB/s eta 0:00:01\r     |████████████████████▊           | 1.4 MB 10.8 MB/s eta 0:00:01\r     |█████████████████████           | 1.4 MB 10.8 MB/s eta 0:00:01\r     |█████████████████████           | 1.4 MB 10.8 MB/s eta 0:00:01\r     |█████████████████████▏          | 1.4 MB 10.8 MB/s eta 0:00:01\r     |█████████████████████▍          | 1.4 MB 10.8 MB/s eta 0:00:01\r     |█████████████████████▌          | 1.4 MB 10.8 MB/s eta 0:00:01\r     |█████████████████████▊          | 1.4 MB 10.8 MB/s eta 0:00:01\r     |█████████████████████▉          | 1.4 MB 10.8 MB/s eta 0:00:01\r     |██████████████████████          | 1.4 MB 10.8 MB/s eta 0:00:01\r     |██████████████████████▏         | 1.4 MB 10.8 MB/s eta 0:00:01\r     |██████████████████████▎         | 1.5 MB 10.8 MB/s eta 0:00:01\r     |██████████████████████▌         | 1.5 MB 10.8 MB/s eta 0:00:01\r     |██████████████████████▋         | 1.5 MB 10.8 MB/s eta 0:00:01\r     |██████████████████████▊         | 1.5 MB 10.8 MB/s eta 0:00:01\r     |███████████████████████         | 1.5 MB 10.8 MB/s eta 0:00:01\r     |███████████████████████         | 1.5 MB 10.8 MB/s eta 0:00:01\r     |███████████████████████▎        | 1.5 MB 10.8 MB/s eta 0:00:01\r     |███████████████████████▍        | 1.5 MB 10.8 MB/s eta 0:00:01\r     |███████████████████████▋        | 1.5 MB 10.8 MB/s eta 0:00:01\r     |███████████████████████▊        | 1.5 MB 10.8 MB/s eta 0:00:01\r     |███████████████████████▉        | 1.6 MB 10.8 MB/s eta 0:00:01\r     |████████████████████████        | 1.6 MB 10.8 MB/s eta 0:00:01\r     |████████████████████████▏       | 1.6 MB 10.8 MB/s eta 0:00:01\r     |████████████████████████▍       | 1.6 MB 10.8 MB/s eta 0:00:01\r     |████████████████████████▌       | 1.6 MB 10.8 MB/s eta 0:00:01\r     |████████████████████████▋       | 1.6 MB 10.8 MB/s eta 0:00:01\r     |████████████████████████▉       | 1.6 MB 10.8 MB/s eta 0:00:01\r     |█████████████████████████       | 1.6 MB 10.8 MB/s eta 0:00:01\r     |█████████████████████████▏      | 1.6 MB 10.8 MB/s eta 0:00:01\r     |█████████████████████████▎      | 1.6 MB 10.8 MB/s eta 0:00:01\r     |█████████████████████████▌      | 1.7 MB 10.8 MB/s eta 0:00:01\r     |█████████████████████████▋      | 1.7 MB 10.8 MB/s eta 0:00:01\r     |█████████████████████████▊      | 1.7 MB 10.8 MB/s eta 0:00:01\r     |██████████████████████████      | 1.7 MB 10.8 MB/s eta 0:00:01\r     |██████████████████████████      | 1.7 MB 10.8 MB/s eta 0:00:01\r     |██████████████████████████▎     | 1.7 MB 10.8 MB/s eta 0:00:01\r     |██████████████████████████▍     | 1.7 MB 10.8 MB/s eta 0:00:01\r     |██████████████████████████▌     | 1.7 MB 10.8 MB/s eta 0:00:01\r     |██████████████████████████▊     | 1.7 MB 10.8 MB/s eta 0:00:01\r     |██████████████████████████▉     | 1.8 MB 10.8 MB/s eta 0:00:01\r     |███████████████████████████     | 1.8 MB 10.8 MB/s eta 0:00:01\r     |███████████████████████████▏    | 1.8 MB 10.8 MB/s eta 0:00:01\r     |███████████████████████████▎    | 1.8 MB 10.8 MB/s eta 0:00:01\r     |███████████████████████████▌    | 1.8 MB 10.8 MB/s eta 0:00:01\r     |███████████████████████████▋    | 1.8 MB 10.8 MB/s eta 0:00:01\r     |███████████████████████████▉    | 1.8 MB 10.8 MB/s eta 0:00:01\r     |████████████████████████████    | 1.8 MB 10.8 MB/s eta 0:00:01\r     |████████████████████████████▏   | 1.8 MB 10.8 MB/s eta 0:00:01\r     |████████████████████████████▎   | 1.8 MB 10.8 MB/s eta 0:00:01\r     |████████████████████████████▍   | 1.9 MB 10.8 MB/s eta 0:00:01\r     |████████████████████████████▋   | 1.9 MB 10.8 MB/s eta 0:00:01\r     |████████████████████████████▊   | 1.9 MB 10.8 MB/s eta 0:00:01\r     |█████████████████████████████   | 1.9 MB 10.8 MB/s eta 0:00:01\r     |█████████████████████████████   | 1.9 MB 10.8 MB/s eta 0:00:01\r     |█████████████████████████████▏  | 1.9 MB 10.8 MB/s eta 0:00:01\r     |█████████████████████████████▍  | 1.9 MB 10.8 MB/s eta 0:00:01\r     |█████████████████████████████▌  | 1.9 MB 10.8 MB/s eta 0:00:01\r     |█████████████████████████████▊  | 1.9 MB 10.8 MB/s eta 0:00:01\r     |█████████████████████████████▉  | 1.9 MB 10.8 MB/s eta 0:00:01\r     |██████████████████████████████  | 2.0 MB 10.8 MB/s eta 0:00:01\r     |██████████████████████████████▏ | 2.0 MB 10.8 MB/s eta 0:00:01\r     |██████████████████████████████▎ | 2.0 MB 10.8 MB/s eta 0:00:01\r     |██████████████████████████████▌ | 2.0 MB 10.8 MB/s eta 0:00:01\r     |██████████████████████████████▋ | 2.0 MB 10.8 MB/s eta 0:00:01\r     |██████████████████████████████▉ | 2.0 MB 10.8 MB/s eta 0:00:01\r     |███████████████████████████████ | 2.0 MB 10.8 MB/s eta 0:00:01\r     |███████████████████████████████ | 2.0 MB 10.8 MB/s eta 0:00:01\r     |███████████████████████████████▎| 2.0 MB 10.8 MB/s eta 0:00:01\r     |███████████████████████████████▍| 2.0 MB 10.8 MB/s eta 0:00:01\r     |███████████████████████████████▋| 2.1 MB 10.8 MB/s eta 0:00:01\r     |███████████████████████████████▊| 2.1 MB 10.8 MB/s eta 0:00:01\r     |███████████████████████████████▉| 2.1 MB 10.8 MB/s eta 0:00:01\r     |████████████████████████████████| 2.1 MB 10.8 MB/s \r\n<span class=\"ansi-red-fg\">ERROR: Will not install to the user site because it will lack sys.path precedence to pip in /databricks/python3/lib/python3.8/site-packages</span>\r\n<span class=\"ansi-yellow-fg\">WARNING: You are using pip version 21.0.1; however, version 23.2.1 is available.\r\nYou should consider upgrading via the &#39;/databricks/python3/bin/python -m pip install --upgrade pip&#39; command.</span>\r\nDefaulting to user installation because normal site-packages is not writeable\r\nRequirement already satisfied: matplotlib in /databricks/python3/lib/python3.8/site-packages (3.4.2)\r\nRequirement already satisfied: pyparsing&gt;=2.2.1 in /databricks/python3/lib/python3.8/site-packages (from matplotlib) (2.4.7)\r\nRequirement already satisfied: cycler&gt;=0.10 in /databricks/python3/lib/python3.8/site-packages (from matplotlib) (0.10.0)\r\nRequirement already satisfied: numpy&gt;=1.16 in /databricks/python3/lib/python3.8/site-packages (from matplotlib) (1.20.1)\r\nRequirement already satisfied: python-dateutil&gt;=2.7 in /databricks/python3/lib/python3.8/site-packages (from matplotlib) (2.8.1)\r\nRequirement already satisfied: pillow&gt;=6.2.0 in /databricks/python3/lib/python3.8/site-packages (from matplotlib) (8.2.0)\r\nRequirement already satisfied: kiwisolver&gt;=1.0.1 in /databricks/python3/lib/python3.8/site-packages (from matplotlib) (1.3.1)\r\nRequirement already satisfied: six in /databricks/python3/lib/python3.8/site-packages (from cycler&gt;=0.10-&gt;matplotlib) (1.15.0)\r\n<span class=\"ansi-yellow-fg\">WARNING: You are using pip version 21.0.1; however, version 23.2.1 is available.\r\nYou should consider upgrading via the &#39;/databricks/python3/bin/python -m pip install --upgrade pip&#39; command.</span>\r\nPython interpreter will be restarted.\nCollecting tensorflow\n  Downloading tensorflow-2.13.0-cp38-cp38-manylinux_2_17_x86_64.manylinux2014_x86_64.whl (524.1 MB)\nCollecting numpy&lt;=1.24.3,&gt;=1.22\n  Downloading numpy-1.24.3-cp38-cp38-manylinux_2_17_x86_64.manylinux2014_x86_64.whl (17.3 MB)\nCollecting gast&lt;=0.4.0,&gt;=0.2.1\n  Downloading gast-0.4.0-py3-none-any.whl (9.8 kB)\nCollecting grpcio&lt;2.0,&gt;=1.24.3\n  Downloading grpcio-1.56.2-cp38-cp38-manylinux_2_17_x86_64.manylinux2014_x86_64.whl (5.2 MB)\nCollecting typing-extensions&lt;4.6.0,&gt;=3.6.6\n  Downloading typing_extensions-4.5.0-py3-none-any.whl (27 kB)\nCollecting protobuf!=4.21.0,!=4.21.1,!=4.21.2,!=4.21.3,!=4.21.4,!=4.21.5,&lt;5.0.0dev,&gt;=3.20.3\n  Downloading protobuf-4.23.4-cp37-abi3-manylinux2014_x86_64.whl (304 kB)\nCollecting tensorflow-io-gcs-filesystem&gt;=0.23.1\n  Downloading tensorflow_io_gcs_filesystem-0.32.0-cp38-cp38-manylinux_2_12_x86_64.manylinux2010_x86_64.whl (2.4 MB)\nCollecting google-pasta&gt;=0.1.1\n  Downloading google_pasta-0.2.0-py3-none-any.whl (57 kB)\nCollecting flatbuffers&gt;=23.1.21\n  Downloading flatbuffers-23.5.26-py2.py3-none-any.whl (26 kB)\nRequirement already satisfied: six&gt;=1.12.0 in /databricks/python3/lib/python3.8/site-packages (from tensorflow) (1.15.0)\nCollecting termcolor&gt;=1.1.0\n  Downloading termcolor-2.3.0-py3-none-any.whl (6.9 kB)\nCollecting wrapt&gt;=1.11.0\n  Downloading wrapt-1.15.0-cp38-cp38-manylinux_2_5_x86_64.manylinux1_x86_64.manylinux_2_17_x86_64.manylinux2014_x86_64.whl (81 kB)\nRequirement already satisfied: setuptools in /usr/local/lib/python3.8/dist-packages (from tensorflow) (52.0.0)\nCollecting keras&lt;2.14,&gt;=2.13.1\n  Downloading keras-2.13.1-py3-none-any.whl (1.7 MB)\nCollecting opt-einsum&gt;=2.3.2\n  Downloading opt_einsum-3.3.0-py3-none-any.whl (65 kB)\nCollecting tensorflow-estimator&lt;2.14,&gt;=2.13.0\n  Downloading tensorflow_estimator-2.13.0-py2.py3-none-any.whl (440 kB)\nCollecting h5py&gt;=2.9.0\n  Downloading h5py-3.9.0-cp38-cp38-manylinux_2_17_x86_64.manylinux2014_x86_64.whl (4.8 MB)\nRequirement already satisfied: packaging in /databricks/python3/lib/python3.8/site-packages (from tensorflow) (20.9)\nCollecting tensorboard&lt;2.14,&gt;=2.13\n  Downloading tensorboard-2.13.0-py3-none-any.whl (5.6 MB)\nCollecting libclang&gt;=13.0.0\n  Downloading libclang-16.0.6-py2.py3-none-manylinux2010_x86_64.whl (22.9 MB)\nCollecting astunparse&gt;=1.6.0\n  Downloading astunparse-1.6.3-py2.py3-none-any.whl (12 kB)\nCollecting absl-py&gt;=1.0.0\n  Downloading absl_py-1.4.0-py3-none-any.whl (126 kB)\nRequirement already satisfied: wheel&lt;1.0,&gt;=0.23.0 in /databricks/python3/lib/python3.8/site-packages (from astunparse&gt;=1.6.0-&gt;tensorflow) (0.36.2)\nCollecting tensorboard-data-server&lt;0.8.0,&gt;=0.7.0\n  Downloading tensorboard_data_server-0.7.1-py3-none-manylinux2014_x86_64.whl (6.6 MB)\nCollecting google-auth&lt;3,&gt;=1.6.3\n  Downloading google_auth-2.22.0-py2.py3-none-any.whl (181 kB)\nCollecting google-auth-oauthlib&lt;1.1,&gt;=0.5\n  Downloading google_auth_oauthlib-1.0.0-py2.py3-none-any.whl (18 kB)\nRequirement already satisfied: requests&lt;3,&gt;=2.21.0 in /databricks/python3/lib/python3.8/site-packages (from tensorboard&lt;2.14,&gt;=2.13-&gt;tensorflow) (2.25.1)\nCollecting werkzeug&gt;=1.0.1\n  Downloading Werkzeug-2.3.6-py3-none-any.whl (242 kB)\nCollecting markdown&gt;=2.6.8\n  Downloading Markdown-3.4.3-py3-none-any.whl (93 kB)\nCollecting cachetools&lt;6.0,&gt;=2.0.0\n  Downloading cachetools-5.3.1-py3-none-any.whl (9.3 kB)\nCollecting rsa&lt;5,&gt;=3.1.4\n  Downloading rsa-4.9-py3-none-any.whl (34 kB)\nCollecting pyasn1-modules&gt;=0.2.1\n  Downloading pyasn1_modules-0.3.0-py2.py3-none-any.whl (181 kB)\nRequirement already satisfied: urllib3&lt;2.0 in /databricks/python3/lib/python3.8/site-packages (from google-auth&lt;3,&gt;=1.6.3-&gt;tensorboard&lt;2.14,&gt;=2.13-&gt;tensorflow) (1.25.11)\nCollecting requests-oauthlib&gt;=0.7.0\n  Downloading requests_oauthlib-1.3.1-py2.py3-none-any.whl (23 kB)\nCollecting importlib-metadata&gt;=4.4\n  Downloading importlib_metadata-6.8.0-py3-none-any.whl (22 kB)\nCollecting zipp&gt;=0.5\n  Downloading zipp-3.16.2-py3-none-any.whl (7.2 kB)\nCollecting pyasn1&lt;0.6.0,&gt;=0.4.6\n  Downloading pyasn1-0.5.0-py2.py3-none-any.whl (83 kB)\nRequirement already satisfied: certifi&gt;=2017.4.17 in /databricks/python3/lib/python3.8/site-packages (from requests&lt;3,&gt;=2.21.0-&gt;tensorboard&lt;2.14,&gt;=2.13-&gt;tensorflow) (2020.12.5)\nRequirement already satisfied: chardet&lt;5,&gt;=3.0.2 in /databricks/python3/lib/python3.8/site-packages (from requests&lt;3,&gt;=2.21.0-&gt;tensorboard&lt;2.14,&gt;=2.13-&gt;tensorflow) (4.0.0)\nRequirement already satisfied: idna&lt;3,&gt;=2.5 in /databricks/python3/lib/python3.8/site-packages (from requests&lt;3,&gt;=2.21.0-&gt;tensorboard&lt;2.14,&gt;=2.13-&gt;tensorflow) (2.10)\nCollecting oauthlib&gt;=3.0.0\n  Downloading oauthlib-3.2.2-py3-none-any.whl (151 kB)\nCollecting MarkupSafe&gt;=2.1.1\n  Downloading MarkupSafe-2.1.3-cp38-cp38-manylinux_2_17_x86_64.manylinux2014_x86_64.whl (25 kB)\nRequirement already satisfied: pyparsing&gt;=2.0.2 in /databricks/python3/lib/python3.8/site-packages (from packaging-&gt;tensorflow) (2.4.7)\nInstalling collected packages: pyasn1, zipp, rsa, pyasn1-modules, oauthlib, cachetools, requests-oauthlib, MarkupSafe, importlib-metadata, google-auth, werkzeug, tensorboard-data-server, protobuf, numpy, markdown, grpcio, google-auth-oauthlib, absl-py, wrapt, typing-extensions, termcolor, tensorflow-io-gcs-filesystem, tensorflow-estimator, tensorboard, opt-einsum, libclang, keras, h5py, google-pasta, gast, flatbuffers, astunparse, tensorflow\n  Attempting uninstall: MarkupSafe\n    Found existing installation: MarkupSafe 2.0.1\n    Not uninstalling markupsafe at /databricks/python3/lib/python3.8/site-packages, outside environment /local_disk0/.ephemeral_nfs/envs/pythonEnv-2c650b27-d283-4e9d-adf8-92bb3ab2fdd8\n    Can&#39;t uninstall &#39;MarkupSafe&#39;. No files were found to uninstall.\n  Attempting uninstall: protobuf\n    Found existing installation: protobuf 3.17.2\n    Not uninstalling protobuf at /databricks/python3/lib/python3.8/site-packages, outside environment /local_disk0/.ephemeral_nfs/envs/pythonEnv-2c650b27-d283-4e9d-adf8-92bb3ab2fdd8\n    Can&#39;t uninstall &#39;protobuf&#39;. No files were found to uninstall.\n  Attempting uninstall: numpy\n    Found existing installation: numpy 1.20.1\n    Not uninstalling numpy at /databricks/python3/lib/python3.8/site-packages, outside environment /local_disk0/.ephemeral_nfs/envs/pythonEnv-2c650b27-d283-4e9d-adf8-92bb3ab2fdd8\n    Can&#39;t uninstall &#39;numpy&#39;. No files were found to uninstall.\nERROR: pip&#39;s dependency resolver does not currently take into account all the packages that are installed. This behaviour is the source of the following dependency conflicts.\nscipy 1.6.2 requires numpy&lt;1.23.0,&gt;=1.16.5, but you have numpy 1.24.3 which is incompatible.\nSuccessfully installed MarkupSafe-2.1.3 absl-py-1.4.0 astunparse-1.6.3 cachetools-5.3.1 flatbuffers-23.5.26 gast-0.4.0 google-auth-2.22.0 google-auth-oauthlib-1.0.0 google-pasta-0.2.0 grpcio-1.56.2 h5py-3.9.0 importlib-metadata-6.8.0 keras-2.13.1 libclang-16.0.6 markdown-3.4.3 numpy-1.24.3 oauthlib-3.2.2 opt-einsum-3.3.0 protobuf-4.23.4 pyasn1-0.5.0 pyasn1-modules-0.3.0 requests-oauthlib-1.3.1 rsa-4.9 tensorboard-2.13.0 tensorboard-data-server-0.7.1 tensorflow-2.13.0 tensorflow-estimator-2.13.0 tensorflow-io-gcs-filesystem-0.32.0 termcolor-2.3.0 typing-extensions-4.5.0 werkzeug-2.3.6 wrapt-1.15.0 zipp-3.16.2\nPython interpreter will be restarted.\n</div>",
              "datasetInfos": [],
              "metadata": {},
              "removedWidgets": [],
              "type": "html"
            }
          }
        }
      ],
      "source": [
        "! pip install --upgrade pip\n",
        "! pip install matplotlib\n",
        "%pip install tensorflow"
      ]
    },
    {
      "cell_type": "code",
      "execution_count": null,
      "metadata": {
        "application/vnd.databricks.v1+cell": {
          "cellMetadata": {
            "byteLimit": 2048000,
            "rowLimit": 10000
          },
          "inputWidgets": {},
          "nuid": "c70ff09d-f094-4e52-a54c-1b2c572d4d13",
          "showTitle": false,
          "title": ""
        },
        "id": "mMpB8nCtirM0",
        "outputId": "e34152f5-3b1b-4cf6-cb25-52e591347b8a"
      },
      "outputs": [
        {
          "output_type": "display_data",
          "data": {
            "text/html": [
              "<style scoped>\n",
              "  .ansiout {\n",
              "    display: block;\n",
              "    unicode-bidi: embed;\n",
              "    white-space: pre-wrap;\n",
              "    word-wrap: break-word;\n",
              "    word-break: break-all;\n",
              "    font-family: \"Source Code Pro\", \"Menlo\", monospace;;\n",
              "    font-size: 13px;\n",
              "    color: #555;\n",
              "    margin-left: 4px;\n",
              "    line-height: 19px;\n",
              "  }\n",
              "</style>\n",
              "<div class=\"ansiout\"></div>"
            ]
          },
          "metadata": {
            "application/vnd.databricks.v1+output": {
              "addedWidgets": {},
              "arguments": {},
              "data": "<div class=\"ansiout\"></div>",
              "datasetInfos": [],
              "metadata": {},
              "removedWidgets": [],
              "type": "html"
            }
          }
        }
      ],
      "source": [
        "from pyspark.sql.types import IntegerType,DecimalType\n",
        "from itertools import chain\n",
        "import pyspark.sql.functions as f\n",
        "from pyspark.sql import Row\n",
        "from pyspark.sql.functions import *\n",
        "from pyspark.sql.types import ArrayType, DoubleType, FloatType, StringType\n",
        "from pyspark.sql.window import Window\n",
        "import numpy as np\n",
        "import pandas as pd\n",
        "from datetime import datetime,timedelta\n",
        "from typing import List\n",
        "import math"
      ]
    },
    {
      "cell_type": "code",
      "execution_count": null,
      "metadata": {
        "application/vnd.databricks.v1+cell": {
          "cellMetadata": {
            "byteLimit": 2048000,
            "rowLimit": 10000
          },
          "inputWidgets": {},
          "nuid": "97f740e1-0454-4400-9d2b-19a301769652",
          "showTitle": false,
          "title": ""
        },
        "id": "NY6lEr-NirM2",
        "outputId": "5b0cf082-04a6-4b1e-cf80-04e9866644e4"
      },
      "outputs": [
        {
          "output_type": "display_data",
          "data": {
            "text/html": [
              "<style scoped>\n",
              "  .ansiout {\n",
              "    display: block;\n",
              "    unicode-bidi: embed;\n",
              "    white-space: pre-wrap;\n",
              "    word-wrap: break-word;\n",
              "    word-break: break-all;\n",
              "    font-family: \"Source Code Pro\", \"Menlo\", monospace;;\n",
              "    font-size: 13px;\n",
              "    color: #555;\n",
              "    margin-left: 4px;\n",
              "    line-height: 19px;\n",
              "  }\n",
              "</style>\n",
              "<div class=\"ansiout\"></div>"
            ]
          },
          "metadata": {
            "application/vnd.databricks.v1+output": {
              "addedWidgets": {},
              "arguments": {},
              "data": "<div class=\"ansiout\"></div>",
              "datasetInfos": [],
              "metadata": {},
              "removedWidgets": [],
              "type": "html"
            }
          }
        }
      ],
      "source": [
        "# mdb = spark.read.table('us_sequencing_analytics.Weekly_TRIAL_US_NUCALA_MODELLING_DATABASE')\n",
        "\n",
        "# HCP_list = mdb[['HCP_ID']].drop_duplicates()\n",
        "# Week_number_list = list(range(1, 53))\n",
        "# Week_number_df = spark.createDataFrame(pd.DataFrame(Week_number_list,columns = ['Week_number']))\n",
        "\n",
        "# Week_number_df = Week_number_df.crossJoin(HCP_list)\n",
        "\n",
        "# mdb = mdb.join(Week_number_df,on = ['Week_number','HCP_ID'],how = 'right')\n",
        "# mdb = mdb.withColumn('CARRYOVER_SALES',lag(col('APLD_CLAIMS_TOTAL'),1).over(Window.partitionBy('HCP_ID').orderBy('Week_Number')))\n",
        "# mdb.write.mode(\"overwrite\").option(\"overwriteSchema\", \"True\").saveAsTable('us_sequencing_analytics.Weekly_TRIAL_US_NUCALA_MODELLING_DATABASE_V1')"
      ]
    },
    {
      "cell_type": "code",
      "execution_count": null,
      "metadata": {
        "application/vnd.databricks.v1+cell": {
          "cellMetadata": {
            "byteLimit": 2048000,
            "rowLimit": 10000
          },
          "inputWidgets": {},
          "nuid": "b6cf8890-300e-4c12-9e8c-a52f43e41d53",
          "showTitle": true,
          "title": "Fixing Carryover Sales"
        },
        "id": "EDRYulJ5irM5",
        "outputId": "799c4aeb-37e6-4a19-9957-72bdaaf90040"
      },
      "outputs": [
        {
          "output_type": "display_data",
          "data": {
            "text/html": [
              "<style scoped>\n",
              "  .ansiout {\n",
              "    display: block;\n",
              "    unicode-bidi: embed;\n",
              "    white-space: pre-wrap;\n",
              "    word-wrap: break-word;\n",
              "    word-break: break-all;\n",
              "    font-family: \"Source Code Pro\", \"Menlo\", monospace;;\n",
              "    font-size: 13px;\n",
              "    color: #555;\n",
              "    margin-left: 4px;\n",
              "    line-height: 19px;\n",
              "  }\n",
              "</style>\n",
              "<div class=\"ansiout\"></div>"
            ]
          },
          "metadata": {
            "application/vnd.databricks.v1+output": {
              "addedWidgets": {},
              "arguments": {},
              "data": "<div class=\"ansiout\"></div>",
              "datasetInfos": [],
              "metadata": {},
              "removedWidgets": [],
              "type": "html"
            }
          }
        }
      ],
      "source": [
        "\n",
        "# mdb = spark.read.table('us_sequencing_analytics.Weekly_TRIAL_US_NUCALA_MODELLING_DATABASE_V2')\n",
        "# mdb = mdb.toPandas()\n",
        "\n",
        "# HCP_list = mdb[['HCP_ID']].drop_duplicates()\n",
        "# Week_number_list = list(range(1, 53))\n",
        "# Week_number_df = pd.DataFrame(Week_number_list,columns = ['Week_number'])\n",
        "\n",
        "# HCP_list['key'] = 1\n",
        "# Week_number_df['key'] = 1\n",
        "\n",
        "# Week_number_df = pd.merge(HCP_list,Week_number_df,on ='key').drop(\"key\", 1)\n",
        "\n",
        "# mdb = pd.merge(mdb,Week_number_df,on = ['Week_number','HCP_ID'],how = 'right')\n",
        "# mdb[['SEGMENT','PERSONA_SPEC_FILTERED']] = mdb[['SEGMENT','PERSONA_SPEC_FILTERED']].fillna(value='Unknown')\n",
        "# mdb = mdb.drop(\"WEEK_ID\", 1)\n",
        "\n",
        "# mdb=spark.createDataFrame(mdb)\n",
        "# mdb = mdb.withColumn('CARRYOVER_SALES',lag(col('APLD_CLAIMS_TOTAL'),1).over(Window.partitionBy('HCP_ID').orderBy('Week_Number')))\n",
        "\n",
        "# mdb.display()"
      ]
    },
    {
      "cell_type": "code",
      "execution_count": null,
      "metadata": {
        "application/vnd.databricks.v1+cell": {
          "cellMetadata": {
            "byteLimit": 2048000,
            "rowLimit": 10000
          },
          "inputWidgets": {},
          "nuid": "1a509711-f3d4-485b-9d4d-72b1a805cc23",
          "showTitle": false,
          "title": ""
        },
        "id": "FP4cCN7sirM6",
        "outputId": "6e4a0244-cf06-4dec-9ac4-1536d9bd01fa"
      },
      "outputs": [
        {
          "output_type": "display_data",
          "data": {
            "text/html": [
              "<style scoped>\n",
              "  .ansiout {\n",
              "    display: block;\n",
              "    unicode-bidi: embed;\n",
              "    white-space: pre-wrap;\n",
              "    word-wrap: break-word;\n",
              "    word-break: break-all;\n",
              "    font-family: \"Source Code Pro\", \"Menlo\", monospace;;\n",
              "    font-size: 13px;\n",
              "    color: #555;\n",
              "    margin-left: 4px;\n",
              "    line-height: 19px;\n",
              "  }\n",
              "</style>\n",
              "<div class=\"ansiout\"></div>"
            ]
          },
          "metadata": {
            "application/vnd.databricks.v1+output": {
              "addedWidgets": {},
              "arguments": {},
              "data": "<div class=\"ansiout\"></div>",
              "datasetInfos": [],
              "metadata": {},
              "removedWidgets": [],
              "type": "html"
            }
          }
        }
      ],
      "source": [
        "hcp_list = [303308,322220,360108,363401,483872,523107,565309,667184,689368,704616,838736,929922,1048716,2256220,2550804,2562726,2007117226,2019848319]\n",
        "\n",
        "mdb_s = spark.read.table('us_sequencing_analytics.Weekly_TRIAL_US_NUCALA_MODELLING_DATABASE_V2').filter(col('HCP_ID').isin(hcp_list)).filter(col('SEGMENT').isNotNull()).withColumn('GROUP',concat(col('SEGMENT'),col('PERSONA_SPEC_FILTERED')))\n",
        "\n",
        "# group = mdb_s.select('HCP_ID','SEGMENT','PERSONA_SPEC_FILTERED','GROUP').dropDuplicates()\n",
        "\n",
        "# mdb = mdb_s.toPandas()\n",
        "# group = group.toPandas()\n",
        "\n",
        "\n",
        "#\n",
        "# group['GROUP'] = group['SEGMENT'] + group['PERSONA_SPEC_FILTERED']\n",
        "\n",
        "#mdb = mdb[mdb['HCP_ID']==360108]\n",
        "\n",
        "# group = mdb[['HCP_ID','SEGMENT','PERSONA_SPEC_FILTERED']].copy().drop_duplicates()\n",
        "# group[\"GROUP\"] = group[\"SEGMENT\"] + group[\"PERSONA_SPEC_FILTERED\"]\n",
        "\n",
        "#mdb = mdb.drop(['WEEK_ID','SEGMENT','PERSONA_SPEC_FILTERED'],axis = 1).fillna(0)\n",
        "#,'SEGMENT','PERSONA_SPEC_FILTERED'\n",
        "\n",
        "# mdb = mdb[['HCP_ID', 'Week_number', 'ALERTS', 'DIGITAL_DISPLAY', 'DIRECT_MAIL',\n",
        "#        'EMAIL', 'NON_VEEVA_ASSISTED_SF', 'SAMPLES', 'SOCIAL_MEDIA',\n",
        "#        'SPEAKER_PROGRAM', 'VEEVA_ASSISTED_SF', 'VEEVA_EMAILS', 'VIDEO',\n",
        "#        'APLD_CLAIMS_TOTAL']]\n",
        "\n",
        "#'CARRYOVER_SALES',\n",
        "\n",
        "# mdb[\"GROUP\"] = mdb[\"SEGMENT\"] + mdb[\"PERSONA_SPEC_FILTERED\"]\n",
        "# group = mdb[['HCP_ID','GROUP']].drop_duplicates()\n",
        "#mdb = mdb.drop(['SEGMENT','PERSONA_SPEC_FILTERED','GROUP'],axis = 1)\n",
        "\n",
        "\n",
        "\n",
        "#.sort(asc(HCP_ID),asc(Week_Number))\n",
        "#display(mdb)"
      ]
    },
    {
      "cell_type": "code",
      "execution_count": null,
      "metadata": {
        "application/vnd.databricks.v1+cell": {
          "cellMetadata": {
            "byteLimit": 2048000,
            "rowLimit": 10000
          },
          "inputWidgets": {},
          "nuid": "6f79e998-f7b3-408b-99b4-bce2f825df62",
          "showTitle": false,
          "title": ""
        },
        "id": "zHJnjdaairM8",
        "outputId": "0dd403d9-2b83-4b04-e12d-f94458b9897d"
      },
      "outputs": [
        {
          "output_type": "display_data",
          "data": {
            "text/html": [
              "<style scoped>\n",
              "  .table-result-container {\n",
              "    max-height: 300px;\n",
              "    overflow: auto;\n",
              "  }\n",
              "  table, th, td {\n",
              "    border: 1px solid black;\n",
              "    border-collapse: collapse;\n",
              "  }\n",
              "  th, td {\n",
              "    padding: 5px;\n",
              "  }\n",
              "  th {\n",
              "    text-align: left;\n",
              "  }\n",
              "</style><div class='table-result-container'><table class='table-result'><thead style='background-color: white'><tr><th>HCP_ID</th><th>DIGITAL_DISPLAY</th><th>EMAIL</th><th>SOCIAL_MEDIA</th><th>VEEVA_ASSISTED_SF</th></tr></thead><tbody><tr><td>523107.0</td><td>4</td><td>8</td><td>0</td><td>1</td></tr><tr><td>667184.0</td><td>3</td><td>6</td><td>1</td><td>1</td></tr><tr><td>704616.0</td><td>4</td><td>5</td><td>1</td><td>2</td></tr><tr><td>565309.0</td><td>10</td><td>6</td><td>0</td><td>1</td></tr><tr><td>322220.0</td><td>4</td><td>6</td><td>1</td><td>1</td></tr><tr><td>2.007117226E9</td><td>1</td><td>6</td><td>1</td><td>1</td></tr><tr><td>2256220.0</td><td>4</td><td>7</td><td>0</td><td>1</td></tr><tr><td>2550804.0</td><td>2</td><td>1</td><td>1</td><td>2</td></tr><tr><td>838736.0</td><td>4</td><td>7</td><td>0</td><td>1</td></tr><tr><td>689368.0</td><td>4</td><td>1</td><td>0</td><td>3</td></tr><tr><td>2562726.0</td><td>3</td><td>9</td><td>0</td><td>2</td></tr><tr><td>1048716.0</td><td>2</td><td>2</td><td>1</td><td>2</td></tr><tr><td>363401.0</td><td>0</td><td>1</td><td>0</td><td>2</td></tr><tr><td>360108.0</td><td>1</td><td>1</td><td>0</td><td>1</td></tr><tr><td>483872.0</td><td>0</td><td>1</td><td>0</td><td>2</td></tr><tr><td>929922.0</td><td>4</td><td>7</td><td>1</td><td>0</td></tr><tr><td>2.019848319E9</td><td>2</td><td>8</td><td>1</td><td>1</td></tr><tr><td>303308.0</td><td>7</td><td>1</td><td>1</td><td>1</td></tr></tbody></table></div>"
            ]
          },
          "metadata": {
            "application/vnd.databricks.v1+output": {
              "addedWidgets": {},
              "aggData": [],
              "aggError": "",
              "aggOverflow": false,
              "aggSchema": [],
              "aggSeriesLimitReached": false,
              "aggType": "",
              "arguments": {},
              "columnCustomDisplayInfos": {},
              "data": [
                [
                  523107,
                  4,
                  8,
                  0,
                  1
                ],
                [
                  667184,
                  3,
                  6,
                  1,
                  1
                ],
                [
                  704616,
                  4,
                  5,
                  1,
                  2
                ],
                [
                  565309,
                  10,
                  6,
                  0,
                  1
                ],
                [
                  322220,
                  4,
                  6,
                  1,
                  1
                ],
                [
                  2007117226,
                  1,
                  6,
                  1,
                  1
                ],
                [
                  2256220,
                  4,
                  7,
                  0,
                  1
                ],
                [
                  2550804,
                  2,
                  1,
                  1,
                  2
                ],
                [
                  838736,
                  4,
                  7,
                  0,
                  1
                ],
                [
                  689368,
                  4,
                  1,
                  0,
                  3
                ],
                [
                  2562726,
                  3,
                  9,
                  0,
                  2
                ],
                [
                  1048716,
                  2,
                  2,
                  1,
                  2
                ],
                [
                  363401,
                  0,
                  1,
                  0,
                  2
                ],
                [
                  360108,
                  1,
                  1,
                  0,
                  1
                ],
                [
                  483872,
                  0,
                  1,
                  0,
                  2
                ],
                [
                  929922,
                  4,
                  7,
                  1,
                  0
                ],
                [
                  2019848319,
                  2,
                  8,
                  1,
                  1
                ],
                [
                  303308,
                  7,
                  1,
                  1,
                  1
                ]
              ],
              "datasetInfos": [],
              "dbfsResultPath": null,
              "isJsonSchema": true,
              "metadata": {},
              "overflow": false,
              "plotOptions": {
                "customPlotOptions": {},
                "displayType": "table",
                "pivotAggregation": null,
                "pivotColumns": null,
                "xColumns": null,
                "yColumns": null
              },
              "removedWidgets": [],
              "schema": [
                {
                  "metadata": "{}",
                  "name": "HCP_ID",
                  "type": "\"double\""
                },
                {
                  "metadata": "{}",
                  "name": "DIGITAL_DISPLAY",
                  "type": "\"long\""
                },
                {
                  "metadata": "{}",
                  "name": "EMAIL",
                  "type": "\"long\""
                },
                {
                  "metadata": "{}",
                  "name": "SOCIAL_MEDIA",
                  "type": "\"long\""
                },
                {
                  "metadata": "{}",
                  "name": "VEEVA_ASSISTED_SF",
                  "type": "\"long\""
                }
              ],
              "type": "table"
            }
          }
        }
      ],
      "source": [
        "# mdb_s = spark.read.table('us_sequencing_analytics.Weekly_TRIAL_US_NUCALA_MODELLING_DATABASE_V2').filter(col('HCP_ID').isin(hcp_list)).filter(col('SEGMENT').isNotNull()).withColumn('GROUP',concat(col('SEGMENT'),col('PERSONA_SPEC_FILTERED')))\n",
        "#group = mdb.select('HCP_ID','SEGMENT','PERSONA_SPEC_FILTERED').dropDuplicates().filter(col('SEGMENT').isNotNull())\n",
        "\n",
        "feature_list = [ 'DIGITAL_DISPLAY', 'EMAIL',  'SOCIAL_MEDIA', 'VEEVA_ASSISTED_SF']\n",
        "#'ALERTS','DIRECT_MAIL','NON_VEEVA_ASSISTED_SF', 'SAMPLES','SPEAKER_PROGRAM', 'VEEVA_EMAILS', 'VIDEO'\n",
        "\n",
        "mdb_agg = mdb_s.groupby('HCP_ID').agg(ceil(mean('ALERTS')*4).alias('ALERTS'),ceil(mean('DIGITAL_DISPLAY')*4).alias('DIGITAL_DISPLAY'),ceil(mean( 'DIRECT_MAIL')*4).alias('DIRECT_MAIL'),ceil(mean('EMAIL')*4).alias('EMAIL'),ceil(mean( 'NON_VEEVA_ASSISTED_SF')*4).alias('NON_VEEVA_ASSISTED_SF'),ceil(mean( 'SAMPLES')*4).alias('SAMPLES'),ceil(mean( 'SOCIAL_MEDIA')*4).alias('SOCIAL_MEDIA'),ceil(mean('SPEAKER_PROGRAM')*4).alias('SPEAKER_PROGRAM'),ceil(mean( 'VEEVA_ASSISTED_SF')*4).alias('VEEVA_ASSISTED_SF'),ceil(mean( 'VEEVA_EMAILS')*4).alias('VEEVA_EMAILS'),ceil(mean( 'VIDEO')*4).alias('VIDEO'))\n",
        "\n",
        "mdb_agg = mdb_agg.select(['HCP_ID']+feature_list)\n",
        "\n",
        "mdb_agg.display()"
      ]
    },
    {
      "cell_type": "code",
      "execution_count": null,
      "metadata": {
        "application/vnd.databricks.v1+cell": {
          "cellMetadata": {
            "byteLimit": 2048000,
            "rowLimit": 10000
          },
          "inputWidgets": {},
          "nuid": "b9547c1b-ccdb-4c69-a1a7-be1a386f949e",
          "showTitle": true,
          "title": "Add numbers to the residues to make them whole"
        },
        "id": "RpJWKsicirM-",
        "outputId": "a46066be-bba2-4fd4-a4c9-90c198e5a1d4"
      },
      "outputs": [
        {
          "output_type": "display_data",
          "data": {
            "text/html": [
              "<style scoped>\n",
              "  .table-result-container {\n",
              "    max-height: 300px;\n",
              "    overflow: auto;\n",
              "  }\n",
              "  table, th, td {\n",
              "    border: 1px solid black;\n",
              "    border-collapse: collapse;\n",
              "  }\n",
              "  th, td {\n",
              "    padding: 5px;\n",
              "  }\n",
              "  th {\n",
              "    text-align: left;\n",
              "  }\n",
              "</style><div class='table-result-container'><table class='table-result'><thead style='background-color: white'><tr><th>HCP_ID</th><th>DIGITAL_DISPLAY</th><th>EMAIL</th><th>SOCIAL_MEDIA</th><th>VEEVA_ASSISTED_SF</th></tr></thead><tbody><tr><td>838736.0</td><td>4.0</td><td>7.0</td><td>0.0</td><td>1.0</td></tr><tr><td>689368.0</td><td>4.0</td><td>1.0</td><td>0.0</td><td>3.0</td></tr><tr><td>2562726.0</td><td>3.0</td><td>9.0</td><td>0.0</td><td>2.0</td></tr><tr><td>1048716.0</td><td>2.0</td><td>2.0</td><td>1.0</td><td>2.0</td></tr><tr><td>363401.0</td><td>0.0</td><td>1.0</td><td>0.0</td><td>2.0</td></tr><tr><td>523107.0</td><td>4.0</td><td>8.0</td><td>0.0</td><td>1.0</td></tr><tr><td>667184.0</td><td>3.0</td><td>6.0</td><td>1.0</td><td>1.0</td></tr><tr><td>565309.0</td><td>10.0</td><td>6.0</td><td>0.0</td><td>1.0</td></tr><tr><td>322220.0</td><td>4.0</td><td>6.0</td><td>1.0</td><td>1.0</td></tr><tr><td>704616.0</td><td>4.0</td><td>5.0</td><td>1.0</td><td>2.0</td></tr><tr><td>360108.0</td><td>1.0</td><td>1.0</td><td>0.0</td><td>1.0</td></tr><tr><td>483872.0</td><td>0.0</td><td>1.0</td><td>0.0</td><td>2.0</td></tr><tr><td>929922.0</td><td>4.0</td><td>7.0</td><td>1.0</td><td>0.0</td></tr><tr><td>2.007117226E9</td><td>1.0</td><td>6.0</td><td>1.0</td><td>1.0</td></tr><tr><td>2256220.0</td><td>4.0</td><td>7.0</td><td>0.0</td><td>1.0</td></tr><tr><td>2550804.0</td><td>2.0</td><td>1.0</td><td>1.0</td><td>2.0</td></tr><tr><td>2.019848319E9</td><td>2.0</td><td>8.0</td><td>1.0</td><td>1.0</td></tr><tr><td>303308.0</td><td>7.0</td><td>1.0</td><td>1.0</td><td>1.0</td></tr></tbody></table></div>"
            ]
          },
          "metadata": {
            "application/vnd.databricks.v1+output": {
              "addedWidgets": {},
              "aggData": [],
              "aggError": "",
              "aggOverflow": false,
              "aggSchema": [],
              "aggSeriesLimitReached": false,
              "aggType": "",
              "arguments": {},
              "columnCustomDisplayInfos": {},
              "data": [
                [
                  838736,
                  4,
                  7,
                  0,
                  1
                ],
                [
                  689368,
                  4,
                  1,
                  0,
                  3
                ],
                [
                  2562726,
                  3,
                  9,
                  0,
                  2
                ],
                [
                  1048716,
                  2,
                  2,
                  1,
                  2
                ],
                [
                  363401,
                  0,
                  1,
                  0,
                  2
                ],
                [
                  523107,
                  4,
                  8,
                  0,
                  1
                ],
                [
                  667184,
                  3,
                  6,
                  1,
                  1
                ],
                [
                  565309,
                  10,
                  6,
                  0,
                  1
                ],
                [
                  322220,
                  4,
                  6,
                  1,
                  1
                ],
                [
                  704616,
                  4,
                  5,
                  1,
                  2
                ],
                [
                  360108,
                  1,
                  1,
                  0,
                  1
                ],
                [
                  483872,
                  0,
                  1,
                  0,
                  2
                ],
                [
                  929922,
                  4,
                  7,
                  1,
                  0
                ],
                [
                  2007117226,
                  1,
                  6,
                  1,
                  1
                ],
                [
                  2256220,
                  4,
                  7,
                  0,
                  1
                ],
                [
                  2550804,
                  2,
                  1,
                  1,
                  2
                ],
                [
                  2019848319,
                  2,
                  8,
                  1,
                  1
                ],
                [
                  303308,
                  7,
                  1,
                  1,
                  1
                ]
              ],
              "datasetInfos": [],
              "dbfsResultPath": null,
              "isJsonSchema": true,
              "metadata": {},
              "overflow": false,
              "plotOptions": {
                "customPlotOptions": {},
                "displayType": "table",
                "pivotAggregation": null,
                "pivotColumns": null,
                "xColumns": null,
                "yColumns": null
              },
              "removedWidgets": [],
              "schema": [
                {
                  "metadata": "{}",
                  "name": "HCP_ID",
                  "type": "\"double\""
                },
                {
                  "metadata": "{}",
                  "name": "DIGITAL_DISPLAY",
                  "type": "\"double\""
                },
                {
                  "metadata": "{}",
                  "name": "EMAIL",
                  "type": "\"double\""
                },
                {
                  "metadata": "{}",
                  "name": "SOCIAL_MEDIA",
                  "type": "\"double\""
                },
                {
                  "metadata": "{}",
                  "name": "VEEVA_ASSISTED_SF",
                  "type": "\"double\""
                }
              ],
              "type": "table"
            }
          }
        }
      ],
      "source": [
        "for col_name in feature_list:\n",
        "    mdb_agg = mdb_agg.withColumn(col_name, col(col_name).cast(DoubleType()))\n",
        "\n",
        "def delta4(variable):\n",
        "    var_agg = ((variable/4)-math.trunc(variable/4))*4\n",
        "    return var_agg\n",
        "\n",
        "delta4_1 = udf(delta4, DoubleType())\n",
        "\n",
        "for col_name in feature_list:\n",
        "    mdb_agg_res = mdb_agg.withColumn(col_name, delta4_1(col_name))\n",
        "\n",
        "mdb_agg_res.display()"
      ]
    },
    {
      "cell_type": "code",
      "execution_count": null,
      "metadata": {
        "application/vnd.databricks.v1+cell": {
          "cellMetadata": {
            "byteLimit": 2048000,
            "rowLimit": 10000
          },
          "inputWidgets": {},
          "nuid": "b4d3dc2a-9edb-4c70-b0bb-6d8f39bd3f71",
          "showTitle": false,
          "title": ""
        },
        "id": "zdeWAs0cirNA",
        "outputId": "bd9ecce6-c0f5-4b03-a1be-11534f4821e8"
      },
      "outputs": [
        {
          "output_type": "display_data",
          "data": {
            "text/html": [
              "<style scoped>\n",
              "  .ansiout {\n",
              "    display: block;\n",
              "    unicode-bidi: embed;\n",
              "    white-space: pre-wrap;\n",
              "    word-wrap: break-word;\n",
              "    word-break: break-all;\n",
              "    font-family: \"Source Code Pro\", \"Menlo\", monospace;;\n",
              "    font-size: 13px;\n",
              "    color: #555;\n",
              "    margin-left: 4px;\n",
              "    line-height: 19px;\n",
              "  }\n",
              "</style>\n",
              "<div class=\"ansiout\"></div>"
            ]
          },
          "metadata": {
            "application/vnd.databricks.v1+output": {
              "addedWidgets": {},
              "arguments": {},
              "data": "<div class=\"ansiout\"></div>",
              "datasetInfos": [],
              "metadata": {},
              "removedWidgets": [],
              "type": "html"
            }
          }
        }
      ],
      "source": [
        "# mapping_expr = create_map([lit(x) for x in chain(*pers_dict.items())])\n",
        "# mdb_agg_res = mdb_agg_res.withColumn('Alerts_csv', mapping_expr[mdb_agg_res['ALERTS']])\n",
        "\n",
        "# mdb_agg_res = mdb_agg_res.withColumn('temp', split('Alerts_csv', '\\\\,')).select(*(col('temp').getItem(i).alias('ALERTS_W{i}').cast('integer') for i in range(4)),'HCP_ID',\n",
        "#  'ALERTS',\n",
        "#  'DIGITAL_DISPLAY',\n",
        "#  'DIRECT_MAIL',\n",
        "#  'EMAIL',\n",
        "#  'NON_VEEVA_ASSISTED_SF',\n",
        "#  'SAMPLES',\n",
        "#  'SOCIAL_MEDIA',\n",
        "#  'SPEAKER_PROGRAM',\n",
        "#  'VEEVA_ASSISTED_SF',\n",
        "#  'VEEVA_EMAILS',\n",
        "#  'VIDEO',\n",
        "#  'APLD_CLAIMS_TOTAL')\n",
        "\n",
        "# mdb_agg_res = mdb_agg_res.toDF(\"ALERTS_W1\",\"ALERTS_W2\",\"ALERTS_W3\",'ALERTS_W4','HCP_ID',\n",
        "#  'ALERTS',\n",
        "#  'DIGITAL_DISPLAY',\n",
        "#  'DIRECT_MAIL',\n",
        "#  'EMAIL',\n",
        "#  'NON_VEEVA_ASSISTED_SF',\n",
        "#  'SAMPLES',\n",
        "#  'SOCIAL_MEDIA',\n",
        "#  'SPEAKER_PROGRAM',\n",
        "#  'VEEVA_ASSISTED_SF',\n",
        "#  'VEEVA_EMAILS',\n",
        "#  'VIDEO',\n",
        "#  'APLD_CLAIMS_TOTAL').na.fill(value = 0,subset = [\"ALERTS_W1\",\"ALERTS_W2\",\"ALERTS_W3\",'ALERTS_W4'])\n",
        "\n",
        "#  mdb_agg_res.display()"
      ]
    },
    {
      "cell_type": "code",
      "execution_count": null,
      "metadata": {
        "application/vnd.databricks.v1+cell": {
          "cellMetadata": {
            "byteLimit": 2048000,
            "rowLimit": 10000
          },
          "inputWidgets": {},
          "nuid": "e7acac87-43a3-426f-8709-90dab18048b2",
          "showTitle": false,
          "title": ""
        },
        "id": "eq23swf7irNB",
        "outputId": "02705a84-722d-4e07-982f-665b171a3e13"
      },
      "outputs": [
        {
          "output_type": "display_data",
          "data": {
            "text/html": [
              "<style scoped>\n",
              "  .ansiout {\n",
              "    display: block;\n",
              "    unicode-bidi: embed;\n",
              "    white-space: pre-wrap;\n",
              "    word-wrap: break-word;\n",
              "    word-break: break-all;\n",
              "    font-family: \"Source Code Pro\", \"Menlo\", monospace;;\n",
              "    font-size: 13px;\n",
              "    color: #555;\n",
              "    margin-left: 4px;\n",
              "    line-height: 19px;\n",
              "  }\n",
              "</style>\n",
              "<div class=\"ansiout\"></div>"
            ]
          },
          "metadata": {
            "application/vnd.databricks.v1+output": {
              "addedWidgets": {},
              "arguments": {},
              "data": "<div class=\"ansiout\"></div>",
              "datasetInfos": [],
              "metadata": {},
              "removedWidgets": [],
              "type": "html"
            }
          }
        }
      ],
      "source": [
        "import itertools\n",
        "\n",
        "W1 = [0,1]\n",
        "W2 = [0,1]\n",
        "W3 = [0,1]\n",
        "W4 = [0,1]\n",
        "\n",
        "combinations = list(itertools.product(W1,W2,W3,W4))\n",
        "\n",
        "dict_df = pd.DataFrame(combinations,columns = ['W1','W2','W3','W4'])\n",
        "#spark.createDataFrame(list(zip(dict_PCA_1[1], dict_PCA_1[2])), [\"row\", \"combo\"])\n",
        "#dict_df.display()\n",
        "week_combos = spark.createDataFrame(dict_df).withColumn('sum',col('W1')+col('W2')+col('W3')+col('W4'))\n",
        "#week_combos.display()\n",
        "\n",
        "# melt_dict_df=dict_df.reset_index().melt(id_vars = ['index'],value_vars =['W1', 'W2', 'W3','W4'])\n",
        "# melt_week_combos = spark.createDataFrame(melt_dict_df)\n",
        "# melt_week_combos.display()"
      ]
    },
    {
      "cell_type": "code",
      "execution_count": null,
      "metadata": {
        "application/vnd.databricks.v1+cell": {
          "cellMetadata": {
            "byteLimit": 2048000,
            "rowLimit": 10000
          },
          "inputWidgets": {},
          "nuid": "83941718-301a-48c7-8384-a9877a6d8df7",
          "showTitle": false,
          "title": ""
        },
        "id": "t131Ghl1irNC",
        "outputId": "f8fa9d73-5f96-4774-ab12-525986ab5595"
      },
      "outputs": [
        {
          "output_type": "display_data",
          "data": {
            "text/html": [
              "<style scoped>\n",
              "  .ansiout {\n",
              "    display: block;\n",
              "    unicode-bidi: embed;\n",
              "    white-space: pre-wrap;\n",
              "    word-wrap: break-word;\n",
              "    word-break: break-all;\n",
              "    font-family: \"Source Code Pro\", \"Menlo\", monospace;;\n",
              "    font-size: 13px;\n",
              "    color: #555;\n",
              "    margin-left: 4px;\n",
              "    line-height: 19px;\n",
              "  }\n",
              "</style>\n",
              "<div class=\"ansiout\"></div>"
            ]
          },
          "metadata": {
            "application/vnd.databricks.v1+output": {
              "addedWidgets": {},
              "arguments": {},
              "data": "<div class=\"ansiout\"></div>",
              "datasetInfos": [],
              "metadata": {},
              "removedWidgets": [],
              "type": "html"
            }
          }
        }
      ],
      "source": [
        "#index = animals.index('dog')"
      ]
    },
    {
      "cell_type": "code",
      "execution_count": null,
      "metadata": {
        "application/vnd.databricks.v1+cell": {
          "cellMetadata": {
            "byteLimit": 2048000,
            "rowLimit": 10000
          },
          "inputWidgets": {},
          "nuid": "b7efcd25-9d20-453a-9816-b3a7bf7162f6",
          "showTitle": false,
          "title": ""
        },
        "id": "0bJLdtImirND",
        "outputId": "7951b698-7509-4560-b03d-7b8fcd6c9736"
      },
      "outputs": [
        {
          "output_type": "display_data",
          "data": {
            "text/html": [
              "<style scoped>\n",
              "  .ansiout {\n",
              "    display: block;\n",
              "    unicode-bidi: embed;\n",
              "    white-space: pre-wrap;\n",
              "    word-wrap: break-word;\n",
              "    word-break: break-all;\n",
              "    font-family: \"Source Code Pro\", \"Menlo\", monospace;;\n",
              "    font-size: 13px;\n",
              "    color: #555;\n",
              "    margin-left: 4px;\n",
              "    line-height: 19px;\n",
              "  }\n",
              "</style>\n",
              "<div class=\"ansiout\"></div>"
            ]
          },
          "metadata": {
            "application/vnd.databricks.v1+output": {
              "addedWidgets": {},
              "arguments": {},
              "data": "<div class=\"ansiout\"></div>",
              "datasetInfos": [],
              "metadata": {},
              "removedWidgets": [],
              "type": "html"
            }
          }
        }
      ],
      "source": [
        "#'us_sequencing_analytics.'+str(col_name)"
      ]
    },
    {
      "cell_type": "code",
      "execution_count": null,
      "metadata": {
        "application/vnd.databricks.v1+cell": {
          "cellMetadata": {
            "byteLimit": 2048000,
            "implicitDf": true,
            "rowLimit": 10000
          },
          "inputWidgets": {},
          "nuid": "724fc099-7025-4178-b378-b6fd3acd6bf9",
          "showTitle": false,
          "title": ""
        },
        "id": "YiZjPwYpirND",
        "outputId": "72df6d4a-a40d-4931-9e4f-e9dedfa03b31"
      },
      "outputs": [
        {
          "output_type": "display_data",
          "data": {
            "text/html": [
              "<style scoped>\n",
              "  .table-result-container {\n",
              "    max-height: 300px;\n",
              "    overflow: auto;\n",
              "  }\n",
              "  table, th, td {\n",
              "    border: 1px solid black;\n",
              "    border-collapse: collapse;\n",
              "  }\n",
              "  th, td {\n",
              "    padding: 5px;\n",
              "  }\n",
              "  th {\n",
              "    text-align: left;\n",
              "  }\n",
              "</style><div class='table-result-container'><table class='table-result'><thead style='background-color: white'><tr></tr></thead><tbody></tbody></table></div>"
            ]
          },
          "metadata": {
            "application/vnd.databricks.v1+output": {
              "addedWidgets": {},
              "aggData": [],
              "aggError": "",
              "aggOverflow": false,
              "aggSchema": [],
              "aggSeriesLimitReached": false,
              "aggType": "",
              "arguments": {},
              "columnCustomDisplayInfos": {},
              "data": [],
              "datasetInfos": [],
              "dbfsResultPath": null,
              "isJsonSchema": true,
              "metadata": {},
              "overflow": false,
              "plotOptions": {
                "customPlotOptions": {},
                "displayType": "table",
                "pivotAggregation": null,
                "pivotColumns": null,
                "xColumns": null,
                "yColumns": null
              },
              "removedWidgets": [],
              "schema": [],
              "type": "table"
            }
          }
        }
      ],
      "source": [
        "%sql\n",
        "drop table if exists us_sequencing_analytics.weekly_ALERTS;\n",
        "drop table if exists us_sequencing_analytics.weekly_DIGITAL_DISPLAY;\n",
        "drop table if exists us_sequencing_analytics.weekly_DIRECT_MAIL;\n",
        "drop table if exists us_sequencing_analytics.weekly_EMAIL;\n",
        "drop table if exists us_sequencing_analytics.weekly_NON_VEEVA_ASSISTED_SF;\n",
        "drop table if exists us_sequencing_analytics.weekly_SAMPLES;\n",
        "drop table if exists us_sequencing_analytics.weekly_SOCIAL_MEDIA;\n",
        "drop table if exists us_sequencing_analytics.weekly_SPEAKER_PROGRAM;\n",
        "drop table if exists us_sequencing_analytics.weekly_VEEVA_ASSISTED_SF;\n",
        "drop table if exists us_sequencing_analytics.weekly_VEEVA_EMAILS;\n",
        "drop table if exists us_sequencing_analytics.weekly_VIDEO;\n",
        "\n",
        "\n",
        "--'ALERTS', 'DIGITAL_DISPLAY', 'DIRECT_MAIL','EMAIL', 'NON_VEEVA_ASSISTED_SF', 'SAMPLES', 'SOCIAL_MEDIA','SPEAKER_PROGRAM', 'VEEVA_ASSISTED_SF', 'VEEVA_EMAILS', 'VIDEO'"
      ]
    },
    {
      "cell_type": "code",
      "execution_count": null,
      "metadata": {
        "application/vnd.databricks.v1+cell": {
          "cellMetadata": {
            "byteLimit": 2048000,
            "rowLimit": 10000
          },
          "inputWidgets": {},
          "nuid": "366d5a3c-93e5-4348-af67-42105fb482fe",
          "showTitle": false,
          "title": ""
        },
        "id": "74MJY-DDirND",
        "outputId": "e7021850-7635-4c17-cfe2-6268b823b229"
      },
      "outputs": [
        {
          "output_type": "display_data",
          "data": {
            "text/html": [
              "<style scoped>\n",
              "  .ansiout {\n",
              "    display: block;\n",
              "    unicode-bidi: embed;\n",
              "    white-space: pre-wrap;\n",
              "    word-wrap: break-word;\n",
              "    word-break: break-all;\n",
              "    font-family: \"Source Code Pro\", \"Menlo\", monospace;;\n",
              "    font-size: 13px;\n",
              "    color: #555;\n",
              "    margin-left: 4px;\n",
              "    line-height: 19px;\n",
              "  }\n",
              "</style>\n",
              "<div class=\"ansiout\"></div>"
            ]
          },
          "metadata": {
            "application/vnd.databricks.v1+output": {
              "addedWidgets": {},
              "arguments": {},
              "data": "<div class=\"ansiout\"></div>",
              "datasetInfos": [],
              "metadata": {},
              "removedWidgets": [],
              "type": "html"
            }
          }
        }
      ],
      "source": [
        "for col_name in feature_list:\n",
        "    df = mdb_agg_res.filter(col('HCP_ID').isin(hcp_list)).select('HCP_ID',col_name).join(week_combos.select([col(c).alias(col_name+c) for c in week_combos.columns])).filter(col(col_name)==col(col_name+'sum'))\n",
        "    #\n",
        "    path = 'us_sequencing_analytics.weekly_'+str(col_name)\n",
        "    df.write.mode(\"overwrite\").option(\"overwriteSchema\", \"True\").saveAsTable(path)\n",
        "    #df = pd.DataFrame(df)\n",
        "\n",
        "    #df.melt(['HCP_ID','ALERTS'], ['W1', 'W2', 'W3','W4'], 'B', 'C')\n",
        "    #df.select([F.col(c).alias(\"`\"+c+\"`\") for c in df.columns])\n",
        "\n",
        "    #df.display()"
      ]
    },
    {
      "cell_type": "code",
      "execution_count": null,
      "metadata": {
        "application/vnd.databricks.v1+cell": {
          "cellMetadata": {
            "byteLimit": 2048000,
            "rowLimit": 10000
          },
          "inputWidgets": {},
          "nuid": "a90ede9d-ea82-4f1e-8f94-840c08986d10",
          "showTitle": false,
          "title": ""
        },
        "id": "9vfMnrLairNE",
        "outputId": "4f327169-3f51-4866-acff-8d8930f78da4"
      },
      "outputs": [
        {
          "output_type": "display_data",
          "data": {
            "text/html": [
              "<style scoped>\n",
              "  .ansiout {\n",
              "    display: block;\n",
              "    unicode-bidi: embed;\n",
              "    white-space: pre-wrap;\n",
              "    word-wrap: break-word;\n",
              "    word-break: break-all;\n",
              "    font-family: \"Source Code Pro\", \"Menlo\", monospace;;\n",
              "    font-size: 13px;\n",
              "    color: #555;\n",
              "    margin-left: 4px;\n",
              "    line-height: 19px;\n",
              "  }\n",
              "</style>\n",
              "<div class=\"ansiout\"></div>"
            ]
          },
          "metadata": {
            "application/vnd.databricks.v1+output": {
              "addedWidgets": {},
              "arguments": {},
              "data": "<div class=\"ansiout\"></div>",
              "datasetInfos": [],
              "metadata": {},
              "removedWidgets": [],
              "type": "html"
            }
          }
        }
      ],
      "source": [
        "#al = spark.read.table('us_sequencing_analytics.weekly_ALERTS')\n",
        "dd = spark.read.table('us_sequencing_analytics.weekly_DIGITAL_DISPLAY')\n",
        "#dm = spark.read.table('us_sequencing_analytics.weekly_DIRECT_MAIL')\n",
        "em = spark.read.table('us_sequencing_analytics.weekly_EMAIL')\n",
        "#nsf = spark.read.table('us_sequencing_analytics.weekly_NON_VEEVA_ASSISTED_SF')\n",
        "#sam = spark.read.table('us_sequencing_analytics.weekly_SAMPLES')\n",
        "sm = spark.read.table('us_sequencing_analytics.weekly_SOCIAL_MEDIA')\n",
        "#sp = spark.read.table('us_sequencing_analytics.weekly_SPEAKER_PROGRAM')\n",
        "vsf = spark.read.table('us_sequencing_analytics.weekly_VEEVA_ASSISTED_SF')\n",
        "#vem = spark.read.table('us_sequencing_analytics.weekly_VEEVA_EMAILS')\n",
        "#vid = spark.read.table('us_sequencing_analytics.weekly_VIDEO')\n",
        "\n",
        "\n",
        "joined = vsf.join(em, on = ['HCP_ID'])\\\n",
        ".join(sm, on = ['HCP_ID'])\\\n",
        ".join(dd, on = ['HCP_ID'])\\\n",
        ".withColumn(\"Option\",monotonically_increasing_id()+1)\n",
        "# .join(al, on = ['HCP_ID'])\\\n",
        "# .join(dm, on = ['HCP_ID'])\\\n",
        "# .join(nsf, on = ['HCP_ID'])\n",
        "# .join(sam, on = ['HCP_ID'])\\\n",
        "# .join(sp, on = ['HCP_ID'])\\\n",
        "# .join(vem, on = ['HCP_ID'])\\\n",
        "# .join(vid, on = ['HCP_ID'])\\\n",
        "\n",
        "\n",
        "#W1 = joined.select('HCP_ID')"
      ]
    },
    {
      "cell_type": "code",
      "execution_count": null,
      "metadata": {
        "application/vnd.databricks.v1+cell": {
          "cellMetadata": {
            "byteLimit": 2048000,
            "rowLimit": 10000
          },
          "inputWidgets": {},
          "nuid": "5a3a6a30-9eeb-4e05-96d5-2e75d57ed3aa",
          "showTitle": false,
          "title": ""
        },
        "id": "tUZmhOs5irNE",
        "outputId": "fc338e1c-624f-49d6-8d25-e33304681fb8"
      },
      "outputs": [
        {
          "output_type": "display_data",
          "data": {
            "text/html": [
              "<style scoped>\n",
              "  .ansiout {\n",
              "    display: block;\n",
              "    unicode-bidi: embed;\n",
              "    white-space: pre-wrap;\n",
              "    word-wrap: break-word;\n",
              "    word-break: break-all;\n",
              "    font-family: \"Source Code Pro\", \"Menlo\", monospace;;\n",
              "    font-size: 13px;\n",
              "    color: #555;\n",
              "    margin-left: 4px;\n",
              "    line-height: 19px;\n",
              "  }\n",
              "</style>\n",
              "<div class=\"ansiout\">Out[14]: 1568</div>"
            ]
          },
          "metadata": {
            "application/vnd.databricks.v1+output": {
              "addedWidgets": {},
              "arguments": {},
              "data": "<div class=\"ansiout\">Out[14]: 1568</div>",
              "datasetInfos": [],
              "metadata": {},
              "removedWidgets": [],
              "type": "html"
            }
          }
        }
      ],
      "source": [
        "joined.count()"
      ]
    },
    {
      "cell_type": "code",
      "execution_count": null,
      "metadata": {
        "application/vnd.databricks.v1+cell": {
          "cellMetadata": {
            "byteLimit": 2048000,
            "rowLimit": 10000
          },
          "inputWidgets": {},
          "nuid": "2c82a6e2-61b2-419e-9d26-59d473af175d",
          "showTitle": false,
          "title": ""
        },
        "id": "qJWw7Rt6irNE",
        "outputId": "e49029f6-8f44-4db3-869e-6eda7978ad52"
      },
      "outputs": [
        {
          "output_type": "display_data",
          "data": {
            "text/html": [
              "<style scoped>\n",
              "  .ansiout {\n",
              "    display: block;\n",
              "    unicode-bidi: embed;\n",
              "    white-space: pre-wrap;\n",
              "    word-wrap: break-word;\n",
              "    word-break: break-all;\n",
              "    font-family: \"Source Code Pro\", \"Menlo\", monospace;;\n",
              "    font-size: 13px;\n",
              "    color: #555;\n",
              "    margin-left: 4px;\n",
              "    line-height: 19px;\n",
              "  }\n",
              "</style>\n",
              "<div class=\"ansiout\"></div>"
            ]
          },
          "metadata": {
            "application/vnd.databricks.v1+output": {
              "addedWidgets": {},
              "arguments": {},
              "data": "<div class=\"ansiout\"></div>",
              "datasetInfos": [],
              "metadata": {},
              "removedWidgets": [],
              "type": "html"
            }
          }
        }
      ],
      "source": [
        "df1 = joined.select([s for s in joined.columns if '1' in s]+['HCP_ID','Option']).withColumn('Week',lit(1))\n",
        "df1 = df1.select([col(c).alias({c:c.replace('W1','') for c in df1.columns}.get(c, c)) for c in df1.columns])\n",
        "\n",
        "df2 = joined.select([s for s in joined.columns if '2' in s]+['HCP_ID','Option']).withColumn('Week',lit(2))\n",
        "df2 = df2.select([col(c).alias({c:c.replace('W1','') for c in df2.columns}.get(c, c)) for c in df2.columns])\n",
        "\n",
        "df3 = joined.select([s for s in joined.columns if '3' in s]+['HCP_ID','Option']).withColumn('Week',lit(3))\n",
        "df3 = df3.select([col(c).alias({c:c.replace('W1','') for c in df3.columns}.get(c, c)) for c in df3.columns])\n",
        "\n",
        "df4 = joined.select([s for s in joined.columns if '4' in s]+['HCP_ID','Option']).withColumn('Week',lit(4))\n",
        "df4 = df4.select([col(c).alias({c:c.replace('W1','') for c in df4.columns}.get(c, c)) for c in df4.columns])\n",
        "\n",
        "options = df1.union(df2).union(df3).union(df4).sort(asc(\"HCP_ID\"),asc(\"Option\"),asc(\"Week\"))\n"
      ]
    },
    {
      "cell_type": "code",
      "execution_count": null,
      "metadata": {
        "application/vnd.databricks.v1+cell": {
          "cellMetadata": {
            "byteLimit": 2048000,
            "rowLimit": 10000
          },
          "inputWidgets": {},
          "nuid": "81b2646f-a78f-4977-9ec0-264c6c18e6e1",
          "showTitle": false,
          "title": ""
        },
        "id": "GunHnSGpirNF",
        "outputId": "c1dbdf00-737b-4694-ebd7-f2803b01b695"
      },
      "outputs": [
        {
          "output_type": "display_data",
          "data": {
            "text/html": [
              "<style scoped>\n",
              "  .ansiout {\n",
              "    display: block;\n",
              "    unicode-bidi: embed;\n",
              "    white-space: pre-wrap;\n",
              "    word-wrap: break-word;\n",
              "    word-break: break-all;\n",
              "    font-family: \"Source Code Pro\", \"Menlo\", monospace;;\n",
              "    font-size: 13px;\n",
              "    color: #555;\n",
              "    margin-left: 4px;\n",
              "    line-height: 19px;\n",
              "  }\n",
              "</style>\n",
              "<div class=\"ansiout\"></div>"
            ]
          },
          "metadata": {
            "application/vnd.databricks.v1+output": {
              "addedWidgets": {},
              "arguments": {},
              "data": "<div class=\"ansiout\"></div>",
              "datasetInfos": [],
              "metadata": {},
              "removedWidgets": [],
              "type": "html"
            }
          }
        }
      ],
      "source": [
        "#options.display()"
      ]
    },
    {
      "cell_type": "code",
      "execution_count": null,
      "metadata": {
        "application/vnd.databricks.v1+cell": {
          "cellMetadata": {
            "byteLimit": 2048000,
            "rowLimit": 10000
          },
          "inputWidgets": {},
          "nuid": "570d1bc0-bb52-4c60-9ea5-3664b6a54a06",
          "showTitle": false,
          "title": ""
        },
        "id": "tJaK649UirNF",
        "outputId": "0d4a12e9-1be1-4c92-db12-fdc25c6db271"
      },
      "outputs": [
        {
          "output_type": "display_data",
          "data": {
            "text/html": [
              "<style scoped>\n",
              "  .ansiout {\n",
              "    display: block;\n",
              "    unicode-bidi: embed;\n",
              "    white-space: pre-wrap;\n",
              "    word-wrap: break-word;\n",
              "    word-break: break-all;\n",
              "    font-family: \"Source Code Pro\", \"Menlo\", monospace;;\n",
              "    font-size: 13px;\n",
              "    color: #555;\n",
              "    margin-left: 4px;\n",
              "    line-height: 19px;\n",
              "  }\n",
              "</style>\n",
              "<div class=\"ansiout\"></div>"
            ]
          },
          "metadata": {
            "application/vnd.databricks.v1+output": {
              "addedWidgets": {},
              "arguments": {},
              "data": "<div class=\"ansiout\"></div>",
              "datasetInfos": [],
              "metadata": {},
              "removedWidgets": [],
              "type": "html"
            }
          }
        }
      ],
      "source": [
        "#mdb_s.display()"
      ]
    },
    {
      "cell_type": "code",
      "execution_count": null,
      "metadata": {
        "application/vnd.databricks.v1+cell": {
          "cellMetadata": {
            "byteLimit": 2048000,
            "rowLimit": 10000
          },
          "inputWidgets": {},
          "nuid": "c79de0cd-16f2-49b2-aea6-df010cd47177",
          "showTitle": true,
          "title": "Data Prep"
        },
        "id": "RNwEQ28oirNF",
        "outputId": "fee46142-7bea-4dbc-95d8-c1e37ee2c49e"
      },
      "outputs": [
        {
          "output_type": "display_data",
          "data": {
            "text/html": [
              "<style scoped>\n",
              "  .ansiout {\n",
              "    display: block;\n",
              "    unicode-bidi: embed;\n",
              "    white-space: pre-wrap;\n",
              "    word-wrap: break-word;\n",
              "    word-break: break-all;\n",
              "    font-family: \"Source Code Pro\", \"Menlo\", monospace;;\n",
              "    font-size: 13px;\n",
              "    color: #555;\n",
              "    margin-left: 4px;\n",
              "    line-height: 19px;\n",
              "  }\n",
              "</style>\n",
              "<div class=\"ansiout\"></div>"
            ]
          },
          "metadata": {
            "application/vnd.databricks.v1+output": {
              "addedWidgets": {},
              "arguments": {},
              "data": "<div class=\"ansiout\"></div>",
              "datasetInfos": [],
              "metadata": {},
              "removedWidgets": [],
              "type": "html"
            }
          }
        }
      ],
      "source": [
        "mdb_s_exploded = options.select('HCP_ID','Option').join(mdb_s,['HCP_ID'],'inner')\n",
        "\n",
        "\n",
        "mdb_s_test = options.withColumn('Week_number',col('Week')+lit(47)).drop('Week').join(mdb_s.select('HCP_ID','GROUP').distinct(),['HCP_ID'],'inner').select(['HCP_ID','Week_number','GROUP','Option']+feature_list)\\\n",
        ".union(mdb_s_exploded.select(['HCP_ID','Week_number','GROUP','Option']+feature_list)).withColumn('HCP_ID',concat(col('HCP_ID'),col('Option'))).drop('Option').withColumn('APLD_CLAIMS_TOTAL',lit(0))"
      ]
    },
    {
      "cell_type": "code",
      "execution_count": null,
      "metadata": {
        "application/vnd.databricks.v1+cell": {
          "cellMetadata": {
            "byteLimit": 2048000,
            "rowLimit": 10000
          },
          "inputWidgets": {},
          "nuid": "1113811b-52ed-4b02-92cc-e3324ea1bc1f",
          "showTitle": false,
          "title": ""
        },
        "id": "Qi_6q1dxirNF",
        "outputId": "bf00f56f-e3bc-4732-f6f0-6cdd49850794"
      },
      "outputs": [
        {
          "output_type": "display_data",
          "data": {
            "text/html": [
              "<style scoped>\n",
              "  .ansiout {\n",
              "    display: block;\n",
              "    unicode-bidi: embed;\n",
              "    white-space: pre-wrap;\n",
              "    word-wrap: break-word;\n",
              "    word-break: break-all;\n",
              "    font-family: \"Source Code Pro\", \"Menlo\", monospace;;\n",
              "    font-size: 13px;\n",
              "    color: #555;\n",
              "    margin-left: 4px;\n",
              "    line-height: 19px;\n",
              "  }\n",
              "</style>\n",
              "<div class=\"ansiout\"></div>"
            ]
          },
          "metadata": {
            "application/vnd.databricks.v1+output": {
              "addedWidgets": {},
              "arguments": {},
              "data": "<div class=\"ansiout\"></div>",
              "datasetInfos": [],
              "metadata": {},
              "removedWidgets": [],
              "type": "html"
            }
          }
        }
      ],
      "source": [
        "#mdb_s_test.display()"
      ]
    },
    {
      "cell_type": "code",
      "execution_count": null,
      "metadata": {
        "application/vnd.databricks.v1+cell": {
          "cellMetadata": {
            "byteLimit": 2048000,
            "rowLimit": 10000
          },
          "inputWidgets": {},
          "nuid": "6d518263-69d5-4616-add4-1fb9af60554a",
          "showTitle": false,
          "title": ""
        },
        "id": "th6TsrFtirNG",
        "outputId": "b611ffb5-c232-4418-ae11-d5e70b24c545"
      },
      "outputs": [
        {
          "output_type": "display_data",
          "data": {
            "text/html": [
              "<style scoped>\n",
              "  .ansiout {\n",
              "    display: block;\n",
              "    unicode-bidi: embed;\n",
              "    white-space: pre-wrap;\n",
              "    word-wrap: break-word;\n",
              "    word-break: break-all;\n",
              "    font-family: \"Source Code Pro\", \"Menlo\", monospace;;\n",
              "    font-size: 13px;\n",
              "    color: #555;\n",
              "    margin-left: 4px;\n",
              "    line-height: 19px;\n",
              "  }\n",
              "</style>\n",
              "<div class=\"ansiout\"></div>"
            ]
          },
          "metadata": {
            "application/vnd.databricks.v1+output": {
              "addedWidgets": {},
              "arguments": {},
              "data": "<div class=\"ansiout\"></div>",
              "datasetInfos": [],
              "metadata": {},
              "removedWidgets": [],
              "type": "html"
            }
          }
        }
      ],
      "source": [
        "\n",
        "mdb_train_test = mdb_s.select(['HCP_ID','Week_number','GROUP']+feature_list+['APLD_CLAIMS_TOTAL']).union(mdb_s_test.select(['HCP_ID','Week_number','GROUP']+feature_list+['APLD_CLAIMS_TOTAL']))\n",
        "group = mdb_train_test.select('HCP_ID','GROUP').dropDuplicates()\n",
        "group = group.toPandas()\n",
        "#group['HCP_ID']=group['HCP_ID'].astype('float')\n",
        "\n",
        "mdb = mdb_train_test.drop('GROUP').toPandas()"
      ]
    },
    {
      "cell_type": "code",
      "execution_count": null,
      "metadata": {
        "application/vnd.databricks.v1+cell": {
          "cellMetadata": {
            "byteLimit": 2048000,
            "rowLimit": 10000
          },
          "inputWidgets": {},
          "nuid": "a90073e6-4404-49ea-a3e8-75e1cc197df5",
          "showTitle": false,
          "title": ""
        },
        "id": "akVk5Vb2irNH",
        "outputId": "a35ae297-891f-4311-c74c-f76a52b1d371"
      },
      "outputs": [
        {
          "output_type": "display_data",
          "data": {
            "text/html": [
              "<style scoped>\n",
              "  .ansiout {\n",
              "    display: block;\n",
              "    unicode-bidi: embed;\n",
              "    white-space: pre-wrap;\n",
              "    word-wrap: break-word;\n",
              "    word-break: break-all;\n",
              "    font-family: \"Source Code Pro\", \"Menlo\", monospace;;\n",
              "    font-size: 13px;\n",
              "    color: #555;\n",
              "    margin-left: 4px;\n",
              "    line-height: 19px;\n",
              "  }\n",
              "</style>\n",
              "<div class=\"ansiout\"></div>"
            ]
          },
          "metadata": {
            "application/vnd.databricks.v1+output": {
              "addedWidgets": {},
              "arguments": {},
              "data": "<div class=\"ansiout\"></div>",
              "datasetInfos": [],
              "metadata": {},
              "removedWidgets": [],
              "type": "html"
            }
          }
        }
      ],
      "source": [
        "#mdb['HCP_ID'].drop_duplicates()"
      ]
    },
    {
      "cell_type": "code",
      "execution_count": null,
      "metadata": {
        "application/vnd.databricks.v1+cell": {
          "cellMetadata": {
            "byteLimit": 2048000,
            "rowLimit": 10000
          },
          "inputWidgets": {},
          "nuid": "6155cda9-025e-4251-b36d-9490e2f100df",
          "showTitle": false,
          "title": ""
        },
        "id": "_nOXi2FHirNH",
        "outputId": "b332bcfd-5af3-4c47-863a-790532b532fa"
      },
      "outputs": [
        {
          "output_type": "display_data",
          "data": {
            "text/html": [
              "<style scoped>\n",
              "  .ansiout {\n",
              "    display: block;\n",
              "    unicode-bidi: embed;\n",
              "    white-space: pre-wrap;\n",
              "    word-wrap: break-word;\n",
              "    word-break: break-all;\n",
              "    font-family: \"Source Code Pro\", \"Menlo\", monospace;;\n",
              "    font-size: 13px;\n",
              "    color: #555;\n",
              "    margin-left: 4px;\n",
              "    line-height: 19px;\n",
              "  }\n",
              "</style>\n",
              "<div class=\"ansiout\"></div>"
            ]
          },
          "metadata": {
            "application/vnd.databricks.v1+output": {
              "addedWidgets": {},
              "arguments": {},
              "data": "<div class=\"ansiout\"></div>",
              "datasetInfos": [],
              "metadata": {},
              "removedWidgets": [],
              "type": "html"
            }
          }
        }
      ],
      "source": [
        "#mdb.display()"
      ]
    },
    {
      "cell_type": "code",
      "execution_count": null,
      "metadata": {
        "application/vnd.databricks.v1+cell": {
          "cellMetadata": {
            "byteLimit": 2048000,
            "rowLimit": 10000
          },
          "inputWidgets": {},
          "nuid": "104e5b14-9a11-4cb4-bbf4-d2b6b704f3d3",
          "showTitle": false,
          "title": ""
        },
        "id": "mZJ9OeQmirNI",
        "outputId": "1cca813f-371b-4d72-87eb-c5588f42082b"
      },
      "outputs": [
        {
          "output_type": "display_data",
          "data": {
            "text/html": [
              "<style scoped>\n",
              "  .ansiout {\n",
              "    display: block;\n",
              "    unicode-bidi: embed;\n",
              "    white-space: pre-wrap;\n",
              "    word-wrap: break-word;\n",
              "    word-break: break-all;\n",
              "    font-family: \"Source Code Pro\", \"Menlo\", monospace;;\n",
              "    font-size: 13px;\n",
              "    color: #555;\n",
              "    margin-left: 4px;\n",
              "    line-height: 19px;\n",
              "  }\n",
              "</style>\n",
              "<div class=\"ansiout\"></div>"
            ]
          },
          "metadata": {
            "application/vnd.databricks.v1+output": {
              "addedWidgets": {},
              "arguments": {},
              "data": "<div class=\"ansiout\"></div>",
              "datasetInfos": [],
              "metadata": {},
              "removedWidgets": [],
              "type": "html"
            }
          }
        }
      ],
      "source": [
        "from math import sqrt\n",
        "from numpy import concatenate\n",
        "from matplotlib import pyplot\n",
        "from pandas import read_csv\n",
        "from pandas import DataFrame\n",
        "from pandas import concat\n",
        "from sklearn.preprocessing import MinMaxScaler\n",
        "from sklearn.preprocessing import LabelEncoder\n",
        "from sklearn.metrics import mean_squared_error\n",
        "from keras.models import Sequential\n",
        "from keras.layers import Dense\n",
        "from keras.layers import LSTM\n",
        "from keras import layers\n",
        "from tensorflow.keras import layers\n",
        "from keras.layers import Dropout\n",
        "\n",
        "# convert series to supervised learning\n",
        "def series_to_supervised(data, n_in=1, n_out=1, dropnan=True):\n",
        "\tn_vars = 1 if type(data) is list else data.shape[1]\n",
        "\tdf = DataFrame(data)\n",
        "\tcols, names = list(), list()\n",
        "\t# input sequence (t-n, ... t-1)\n",
        "\tfor i in range(n_in, 0, -1):\n",
        "\t\tcols.append(df.shift(i))\n",
        "\t\tnames += [('var%d(t-%d)' % (j+1, i)) for j in range(n_vars)]\n",
        "\t# forecast sequence (t, t+1, ... t+n)\n",
        "\tfor i in range(0, n_out):\n",
        "\t\tcols.append(df.shift(-i))\n",
        "\t\tif i == 0:\n",
        "\t\t\tnames += [('var%d(t)' % (j+1)) for j in range(n_vars)]\n",
        "\t\telse:\n",
        "\t\t\tnames += [('var%d(t+%d)' % (j+1, i)) for j in range(n_vars)]\n",
        "\t# put it all together\n",
        "\tagg = concat(cols, axis=1)\n",
        "\tagg.columns = names\n",
        "\t# drop rows with NaN values\n",
        "\tif dropnan:\n",
        "\t\tagg.dropna(inplace=True)\n",
        "\treturn agg\n",
        "\n",
        "# load dataset\n",
        "\n",
        "#######   For creating Lags  #####\n",
        "n_hours = 4\n",
        "n_features = 15\n",
        "\n",
        "#####  For Modelling  ########\n",
        "n_features_fil = len(feature_list)\n",
        "n_weeks = 5\n",
        "\n",
        "model = Sequential()\n",
        "model.add(LSTM(50, input_shape=(n_weeks, n_features_fil)))\n",
        "#model.add(layers.Dense(10))\n",
        "model.add(Dense(1))\n",
        "#model.add(Dropout(0.2))\n",
        "model.compile(loss='mean_squared_error', optimizer='adam')\n",
        "#model.compile(loss='mae', optimizer='adam')\n",
        "MDB_final = pd.DataFrame()\n",
        "\n",
        "\n",
        "for hcp in mdb['HCP_ID'].drop_duplicates().tolist():\n",
        "\tdataset = mdb[mdb['HCP_ID']==hcp].sort_values(by=['Week_number'], ascending=True)\n",
        "    #.drop(['HCP_ID','Week_number'],axis = 1)\n",
        "\n",
        "\n",
        "\t#scaler = MinMaxScaler(feature_range=(0, 1))\n",
        "\t#scaled = scaler.fit_transform(values)\n",
        "\t#reframed = series_to_supervised(scaled, n_hours, 1)\n",
        "\tscaler = MinMaxScaler(feature_range=(0, 1))\n",
        "\tscaled = scaler.fit_transform(dataset.iloc[:,2:])\n",
        "\t#print('scaled.shape',scaled.shape)\n",
        "#scale and join back first 2 columns HCP_ID and Week_number\n",
        "\tdataset = dataset.iloc[:,:2].reset_index(drop=True).join(pd.DataFrame(scaled, columns=dataset.columns[2:]))\n",
        "\tvalues = dataset.values\n",
        "\t#values = values.astype('float32')\n",
        "\n",
        "\n",
        "\n",
        "\n",
        "\n",
        "\treframed = series_to_supervised(values, n_hours, 1)\n",
        "\n",
        "\tvalues = reframed.values\n",
        "\tn_train_hours = 44\n",
        "\ttrain = values[:n_train_hours, :]\n",
        "\ttest = values[n_train_hours:, :]\n",
        "\tn_obs = n_hours * n_features\n",
        "\n",
        "    #print(train_X.shape, len(train_X), train_y.shape)\n",
        "    # reshape input to be 3D [samples, timesteps, features]\n",
        "\tMDB_final = MDB_final.append(pd.DataFrame(values))\n",
        "\n",
        "\t#train_X_final = train_X_final.append(pd.DataFrame(train_X))\n",
        "\t#test_X_final = test_X_final.append(pd.DataFrame(test_X))\n",
        "\n",
        "    # #print(train_X.shape, train_y.shape, test_X.shape, test_y.shape)\n",
        "\n",
        "\t#train_y_final = train_y_final.append(pd.DataFrame(train_y))\n",
        "\t#test_y_final = test_y_final.append(pd.DataFrame(test_y))\n",
        "\n",
        " \t# test_X = test_X.reshape((test_X.shape[0], n_hours*n_features))\n",
        "\t# rmse = sqrt(mean_squared_error(test_y, yhat))\n",
        "\t# print('Test RMSE: %.3f' % rmse)\n",
        "\t# #out_temp = [test_y.reshape(1,-1),yhat.reshape(1,-1)]\n",
        "\t# #pred_list.append(yhat.reshape(1,-1))\n",
        "\t# #pred.loc[len(pred)] = yhat.reshape(1,-1)\n",
        "\t# #index=pd.DataFrame({'test':test_y,'pred':yhat})\n",
        "\t# pred = pred.append(pd.DataFrame(yhat.transpose(),columns=['M1_pred', 'M2_pred', 'M3_pred','M4_pred']), ignore_index=True)\n",
        "\t# pred.at[len(pred)-1,'HCP_ID'] = hcp\n",
        "\t# pred.at[len(pred)-1,'RMSE'] = rmse\n",
        "\t# y = y.append(pd.DataFrame(test_y.reshape(1,-1),columns=['M1_Actual', 'M2_Actual', 'M3_Actual','M4_Actual']), ignore_index=True)\n",
        "MDB_final.columns = [str(i) for i in range(MDB_final.shape[1])]\n",
        "MDB_final = pd.merge(MDB_final,group,left_on ='0' ,right_on = 'HCP_ID',how = 'inner')"
      ]
    },
    {
      "cell_type": "code",
      "execution_count": null,
      "metadata": {
        "application/vnd.databricks.v1+cell": {
          "cellMetadata": {
            "byteLimit": 2048000,
            "rowLimit": 10000
          },
          "inputWidgets": {},
          "nuid": "cef13a41-992c-433c-83cd-59edb28d6e8a",
          "showTitle": false,
          "title": ""
        },
        "id": "rW-0v-UkirNJ",
        "outputId": "ecf92f58-e887-4042-c9b7-bb1513e98574"
      },
      "outputs": [
        {
          "output_type": "display_data",
          "data": {
            "text/html": [
              "<style scoped>\n",
              "  .ansiout {\n",
              "    display: block;\n",
              "    unicode-bidi: embed;\n",
              "    white-space: pre-wrap;\n",
              "    word-wrap: break-word;\n",
              "    word-break: break-all;\n",
              "    font-family: \"Source Code Pro\", \"Menlo\", monospace;;\n",
              "    font-size: 13px;\n",
              "    color: #555;\n",
              "    margin-left: 4px;\n",
              "    line-height: 19px;\n",
              "  }\n",
              "</style>\n",
              "<div class=\"ansiout\"></div>"
            ]
          },
          "metadata": {
            "application/vnd.databricks.v1+output": {
              "addedWidgets": {},
              "arguments": {},
              "data": "<div class=\"ansiout\"></div>",
              "datasetInfos": [],
              "metadata": {},
              "removedWidgets": [],
              "type": "html"
            }
          }
        }
      ],
      "source": [
        "# MDB_final = spark.createDataFrame(MDB_final)\n",
        "# MDB_final.write.mode(\"overwrite\").option(\"overwriteSchema\", \"True\").saveAsTable('us_sequencing_analytics.MDB_final_modelling')"
      ]
    },
    {
      "cell_type": "code",
      "execution_count": null,
      "metadata": {
        "application/vnd.databricks.v1+cell": {
          "cellMetadata": {
            "byteLimit": 2048000,
            "rowLimit": 10000
          },
          "inputWidgets": {},
          "nuid": "3723f343-7fb6-44a0-bb15-85116b898d9e",
          "showTitle": false,
          "title": ""
        },
        "id": "A8okmZlqirNK",
        "outputId": "aa87e906-f9c1-48cf-cabd-9f2b3f80601b"
      },
      "outputs": [
        {
          "output_type": "display_data",
          "data": {
            "text/html": [
              "<style scoped>\n",
              "  .ansiout {\n",
              "    display: block;\n",
              "    unicode-bidi: embed;\n",
              "    white-space: pre-wrap;\n",
              "    word-wrap: break-word;\n",
              "    word-break: break-all;\n",
              "    font-family: \"Source Code Pro\", \"Menlo\", monospace;;\n",
              "    font-size: 13px;\n",
              "    color: #555;\n",
              "    margin-left: 4px;\n",
              "    line-height: 19px;\n",
              "  }\n",
              "</style>\n",
              "<div class=\"ansiout\">5/5 - 2s - loss: 0.3026 - 2s/epoch - 456ms/step\n",
              "3/3 - 0s - loss: 0.1963 - 15ms/epoch - 5ms/step\n",
              "</div>"
            ]
          },
          "metadata": {
            "application/vnd.databricks.v1+output": {
              "addedWidgets": {},
              "arguments": {},
              "data": "<div class=\"ansiout\">5/5 - 2s - loss: 0.3026 - 2s/epoch - 456ms/step\n3/3 - 0s - loss: 0.1963 - 15ms/epoch - 5ms/step\n</div>",
              "datasetInfos": [],
              "metadata": {},
              "removedWidgets": [],
              "type": "html"
            }
          }
        }
      ],
      "source": [
        "pred = pd.DataFrame(columns = ['W1_pred','W2_pred','W3_pred','W4_pred','HCP_ID','GROUP'])\n",
        "#y = pd.DataFrame(columns = ['M1_Actual','M2_Actual','M3_Actual','M4_Actual','M5_Actual'])\n",
        "\n",
        "drop_list = ['0','1','6','7','8','13','14','15','20','21','22','27','28','29','34','HCP_ID','GROUP']\n",
        "\n",
        "#dataframe[dataframe['Stream'].isin(options)]\n",
        "\n",
        "hcp_list_int = list(map('{:.1f}'.format, hcp_list))\n",
        "hcp_list_str = list(map(str, hcp_list_int))\n",
        "\n",
        "\n",
        "for group in MDB_final['GROUP'].drop_duplicates().tolist():\n",
        "    MDB_fil = MDB_final[(MDB_final['GROUP']==group) & (MDB_final['HCP_ID'].isin(hcp_list_str))]\n",
        "    train_X= MDB_fil[(MDB_fil['29']>4)&(MDB_fil['29']<48)].drop(drop_list,axis =1).values.astype(float).reshape((MDB_fil[(MDB_fil['29']>4)&(MDB_fil['29']<48)].shape[0], n_weeks, n_features_fil))\n",
        "    train_y= MDB_fil.loc[(MDB_fil['29']>4)&(MDB_fil['29']<48),['34']].values.astype(float)\n",
        "    history = model.fit(train_X, train_y,epochs=1, batch_size=72, verbose=2, shuffle=False)\n",
        "    #epochs = 50\n",
        "\n",
        "\n",
        "    for hcp in MDB_final[(MDB_final['GROUP']==group) & (~MDB_final['HCP_ID'].isin(hcp_list_str))]['HCP_ID'].drop_duplicates().tolist():\n",
        "        test_X = MDB_final[(MDB_final['HCP_ID']==hcp)&(MDB_final['29']>47)].drop(drop_list,axis =1)\n",
        "#         #.values.astype(float).reshape((4, n_weeks, n_features_fil))\n",
        "#         #test_y = MDB_fil.loc[(MDB_fil['HCP_ID']==hcp)&(MDB_fil['29']>47),['34']].values\n",
        "\n",
        "\n",
        "#         #history = model.fit(train_X, train_y, epochs=50, batch_size=72, validation_data=(test_X, test_y), verbose=2, shuffle=False)\n",
        "#         yhat = model.predict(test_X)\n",
        "#         test_X = test_X.reshape((test_X.shape[0], n_weeks* n_features_fil))\n",
        "\n",
        "\n",
        "\n",
        "# #         # make a prediction\n",
        "# # #yhat = model.predict(test_X)\n",
        "# # #test_X = test_X.reshape((test_X.shape[0], n_hours*n_features))\n",
        "# # # invert scaling for forecast\n",
        "#         inv_yhat = concatenate((yhat, test_X[:, -4:]), axis=1)\n",
        "#         inv_yhat = scaler.inverse_transform(inv_yhat)\n",
        "#         inv_yhat = inv_yhat[:,0]\n",
        "# # invert scaling for actual\n",
        "#         #test_y = test_y.reshape((len(test_y), 1))\n",
        "#         # inv_y = concatenate((test_y, test_X[:, -12:]), axis=1)\n",
        "#         # inv_y = scaler.inverse_transform(inv_y)\n",
        "#         # inv_y = inv_y[:,0]\n",
        "# # # calculate RMSE\n",
        "#         #rmse = sqrt(mean_squared_error(inv_y, inv_yhat))\n",
        "# # #print('Test RMSE: %.3f' % rmse)\n",
        "\n",
        "\n",
        "\n",
        "\n",
        "#         #rmse = sqrt(mean_squared_error(test_y, yhat))\n",
        "#         #rmse = sqrt(mean_squared_error(inv_y, inv_yhat))\n",
        "#         #print('Test RMSE: %.3f' % rmse)\n",
        "# \t#out_temp = [test_y.reshape(1,-1),yhat.reshape(1,-1)]\n",
        "# \t#pred_list.append(yhat.reshape(1,-1))\n",
        "# \t#pred.loc[len(pred)] = yhat.reshape(1,-1)\n",
        "# \t#index=pd.DataFrame({'test':test_y,'pred':yhat})\n",
        "\n",
        "#         pred = pred.append(pd.DataFrame(inv_yhat.transpose(),columns=['W1_pred','W2_pred','W3_pred','W4_pred']), ignore_index=True)\n",
        "#         pred.at[len(pred)-1,'HCP_ID'] = hcp\n",
        "#         #pred.at[len(pred)-1,'RMSE'] = rmse\n",
        "#         pred.at[len(pred)-1,'GROUP'] = group\n",
        "#         #y = y.append(pd.DataFrame(test_y.reshape(1,-1),columns=['M1_Actual', 'M2_Actual', 'M3_Actual','M4_Actual','M5_Actual']), ignore_index=True)\n",
        "\n",
        "# # df = pred.merge(y,left_index=True,right_index=True)\n",
        "# # df.display()\n",
        "\n",
        "# pred.display()"
      ]
    },
    {
      "cell_type": "code",
      "execution_count": null,
      "metadata": {
        "application/vnd.databricks.v1+cell": {
          "cellMetadata": {
            "byteLimit": 2048000,
            "rowLimit": 10000
          },
          "inputWidgets": {},
          "nuid": "853c9a7b-408b-408d-804e-e6442219fc3d",
          "showTitle": false,
          "title": ""
        },
        "id": "YieRy-4ZirNM",
        "outputId": "c8258873-4482-4eec-8e52-bff545871c7f"
      },
      "outputs": [
        {
          "output_type": "display_data",
          "data": {
            "text/html": [
              "<style scoped>\n",
              "  .ansiout {\n",
              "    display: block;\n",
              "    unicode-bidi: embed;\n",
              "    white-space: pre-wrap;\n",
              "    word-wrap: break-word;\n",
              "    word-break: break-all;\n",
              "    font-family: \"Source Code Pro\", \"Menlo\", monospace;;\n",
              "    font-size: 13px;\n",
              "    color: #555;\n",
              "    margin-left: 4px;\n",
              "    line-height: 19px;\n",
              "  }\n",
              "</style>\n",
              "<div class=\"ansiout\">Out[27]: </div>"
            ]
          },
          "metadata": {
            "application/vnd.databricks.v1+output": {
              "addedWidgets": {},
              "arguments": {},
              "data": "<div class=\"ansiout\">Out[27]: </div>",
              "datasetInfos": [],
              "metadata": {},
              "removedWidgets": [],
              "type": "html"
            }
          }
        },
        {
          "output_type": "display_data",
          "data": {
            "text/html": [
              "<div>\n",
              "<style scoped>\n",
              "    .dataframe tbody tr th:only-of-type {\n",
              "        vertical-align: middle;\n",
              "    }\n",
              "\n",
              "    .dataframe tbody tr th {\n",
              "        vertical-align: top;\n",
              "    }\n",
              "\n",
              "    .dataframe thead th {\n",
              "        text-align: right;\n",
              "    }\n",
              "</style>\n",
              "<table border=\"1\" class=\"dataframe\">\n",
              "  <thead>\n",
              "    <tr style=\"text-align: right;\">\n",
              "      <th></th>\n",
              "      <th>2</th>\n",
              "      <th>3</th>\n",
              "      <th>4</th>\n",
              "      <th>5</th>\n",
              "      <th>9</th>\n",
              "      <th>10</th>\n",
              "      <th>11</th>\n",
              "      <th>12</th>\n",
              "      <th>16</th>\n",
              "      <th>17</th>\n",
              "      <th>18</th>\n",
              "      <th>19</th>\n",
              "      <th>23</th>\n",
              "      <th>24</th>\n",
              "      <th>25</th>\n",
              "      <th>26</th>\n",
              "      <th>30</th>\n",
              "      <th>31</th>\n",
              "      <th>32</th>\n",
              "      <th>33</th>\n",
              "    </tr>\n",
              "  </thead>\n",
              "  <tbody>\n",
              "    <tr>\n",
              "      <th>245787</th>\n",
              "      <td>0.333333</td>\n",
              "      <td>0.5</td>\n",
              "      <td>0.0</td>\n",
              "      <td>0.0</td>\n",
              "      <td>0.333333</td>\n",
              "      <td>0.5</td>\n",
              "      <td>0.0</td>\n",
              "      <td>0.0</td>\n",
              "      <td>0.333333</td>\n",
              "      <td>0.5</td>\n",
              "      <td>0.0</td>\n",
              "      <td>0.0</td>\n",
              "      <td>0.333333</td>\n",
              "      <td>0.5</td>\n",
              "      <td>0.0</td>\n",
              "      <td>0.0</td>\n",
              "      <td>0.0</td>\n",
              "      <td>0.0</td>\n",
              "      <td>0.0</td>\n",
              "      <td>0.5</td>\n",
              "    </tr>\n",
              "    <tr>\n",
              "      <th>245788</th>\n",
              "      <td>0.333333</td>\n",
              "      <td>0.5</td>\n",
              "      <td>0.0</td>\n",
              "      <td>0.0</td>\n",
              "      <td>0.333333</td>\n",
              "      <td>0.5</td>\n",
              "      <td>0.0</td>\n",
              "      <td>0.0</td>\n",
              "      <td>0.333333</td>\n",
              "      <td>0.5</td>\n",
              "      <td>0.0</td>\n",
              "      <td>0.0</td>\n",
              "      <td>0.0</td>\n",
              "      <td>0.0</td>\n",
              "      <td>0.0</td>\n",
              "      <td>0.5</td>\n",
              "      <td>0.0</td>\n",
              "      <td>0.0</td>\n",
              "      <td>0.0</td>\n",
              "      <td>0.0</td>\n",
              "    </tr>\n",
              "    <tr>\n",
              "      <th>245789</th>\n",
              "      <td>0.333333</td>\n",
              "      <td>0.5</td>\n",
              "      <td>0.0</td>\n",
              "      <td>0.0</td>\n",
              "      <td>0.333333</td>\n",
              "      <td>0.5</td>\n",
              "      <td>0.0</td>\n",
              "      <td>0.0</td>\n",
              "      <td>0.0</td>\n",
              "      <td>0.0</td>\n",
              "      <td>0.0</td>\n",
              "      <td>0.5</td>\n",
              "      <td>0.0</td>\n",
              "      <td>0.0</td>\n",
              "      <td>0.0</td>\n",
              "      <td>0.0</td>\n",
              "      <td>0.0</td>\n",
              "      <td>0.0</td>\n",
              "      <td>0.0</td>\n",
              "      <td>0.0</td>\n",
              "    </tr>\n",
              "    <tr>\n",
              "      <th>245790</th>\n",
              "      <td>0.333333</td>\n",
              "      <td>0.5</td>\n",
              "      <td>0.0</td>\n",
              "      <td>0.0</td>\n",
              "      <td>0.0</td>\n",
              "      <td>0.0</td>\n",
              "      <td>0.0</td>\n",
              "      <td>0.5</td>\n",
              "      <td>0.0</td>\n",
              "      <td>0.0</td>\n",
              "      <td>0.0</td>\n",
              "      <td>0.0</td>\n",
              "      <td>0.0</td>\n",
              "      <td>0.0</td>\n",
              "      <td>0.0</td>\n",
              "      <td>0.0</td>\n",
              "      <td>0.0</td>\n",
              "      <td>0.0</td>\n",
              "      <td>0.0</td>\n",
              "      <td>0.0</td>\n",
              "    </tr>\n",
              "    <tr>\n",
              "      <th>245791</th>\n",
              "      <td>0.0</td>\n",
              "      <td>0.0</td>\n",
              "      <td>0.0</td>\n",
              "      <td>0.5</td>\n",
              "      <td>0.0</td>\n",
              "      <td>0.0</td>\n",
              "      <td>0.0</td>\n",
              "      <td>0.0</td>\n",
              "      <td>0.0</td>\n",
              "      <td>0.0</td>\n",
              "      <td>0.0</td>\n",
              "      <td>0.0</td>\n",
              "      <td>0.0</td>\n",
              "      <td>0.0</td>\n",
              "      <td>0.0</td>\n",
              "      <td>0.0</td>\n",
              "      <td>0.0</td>\n",
              "      <td>0.0</td>\n",
              "      <td>0.0</td>\n",
              "      <td>0.0</td>\n",
              "    </tr>\n",
              "    <tr>\n",
              "      <th>245792</th>\n",
              "      <td>0.0</td>\n",
              "      <td>0.0</td>\n",
              "      <td>0.0</td>\n",
              "      <td>0.0</td>\n",
              "      <td>0.0</td>\n",
              "      <td>0.0</td>\n",
              "      <td>0.0</td>\n",
              "      <td>0.0</td>\n",
              "      <td>0.0</td>\n",
              "      <td>0.0</td>\n",
              "      <td>0.0</td>\n",
              "      <td>0.0</td>\n",
              "      <td>0.0</td>\n",
              "      <td>0.0</td>\n",
              "      <td>0.0</td>\n",
              "      <td>0.0</td>\n",
              "      <td>0.0</td>\n",
              "      <td>0.0</td>\n",
              "      <td>0.0</td>\n",
              "      <td>0.0</td>\n",
              "    </tr>\n",
              "    <tr>\n",
              "      <th>245793</th>\n",
              "      <td>0.0</td>\n",
              "      <td>0.0</td>\n",
              "      <td>0.0</td>\n",
              "      <td>0.0</td>\n",
              "      <td>0.0</td>\n",
              "      <td>0.0</td>\n",
              "      <td>0.0</td>\n",
              "      <td>0.0</td>\n",
              "      <td>0.0</td>\n",
              "      <td>0.0</td>\n",
              "      <td>0.0</td>\n",
              "      <td>0.0</td>\n",
              "      <td>0.0</td>\n",
              "      <td>0.0</td>\n",
              "      <td>0.0</td>\n",
              "      <td>0.0</td>\n",
              "      <td>0.0</td>\n",
              "      <td>0.0</td>\n",
              "      <td>0.0</td>\n",
              "      <td>0.5</td>\n",
              "    </tr>\n",
              "    <tr>\n",
              "      <th>245794</th>\n",
              "      <td>0.0</td>\n",
              "      <td>0.0</td>\n",
              "      <td>0.0</td>\n",
              "      <td>0.0</td>\n",
              "      <td>0.0</td>\n",
              "      <td>0.0</td>\n",
              "      <td>0.0</td>\n",
              "      <td>0.0</td>\n",
              "      <td>0.0</td>\n",
              "      <td>0.0</td>\n",
              "      <td>0.0</td>\n",
              "      <td>0.0</td>\n",
              "      <td>0.0</td>\n",
              "      <td>0.0</td>\n",
              "      <td>0.0</td>\n",
              "      <td>0.5</td>\n",
              "      <td>0.0</td>\n",
              "      <td>0.0</td>\n",
              "      <td>0.0</td>\n",
              "      <td>0.0</td>\n",
              "    </tr>\n",
              "    <tr>\n",
              "      <th>245795</th>\n",
              "      <td>0.0</td>\n",
              "      <td>0.0</td>\n",
              "      <td>0.0</td>\n",
              "      <td>0.0</td>\n",
              "      <td>0.0</td>\n",
              "      <td>0.0</td>\n",
              "      <td>0.0</td>\n",
              "      <td>0.0</td>\n",
              "      <td>0.0</td>\n",
              "      <td>0.0</td>\n",
              "      <td>0.0</td>\n",
              "      <td>0.5</td>\n",
              "      <td>0.0</td>\n",
              "      <td>0.0</td>\n",
              "      <td>0.0</td>\n",
              "      <td>0.0</td>\n",
              "      <td>0.0</td>\n",
              "      <td>0.0</td>\n",
              "      <td>0.0</td>\n",
              "      <td>0.0</td>\n",
              "    </tr>\n",
              "    <tr>\n",
              "      <th>245796</th>\n",
              "      <td>0.0</td>\n",
              "      <td>0.0</td>\n",
              "      <td>0.0</td>\n",
              "      <td>0.0</td>\n",
              "      <td>0.0</td>\n",
              "      <td>0.0</td>\n",
              "      <td>0.0</td>\n",
              "      <td>0.5</td>\n",
              "      <td>0.0</td>\n",
              "      <td>0.0</td>\n",
              "      <td>0.0</td>\n",
              "      <td>0.0</td>\n",
              "      <td>0.0</td>\n",
              "      <td>0.0</td>\n",
              "      <td>0.0</td>\n",
              "      <td>0.0</td>\n",
              "      <td>0.0</td>\n",
              "      <td>0.0</td>\n",
              "      <td>0.0</td>\n",
              "      <td>0.0</td>\n",
              "    </tr>\n",
              "    <tr>\n",
              "      <th>245797</th>\n",
              "      <td>0.0</td>\n",
              "      <td>0.0</td>\n",
              "      <td>0.0</td>\n",
              "      <td>0.5</td>\n",
              "      <td>0.0</td>\n",
              "      <td>0.0</td>\n",
              "      <td>0.0</td>\n",
              "      <td>0.0</td>\n",
              "      <td>0.0</td>\n",
              "      <td>0.0</td>\n",
              "      <td>0.0</td>\n",
              "      <td>0.0</td>\n",
              "      <td>0.0</td>\n",
              "      <td>0.0</td>\n",
              "      <td>0.0</td>\n",
              "      <td>0.0</td>\n",
              "      <td>0.333333</td>\n",
              "      <td>0.0</td>\n",
              "      <td>0.0</td>\n",
              "      <td>0.5</td>\n",
              "    </tr>\n",
              "    <tr>\n",
              "      <th>245798</th>\n",
              "      <td>0.0</td>\n",
              "      <td>0.0</td>\n",
              "      <td>0.0</td>\n",
              "      <td>0.0</td>\n",
              "      <td>0.0</td>\n",
              "      <td>0.0</td>\n",
              "      <td>0.0</td>\n",
              "      <td>0.0</td>\n",
              "      <td>0.0</td>\n",
              "      <td>0.0</td>\n",
              "      <td>0.0</td>\n",
              "      <td>0.0</td>\n",
              "      <td>0.333333</td>\n",
              "      <td>0.0</td>\n",
              "      <td>0.0</td>\n",
              "      <td>0.5</td>\n",
              "      <td>0.333333</td>\n",
              "      <td>0.0</td>\n",
              "      <td>0.0</td>\n",
              "      <td>0.0</td>\n",
              "    </tr>\n",
              "    <tr>\n",
              "      <th>245799</th>\n",
              "      <td>0.0</td>\n",
              "      <td>0.0</td>\n",
              "      <td>0.0</td>\n",
              "      <td>0.0</td>\n",
              "      <td>0.0</td>\n",
              "      <td>0.0</td>\n",
              "      <td>0.0</td>\n",
              "      <td>0.0</td>\n",
              "      <td>0.333333</td>\n",
              "      <td>0.0</td>\n",
              "      <td>0.0</td>\n",
              "      <td>0.5</td>\n",
              "      <td>0.333333</td>\n",
              "      <td>0.0</td>\n",
              "      <td>0.0</td>\n",
              "      <td>0.0</td>\n",
              "      <td>0.333333</td>\n",
              "      <td>0.0</td>\n",
              "      <td>0.0</td>\n",
              "      <td>0.5</td>\n",
              "    </tr>\n",
              "    <tr>\n",
              "      <th>245800</th>\n",
              "      <td>0.0</td>\n",
              "      <td>0.0</td>\n",
              "      <td>0.0</td>\n",
              "      <td>0.0</td>\n",
              "      <td>0.333333</td>\n",
              "      <td>0.0</td>\n",
              "      <td>0.0</td>\n",
              "      <td>0.5</td>\n",
              "      <td>0.333333</td>\n",
              "      <td>0.0</td>\n",
              "      <td>0.0</td>\n",
              "      <td>0.0</td>\n",
              "      <td>0.333333</td>\n",
              "      <td>0.0</td>\n",
              "      <td>0.0</td>\n",
              "      <td>0.5</td>\n",
              "      <td>0.333333</td>\n",
              "      <td>0.0</td>\n",
              "      <td>0.0</td>\n",
              "      <td>0.5</td>\n",
              "    </tr>\n",
              "    <tr>\n",
              "      <th>245801</th>\n",
              "      <td>0.333333</td>\n",
              "      <td>0.0</td>\n",
              "      <td>0.0</td>\n",
              "      <td>0.5</td>\n",
              "      <td>0.333333</td>\n",
              "      <td>0.0</td>\n",
              "      <td>0.0</td>\n",
              "      <td>0.0</td>\n",
              "      <td>0.333333</td>\n",
              "      <td>0.0</td>\n",
              "      <td>0.0</td>\n",
              "      <td>0.5</td>\n",
              "      <td>0.333333</td>\n",
              "      <td>0.0</td>\n",
              "      <td>0.0</td>\n",
              "      <td>0.5</td>\n",
              "      <td>0.333333</td>\n",
              "      <td>0.0</td>\n",
              "      <td>0.0</td>\n",
              "      <td>0.5</td>\n",
              "    </tr>\n",
              "    <tr>\n",
              "      <th>245802</th>\n",
              "      <td>0.333333</td>\n",
              "      <td>0.0</td>\n",
              "      <td>0.0</td>\n",
              "      <td>0.0</td>\n",
              "      <td>0.333333</td>\n",
              "      <td>0.0</td>\n",
              "      <td>0.0</td>\n",
              "      <td>0.5</td>\n",
              "      <td>0.333333</td>\n",
              "      <td>0.0</td>\n",
              "      <td>0.0</td>\n",
              "      <td>0.5</td>\n",
              "      <td>0.333333</td>\n",
              "      <td>0.0</td>\n",
              "      <td>0.0</td>\n",
              "      <td>0.5</td>\n",
              "      <td>0.666667</td>\n",
              "      <td>0.0</td>\n",
              "      <td>0.0</td>\n",
              "      <td>1.0</td>\n",
              "    </tr>\n",
              "    <tr>\n",
              "      <th>245803</th>\n",
              "      <td>0.333333</td>\n",
              "      <td>0.0</td>\n",
              "      <td>0.0</td>\n",
              "      <td>0.5</td>\n",
              "      <td>0.333333</td>\n",
              "      <td>0.0</td>\n",
              "      <td>0.0</td>\n",
              "      <td>0.5</td>\n",
              "      <td>0.333333</td>\n",
              "      <td>0.0</td>\n",
              "      <td>0.0</td>\n",
              "      <td>0.5</td>\n",
              "      <td>0.666667</td>\n",
              "      <td>0.0</td>\n",
              "      <td>0.0</td>\n",
              "      <td>1.0</td>\n",
              "      <td>0.333333</td>\n",
              "      <td>0.5</td>\n",
              "      <td>1.0</td>\n",
              "      <td>0.0</td>\n",
              "    </tr>\n",
              "    <tr>\n",
              "      <th>245804</th>\n",
              "      <td>0.333333</td>\n",
              "      <td>0.0</td>\n",
              "      <td>0.0</td>\n",
              "      <td>0.5</td>\n",
              "      <td>0.333333</td>\n",
              "      <td>0.0</td>\n",
              "      <td>0.0</td>\n",
              "      <td>0.5</td>\n",
              "      <td>0.666667</td>\n",
              "      <td>0.0</td>\n",
              "      <td>0.0</td>\n",
              "      <td>1.0</td>\n",
              "      <td>0.333333</td>\n",
              "      <td>0.5</td>\n",
              "      <td>1.0</td>\n",
              "      <td>0.0</td>\n",
              "      <td>0.666667</td>\n",
              "      <td>0.0</td>\n",
              "      <td>0.0</td>\n",
              "      <td>1.0</td>\n",
              "    </tr>\n",
              "    <tr>\n",
              "      <th>245805</th>\n",
              "      <td>0.333333</td>\n",
              "      <td>0.0</td>\n",
              "      <td>0.0</td>\n",
              "      <td>0.5</td>\n",
              "      <td>0.666667</td>\n",
              "      <td>0.0</td>\n",
              "      <td>0.0</td>\n",
              "      <td>1.0</td>\n",
              "      <td>0.333333</td>\n",
              "      <td>0.5</td>\n",
              "      <td>1.0</td>\n",
              "      <td>0.0</td>\n",
              "      <td>0.666667</td>\n",
              "      <td>0.0</td>\n",
              "      <td>0.0</td>\n",
              "      <td>1.0</td>\n",
              "      <td>0.666667</td>\n",
              "      <td>0.0</td>\n",
              "      <td>0.0</td>\n",
              "      <td>1.0</td>\n",
              "    </tr>\n",
              "    <tr>\n",
              "      <th>245806</th>\n",
              "      <td>0.666667</td>\n",
              "      <td>0.0</td>\n",
              "      <td>0.0</td>\n",
              "      <td>1.0</td>\n",
              "      <td>0.333333</td>\n",
              "      <td>0.5</td>\n",
              "      <td>1.0</td>\n",
              "      <td>0.0</td>\n",
              "      <td>0.666667</td>\n",
              "      <td>0.0</td>\n",
              "      <td>0.0</td>\n",
              "      <td>1.0</td>\n",
              "      <td>0.666667</td>\n",
              "      <td>0.0</td>\n",
              "      <td>0.0</td>\n",
              "      <td>1.0</td>\n",
              "      <td>0.666667</td>\n",
              "      <td>0.0</td>\n",
              "      <td>0.0</td>\n",
              "      <td>1.0</td>\n",
              "    </tr>\n",
              "    <tr>\n",
              "      <th>245807</th>\n",
              "      <td>0.333333</td>\n",
              "      <td>0.5</td>\n",
              "      <td>1.0</td>\n",
              "      <td>0.0</td>\n",
              "      <td>0.666667</td>\n",
              "      <td>0.0</td>\n",
              "      <td>0.0</td>\n",
              "      <td>1.0</td>\n",
              "      <td>0.666667</td>\n",
              "      <td>0.0</td>\n",
              "      <td>0.0</td>\n",
              "      <td>1.0</td>\n",
              "      <td>0.666667</td>\n",
              "      <td>0.0</td>\n",
              "      <td>0.0</td>\n",
              "      <td>1.0</td>\n",
              "      <td>1.0</td>\n",
              "      <td>0.0</td>\n",
              "      <td>0.0</td>\n",
              "      <td>0.0</td>\n",
              "    </tr>\n",
              "    <tr>\n",
              "      <th>245808</th>\n",
              "      <td>0.666667</td>\n",
              "      <td>0.0</td>\n",
              "      <td>0.0</td>\n",
              "      <td>1.0</td>\n",
              "      <td>0.666667</td>\n",
              "      <td>0.0</td>\n",
              "      <td>0.0</td>\n",
              "      <td>1.0</td>\n",
              "      <td>0.666667</td>\n",
              "      <td>0.0</td>\n",
              "      <td>0.0</td>\n",
              "      <td>1.0</td>\n",
              "      <td>1.0</td>\n",
              "      <td>0.0</td>\n",
              "      <td>0.0</td>\n",
              "      <td>0.0</td>\n",
              "      <td>1.0</td>\n",
              "      <td>0.0</td>\n",
              "      <td>0.0</td>\n",
              "      <td>0.0</td>\n",
              "    </tr>\n",
              "    <tr>\n",
              "      <th>245809</th>\n",
              "      <td>0.666667</td>\n",
              "      <td>0.0</td>\n",
              "      <td>0.0</td>\n",
              "      <td>1.0</td>\n",
              "      <td>0.666667</td>\n",
              "      <td>0.0</td>\n",
              "      <td>0.0</td>\n",
              "      <td>1.0</td>\n",
              "      <td>1.0</td>\n",
              "      <td>0.0</td>\n",
              "      <td>0.0</td>\n",
              "      <td>0.0</td>\n",
              "      <td>1.0</td>\n",
              "      <td>0.0</td>\n",
              "      <td>0.0</td>\n",
              "      <td>0.0</td>\n",
              "      <td>1.0</td>\n",
              "      <td>0.0</td>\n",
              "      <td>0.0</td>\n",
              "      <td>0.0</td>\n",
              "    </tr>\n",
              "    <tr>\n",
              "      <th>245810</th>\n",
              "      <td>0.666667</td>\n",
              "      <td>0.0</td>\n",
              "      <td>0.0</td>\n",
              "      <td>1.0</td>\n",
              "      <td>1.0</td>\n",
              "      <td>0.0</td>\n",
              "      <td>0.0</td>\n",
              "      <td>0.0</td>\n",
              "      <td>1.0</td>\n",
              "      <td>0.0</td>\n",
              "      <td>0.0</td>\n",
              "      <td>0.0</td>\n",
              "      <td>1.0</td>\n",
              "      <td>0.0</td>\n",
              "      <td>0.0</td>\n",
              "      <td>0.0</td>\n",
              "      <td>1.0</td>\n",
              "      <td>0.0</td>\n",
              "      <td>0.0</td>\n",
              "      <td>0.0</td>\n",
              "    </tr>\n",
              "  </tbody>\n",
              "</table>\n",
              "</div>"
            ]
          },
          "metadata": {
            "application/vnd.databricks.v1+output": {
              "addedWidgets": {},
              "arguments": {},
              "data": "<div>\n<style scoped>\n    .dataframe tbody tr th:only-of-type {\n        vertical-align: middle;\n    }\n\n    .dataframe tbody tr th {\n        vertical-align: top;\n    }\n\n    .dataframe thead th {\n        text-align: right;\n    }\n</style>\n<table border=\"1\" class=\"dataframe\">\n  <thead>\n    <tr style=\"text-align: right;\">\n      <th></th>\n      <th>2</th>\n      <th>3</th>\n      <th>4</th>\n      <th>5</th>\n      <th>9</th>\n      <th>10</th>\n      <th>11</th>\n      <th>12</th>\n      <th>16</th>\n      <th>17</th>\n      <th>18</th>\n      <th>19</th>\n      <th>23</th>\n      <th>24</th>\n      <th>25</th>\n      <th>26</th>\n      <th>30</th>\n      <th>31</th>\n      <th>32</th>\n      <th>33</th>\n    </tr>\n  </thead>\n  <tbody>\n    <tr>\n      <th>245787</th>\n      <td>0.333333</td>\n      <td>0.5</td>\n      <td>0.0</td>\n      <td>0.0</td>\n      <td>0.333333</td>\n      <td>0.5</td>\n      <td>0.0</td>\n      <td>0.0</td>\n      <td>0.333333</td>\n      <td>0.5</td>\n      <td>0.0</td>\n      <td>0.0</td>\n      <td>0.333333</td>\n      <td>0.5</td>\n      <td>0.0</td>\n      <td>0.0</td>\n      <td>0.0</td>\n      <td>0.0</td>\n      <td>0.0</td>\n      <td>0.5</td>\n    </tr>\n    <tr>\n      <th>245788</th>\n      <td>0.333333</td>\n      <td>0.5</td>\n      <td>0.0</td>\n      <td>0.0</td>\n      <td>0.333333</td>\n      <td>0.5</td>\n      <td>0.0</td>\n      <td>0.0</td>\n      <td>0.333333</td>\n      <td>0.5</td>\n      <td>0.0</td>\n      <td>0.0</td>\n      <td>0.0</td>\n      <td>0.0</td>\n      <td>0.0</td>\n      <td>0.5</td>\n      <td>0.0</td>\n      <td>0.0</td>\n      <td>0.0</td>\n      <td>0.0</td>\n    </tr>\n    <tr>\n      <th>245789</th>\n      <td>0.333333</td>\n      <td>0.5</td>\n      <td>0.0</td>\n      <td>0.0</td>\n      <td>0.333333</td>\n      <td>0.5</td>\n      <td>0.0</td>\n      <td>0.0</td>\n      <td>0.0</td>\n      <td>0.0</td>\n      <td>0.0</td>\n      <td>0.5</td>\n      <td>0.0</td>\n      <td>0.0</td>\n      <td>0.0</td>\n      <td>0.0</td>\n      <td>0.0</td>\n      <td>0.0</td>\n      <td>0.0</td>\n      <td>0.0</td>\n    </tr>\n    <tr>\n      <th>245790</th>\n      <td>0.333333</td>\n      <td>0.5</td>\n      <td>0.0</td>\n      <td>0.0</td>\n      <td>0.0</td>\n      <td>0.0</td>\n      <td>0.0</td>\n      <td>0.5</td>\n      <td>0.0</td>\n      <td>0.0</td>\n      <td>0.0</td>\n      <td>0.0</td>\n      <td>0.0</td>\n      <td>0.0</td>\n      <td>0.0</td>\n      <td>0.0</td>\n      <td>0.0</td>\n      <td>0.0</td>\n      <td>0.0</td>\n      <td>0.0</td>\n    </tr>\n    <tr>\n      <th>245791</th>\n      <td>0.0</td>\n      <td>0.0</td>\n      <td>0.0</td>\n      <td>0.5</td>\n      <td>0.0</td>\n      <td>0.0</td>\n      <td>0.0</td>\n      <td>0.0</td>\n      <td>0.0</td>\n      <td>0.0</td>\n      <td>0.0</td>\n      <td>0.0</td>\n      <td>0.0</td>\n      <td>0.0</td>\n      <td>0.0</td>\n      <td>0.0</td>\n      <td>0.0</td>\n      <td>0.0</td>\n      <td>0.0</td>\n      <td>0.0</td>\n    </tr>\n    <tr>\n      <th>245792</th>\n      <td>0.0</td>\n      <td>0.0</td>\n      <td>0.0</td>\n      <td>0.0</td>\n      <td>0.0</td>\n      <td>0.0</td>\n      <td>0.0</td>\n      <td>0.0</td>\n      <td>0.0</td>\n      <td>0.0</td>\n      <td>0.0</td>\n      <td>0.0</td>\n      <td>0.0</td>\n      <td>0.0</td>\n      <td>0.0</td>\n      <td>0.0</td>\n      <td>0.0</td>\n      <td>0.0</td>\n      <td>0.0</td>\n      <td>0.0</td>\n    </tr>\n    <tr>\n      <th>245793</th>\n      <td>0.0</td>\n      <td>0.0</td>\n      <td>0.0</td>\n      <td>0.0</td>\n      <td>0.0</td>\n      <td>0.0</td>\n      <td>0.0</td>\n      <td>0.0</td>\n      <td>0.0</td>\n      <td>0.0</td>\n      <td>0.0</td>\n      <td>0.0</td>\n      <td>0.0</td>\n      <td>0.0</td>\n      <td>0.0</td>\n      <td>0.0</td>\n      <td>0.0</td>\n      <td>0.0</td>\n      <td>0.0</td>\n      <td>0.5</td>\n    </tr>\n    <tr>\n      <th>245794</th>\n      <td>0.0</td>\n      <td>0.0</td>\n      <td>0.0</td>\n      <td>0.0</td>\n      <td>0.0</td>\n      <td>0.0</td>\n      <td>0.0</td>\n      <td>0.0</td>\n      <td>0.0</td>\n      <td>0.0</td>\n      <td>0.0</td>\n      <td>0.0</td>\n      <td>0.0</td>\n      <td>0.0</td>\n      <td>0.0</td>\n      <td>0.5</td>\n      <td>0.0</td>\n      <td>0.0</td>\n      <td>0.0</td>\n      <td>0.0</td>\n    </tr>\n    <tr>\n      <th>245795</th>\n      <td>0.0</td>\n      <td>0.0</td>\n      <td>0.0</td>\n      <td>0.0</td>\n      <td>0.0</td>\n      <td>0.0</td>\n      <td>0.0</td>\n      <td>0.0</td>\n      <td>0.0</td>\n      <td>0.0</td>\n      <td>0.0</td>\n      <td>0.5</td>\n      <td>0.0</td>\n      <td>0.0</td>\n      <td>0.0</td>\n      <td>0.0</td>\n      <td>0.0</td>\n      <td>0.0</td>\n      <td>0.0</td>\n      <td>0.0</td>\n    </tr>\n    <tr>\n      <th>245796</th>\n      <td>0.0</td>\n      <td>0.0</td>\n      <td>0.0</td>\n      <td>0.0</td>\n      <td>0.0</td>\n      <td>0.0</td>\n      <td>0.0</td>\n      <td>0.5</td>\n      <td>0.0</td>\n      <td>0.0</td>\n      <td>0.0</td>\n      <td>0.0</td>\n      <td>0.0</td>\n      <td>0.0</td>\n      <td>0.0</td>\n      <td>0.0</td>\n      <td>0.0</td>\n      <td>0.0</td>\n      <td>0.0</td>\n      <td>0.0</td>\n    </tr>\n    <tr>\n      <th>245797</th>\n      <td>0.0</td>\n      <td>0.0</td>\n      <td>0.0</td>\n      <td>0.5</td>\n      <td>0.0</td>\n      <td>0.0</td>\n      <td>0.0</td>\n      <td>0.0</td>\n      <td>0.0</td>\n      <td>0.0</td>\n      <td>0.0</td>\n      <td>0.0</td>\n      <td>0.0</td>\n      <td>0.0</td>\n      <td>0.0</td>\n      <td>0.0</td>\n      <td>0.333333</td>\n      <td>0.0</td>\n      <td>0.0</td>\n      <td>0.5</td>\n    </tr>\n    <tr>\n      <th>245798</th>\n      <td>0.0</td>\n      <td>0.0</td>\n      <td>0.0</td>\n      <td>0.0</td>\n      <td>0.0</td>\n      <td>0.0</td>\n      <td>0.0</td>\n      <td>0.0</td>\n      <td>0.0</td>\n      <td>0.0</td>\n      <td>0.0</td>\n      <td>0.0</td>\n      <td>0.333333</td>\n      <td>0.0</td>\n      <td>0.0</td>\n      <td>0.5</td>\n      <td>0.333333</td>\n      <td>0.0</td>\n      <td>0.0</td>\n      <td>0.0</td>\n    </tr>\n    <tr>\n      <th>245799</th>\n      <td>0.0</td>\n      <td>0.0</td>\n      <td>0.0</td>\n      <td>0.0</td>\n      <td>0.0</td>\n      <td>0.0</td>\n      <td>0.0</td>\n      <td>0.0</td>\n      <td>0.333333</td>\n      <td>0.0</td>\n      <td>0.0</td>\n      <td>0.5</td>\n      <td>0.333333</td>\n      <td>0.0</td>\n      <td>0.0</td>\n      <td>0.0</td>\n      <td>0.333333</td>\n      <td>0.0</td>\n      <td>0.0</td>\n      <td>0.5</td>\n    </tr>\n    <tr>\n      <th>245800</th>\n      <td>0.0</td>\n      <td>0.0</td>\n      <td>0.0</td>\n      <td>0.0</td>\n      <td>0.333333</td>\n      <td>0.0</td>\n      <td>0.0</td>\n      <td>0.5</td>\n      <td>0.333333</td>\n      <td>0.0</td>\n      <td>0.0</td>\n      <td>0.0</td>\n      <td>0.333333</td>\n      <td>0.0</td>\n      <td>0.0</td>\n      <td>0.5</td>\n      <td>0.333333</td>\n      <td>0.0</td>\n      <td>0.0</td>\n      <td>0.5</td>\n    </tr>\n    <tr>\n      <th>245801</th>\n      <td>0.333333</td>\n      <td>0.0</td>\n      <td>0.0</td>\n      <td>0.5</td>\n      <td>0.333333</td>\n      <td>0.0</td>\n      <td>0.0</td>\n      <td>0.0</td>\n      <td>0.333333</td>\n      <td>0.0</td>\n      <td>0.0</td>\n      <td>0.5</td>\n      <td>0.333333</td>\n      <td>0.0</td>\n      <td>0.0</td>\n      <td>0.5</td>\n      <td>0.333333</td>\n      <td>0.0</td>\n      <td>0.0</td>\n      <td>0.5</td>\n    </tr>\n    <tr>\n      <th>245802</th>\n      <td>0.333333</td>\n      <td>0.0</td>\n      <td>0.0</td>\n      <td>0.0</td>\n      <td>0.333333</td>\n      <td>0.0</td>\n      <td>0.0</td>\n      <td>0.5</td>\n      <td>0.333333</td>\n      <td>0.0</td>\n      <td>0.0</td>\n      <td>0.5</td>\n      <td>0.333333</td>\n      <td>0.0</td>\n      <td>0.0</td>\n      <td>0.5</td>\n      <td>0.666667</td>\n      <td>0.0</td>\n      <td>0.0</td>\n      <td>1.0</td>\n    </tr>\n    <tr>\n      <th>245803</th>\n      <td>0.333333</td>\n      <td>0.0</td>\n      <td>0.0</td>\n      <td>0.5</td>\n      <td>0.333333</td>\n      <td>0.0</td>\n      <td>0.0</td>\n      <td>0.5</td>\n      <td>0.333333</td>\n      <td>0.0</td>\n      <td>0.0</td>\n      <td>0.5</td>\n      <td>0.666667</td>\n      <td>0.0</td>\n      <td>0.0</td>\n      <td>1.0</td>\n      <td>0.333333</td>\n      <td>0.5</td>\n      <td>1.0</td>\n      <td>0.0</td>\n    </tr>\n    <tr>\n      <th>245804</th>\n      <td>0.333333</td>\n      <td>0.0</td>\n      <td>0.0</td>\n      <td>0.5</td>\n      <td>0.333333</td>\n      <td>0.0</td>\n      <td>0.0</td>\n      <td>0.5</td>\n      <td>0.666667</td>\n      <td>0.0</td>\n      <td>0.0</td>\n      <td>1.0</td>\n      <td>0.333333</td>\n      <td>0.5</td>\n      <td>1.0</td>\n      <td>0.0</td>\n      <td>0.666667</td>\n      <td>0.0</td>\n      <td>0.0</td>\n      <td>1.0</td>\n    </tr>\n    <tr>\n      <th>245805</th>\n      <td>0.333333</td>\n      <td>0.0</td>\n      <td>0.0</td>\n      <td>0.5</td>\n      <td>0.666667</td>\n      <td>0.0</td>\n      <td>0.0</td>\n      <td>1.0</td>\n      <td>0.333333</td>\n      <td>0.5</td>\n      <td>1.0</td>\n      <td>0.0</td>\n      <td>0.666667</td>\n      <td>0.0</td>\n      <td>0.0</td>\n      <td>1.0</td>\n      <td>0.666667</td>\n      <td>0.0</td>\n      <td>0.0</td>\n      <td>1.0</td>\n    </tr>\n    <tr>\n      <th>245806</th>\n      <td>0.666667</td>\n      <td>0.0</td>\n      <td>0.0</td>\n      <td>1.0</td>\n      <td>0.333333</td>\n      <td>0.5</td>\n      <td>1.0</td>\n      <td>0.0</td>\n      <td>0.666667</td>\n      <td>0.0</td>\n      <td>0.0</td>\n      <td>1.0</td>\n      <td>0.666667</td>\n      <td>0.0</td>\n      <td>0.0</td>\n      <td>1.0</td>\n      <td>0.666667</td>\n      <td>0.0</td>\n      <td>0.0</td>\n      <td>1.0</td>\n    </tr>\n    <tr>\n      <th>245807</th>\n      <td>0.333333</td>\n      <td>0.5</td>\n      <td>1.0</td>\n      <td>0.0</td>\n      <td>0.666667</td>\n      <td>0.0</td>\n      <td>0.0</td>\n      <td>1.0</td>\n      <td>0.666667</td>\n      <td>0.0</td>\n      <td>0.0</td>\n      <td>1.0</td>\n      <td>0.666667</td>\n      <td>0.0</td>\n      <td>0.0</td>\n      <td>1.0</td>\n      <td>1.0</td>\n      <td>0.0</td>\n      <td>0.0</td>\n      <td>0.0</td>\n    </tr>\n    <tr>\n      <th>245808</th>\n      <td>0.666667</td>\n      <td>0.0</td>\n      <td>0.0</td>\n      <td>1.0</td>\n      <td>0.666667</td>\n      <td>0.0</td>\n      <td>0.0</td>\n      <td>1.0</td>\n      <td>0.666667</td>\n      <td>0.0</td>\n      <td>0.0</td>\n      <td>1.0</td>\n      <td>1.0</td>\n      <td>0.0</td>\n      <td>0.0</td>\n      <td>0.0</td>\n      <td>1.0</td>\n      <td>0.0</td>\n      <td>0.0</td>\n      <td>0.0</td>\n    </tr>\n    <tr>\n      <th>245809</th>\n      <td>0.666667</td>\n      <td>0.0</td>\n      <td>0.0</td>\n      <td>1.0</td>\n      <td>0.666667</td>\n      <td>0.0</td>\n      <td>0.0</td>\n      <td>1.0</td>\n      <td>1.0</td>\n      <td>0.0</td>\n      <td>0.0</td>\n      <td>0.0</td>\n      <td>1.0</td>\n      <td>0.0</td>\n      <td>0.0</td>\n      <td>0.0</td>\n      <td>1.0</td>\n      <td>0.0</td>\n      <td>0.0</td>\n      <td>0.0</td>\n    </tr>\n    <tr>\n      <th>245810</th>\n      <td>0.666667</td>\n      <td>0.0</td>\n      <td>0.0</td>\n      <td>1.0</td>\n      <td>1.0</td>\n      <td>0.0</td>\n      <td>0.0</td>\n      <td>0.0</td>\n      <td>1.0</td>\n      <td>0.0</td>\n      <td>0.0</td>\n      <td>0.0</td>\n      <td>1.0</td>\n      <td>0.0</td>\n      <td>0.0</td>\n      <td>0.0</td>\n      <td>1.0</td>\n      <td>0.0</td>\n      <td>0.0</td>\n      <td>0.0</td>\n    </tr>\n  </tbody>\n</table>\n</div>",
              "datasetInfos": [],
              "metadata": {},
              "removedWidgets": [],
              "textData": null,
              "type": "htmlSandbox"
            }
          }
        }
      ],
      "source": [
        "test_X"
      ]
    },
    {
      "cell_type": "code",
      "execution_count": null,
      "metadata": {
        "application/vnd.databricks.v1+cell": {
          "cellMetadata": {
            "byteLimit": 2048000,
            "rowLimit": 10000
          },
          "inputWidgets": {},
          "nuid": "b5970364-55ac-45f8-aae8-136ac647a356",
          "showTitle": false,
          "title": ""
        },
        "id": "wFGiFQgfirNM",
        "outputId": "1eeae466-44ca-40da-a748-100fe9805434"
      },
      "outputs": [
        {
          "output_type": "display_data",
          "data": {
            "text/html": [
              "<style scoped>\n",
              "  .ansiout {\n",
              "    display: block;\n",
              "    unicode-bidi: embed;\n",
              "    white-space: pre-wrap;\n",
              "    word-wrap: break-word;\n",
              "    word-break: break-all;\n",
              "    font-family: \"Source Code Pro\", \"Menlo\", monospace;;\n",
              "    font-size: 13px;\n",
              "    color: #555;\n",
              "    margin-left: 4px;\n",
              "    line-height: 19px;\n",
              "  }\n",
              "</style>\n",
              "<div class=\"ansiout\">Out[26]: array([[0.18001603],\n",
              "       [0.17185818],\n",
              "       [0.16520995],\n",
              "       [0.13933721],\n",
              "       [0.11422534]], dtype=float32)</div>"
            ]
          },
          "metadata": {
            "application/vnd.databricks.v1+output": {
              "addedWidgets": {},
              "arguments": {},
              "data": "<div class=\"ansiout\">Out[26]: array([[0.18001603],\n       [0.17185818],\n       [0.16520995],\n       [0.13933721],\n       [0.11422534]], dtype=float32)</div>",
              "datasetInfos": [],
              "metadata": {},
              "removedWidgets": [],
              "type": "html"
            }
          }
        }
      ],
      "source": [
        "yhat"
      ]
    },
    {
      "cell_type": "code",
      "execution_count": null,
      "metadata": {
        "application/vnd.databricks.v1+cell": {
          "cellMetadata": {
            "byteLimit": 2048000,
            "rowLimit": 10000
          },
          "inputWidgets": {},
          "nuid": "ce54695b-e0ac-4c9e-b73d-7bcc70612788",
          "showTitle": false,
          "title": ""
        },
        "id": "2yk7QBzyirNN",
        "outputId": "053fb728-80a9-4d14-c582-958bea7dce55"
      },
      "outputs": [
        {
          "output_type": "display_data",
          "data": {
            "text/html": [
              "<style scoped>\n",
              "  .ansiout {\n",
              "    display: block;\n",
              "    unicode-bidi: embed;\n",
              "    white-space: pre-wrap;\n",
              "    word-wrap: break-word;\n",
              "    word-break: break-all;\n",
              "    font-family: \"Source Code Pro\", \"Menlo\", monospace;;\n",
              "    font-size: 13px;\n",
              "    color: #555;\n",
              "    margin-left: 4px;\n",
              "    line-height: 19px;\n",
              "  }\n",
              "</style>\n",
              "<div class=\"ansiout\">Out[25]: array([0.7200641 , 0.68743271, 0.6608398 , 0.55734885, 0.45690137])</div>"
            ]
          },
          "metadata": {
            "application/vnd.databricks.v1+output": {
              "addedWidgets": {},
              "arguments": {},
              "data": "<div class=\"ansiout\">Out[25]: array([0.7200641 , 0.68743271, 0.6608398 , 0.55734885, 0.45690137])</div>",
              "datasetInfos": [],
              "metadata": {},
              "removedWidgets": [],
              "type": "html"
            }
          }
        }
      ],
      "source": [
        "inv_yhat"
      ]
    },
    {
      "cell_type": "code",
      "execution_count": null,
      "metadata": {
        "application/vnd.databricks.v1+cell": {
          "cellMetadata": {
            "byteLimit": 2048000,
            "rowLimit": 10000
          },
          "inputWidgets": {},
          "nuid": "69337e6c-95ef-4f70-98ec-379f703197e7",
          "showTitle": false,
          "title": ""
        },
        "id": "7e4Q_rFwirNN",
        "outputId": "f392b6d6-f9b3-4b1a-9333-53fea380af38"
      },
      "outputs": [
        {
          "output_type": "display_data",
          "data": {
            "text/html": [
              "<style scoped>\n",
              "  .ansiout {\n",
              "    display: block;\n",
              "    unicode-bidi: embed;\n",
              "    white-space: pre-wrap;\n",
              "    word-wrap: break-word;\n",
              "    word-break: break-all;\n",
              "    font-family: \"Source Code Pro\", \"Menlo\", monospace;;\n",
              "    font-size: 13px;\n",
              "    color: #555;\n",
              "    margin-left: 4px;\n",
              "    line-height: 19px;\n",
              "  }\n",
              "</style>"
            ]
          },
          "metadata": {
            "application/vnd.databricks.v1+output": {
              "arguments": {},
              "data": "",
              "errorSummary": "Command skipped",
              "errorTraceType": "html",
              "metadata": {},
              "type": "ipynbError"
            }
          }
        }
      ],
      "source": [
        "hcp = 363401.034359738369\n",
        "#for hcp in MDB_final[(MDB_final['GROUP']==group) & (~MDB_final['HCP_ID'].isin(hcp_list_str))]['HCP_ID'].drop_duplicates().tolist():\n",
        "test_X = MDB_final[(MDB_final['HCP_ID']==hcp)]\n",
        "print(test_X)"
      ]
    },
    {
      "cell_type": "code",
      "execution_count": null,
      "metadata": {
        "application/vnd.databricks.v1+cell": {
          "cellMetadata": {
            "byteLimit": 2048000,
            "rowLimit": 10000
          },
          "inputWidgets": {},
          "nuid": "f3380212-6828-43ad-988d-adc1cc2db478",
          "showTitle": false,
          "title": ""
        },
        "id": "np8szZJairNO",
        "outputId": "a17fa293-e0e5-460e-f229-13d9749c7f3d"
      },
      "outputs": [
        {
          "output_type": "display_data",
          "data": {
            "text/html": [
              "<style scoped>\n",
              "  .ansiout {\n",
              "    display: block;\n",
              "    unicode-bidi: embed;\n",
              "    white-space: pre-wrap;\n",
              "    word-wrap: break-word;\n",
              "    word-break: break-all;\n",
              "    font-family: \"Source Code Pro\", \"Menlo\", monospace;;\n",
              "    font-size: 13px;\n",
              "    color: #555;\n",
              "    margin-left: 4px;\n",
              "    line-height: 19px;\n",
              "  }\n",
              "</style>"
            ]
          },
          "metadata": {
            "application/vnd.databricks.v1+output": {
              "arguments": {},
              "data": "",
              "errorSummary": "Command skipped",
              "errorTraceType": "html",
              "metadata": {},
              "type": "ipynbError"
            }
          }
        }
      ],
      "source": [
        "MDB_fil.values"
      ]
    },
    {
      "cell_type": "code",
      "execution_count": null,
      "metadata": {
        "application/vnd.databricks.v1+cell": {
          "cellMetadata": {
            "byteLimit": 2048000,
            "rowLimit": 10000
          },
          "inputWidgets": {},
          "nuid": "26da4e94-4c54-44df-8900-3457a4d27699",
          "showTitle": false,
          "title": ""
        },
        "id": "3tXNohKwirNP",
        "outputId": "2ed34805-ac3b-4421-fa69-16042f9f5030"
      },
      "outputs": [
        {
          "output_type": "display_data",
          "data": {
            "text/html": [
              "<style scoped>\n",
              "  .ansiout {\n",
              "    display: block;\n",
              "    unicode-bidi: embed;\n",
              "    white-space: pre-wrap;\n",
              "    word-wrap: break-word;\n",
              "    word-break: break-all;\n",
              "    font-family: \"Source Code Pro\", \"Menlo\", monospace;;\n",
              "    font-size: 13px;\n",
              "    color: #555;\n",
              "    margin-left: 4px;\n",
              "    line-height: 19px;\n",
              "  }\n",
              "</style>"
            ]
          },
          "metadata": {
            "application/vnd.databricks.v1+output": {
              "arguments": {},
              "data": "",
              "errorSummary": "Command skipped",
              "errorTraceType": "html",
              "metadata": {},
              "type": "ipynbError"
            }
          }
        }
      ],
      "source": [
        "np.array(train_X, dtype=np.float)"
      ]
    },
    {
      "cell_type": "code",
      "execution_count": null,
      "metadata": {
        "application/vnd.databricks.v1+cell": {
          "cellMetadata": {
            "byteLimit": 2048000,
            "rowLimit": 10000
          },
          "inputWidgets": {},
          "nuid": "9198e7d5-df4b-4a38-8bd3-ef4771f86aa4",
          "showTitle": false,
          "title": ""
        },
        "id": "bJ60fsd5irNP",
        "outputId": "08b60f0c-5749-4634-e534-976171ad648e"
      },
      "outputs": [
        {
          "output_type": "display_data",
          "data": {
            "text/html": [
              "<style scoped>\n",
              "  .ansiout {\n",
              "    display: block;\n",
              "    unicode-bidi: embed;\n",
              "    white-space: pre-wrap;\n",
              "    word-wrap: break-word;\n",
              "    word-break: break-all;\n",
              "    font-family: \"Source Code Pro\", \"Menlo\", monospace;;\n",
              "    font-size: 13px;\n",
              "    color: #555;\n",
              "    margin-left: 4px;\n",
              "    line-height: 19px;\n",
              "  }\n",
              "</style>"
            ]
          },
          "metadata": {
            "application/vnd.databricks.v1+output": {
              "arguments": {},
              "data": "",
              "errorSummary": "Command skipped",
              "errorTraceType": "html",
              "metadata": {},
              "type": "ipynbError"
            }
          }
        }
      ],
      "source": [
        "MDB_final[(MDB_final['GROUP']==group) ]"
      ]
    },
    {
      "cell_type": "code",
      "execution_count": null,
      "metadata": {
        "application/vnd.databricks.v1+cell": {
          "cellMetadata": {
            "byteLimit": 2048000,
            "rowLimit": 10000
          },
          "inputWidgets": {},
          "nuid": "f6e2570c-b346-4d58-a55d-71596184c64b",
          "showTitle": false,
          "title": ""
        },
        "id": "qBF-AE5DirNP",
        "outputId": "5848bf1a-6812-4ba3-e9ea-7e4a12ea37b5"
      },
      "outputs": [
        {
          "output_type": "display_data",
          "data": {
            "text/html": [
              "<style scoped>\n",
              "  .ansiout {\n",
              "    display: block;\n",
              "    unicode-bidi: embed;\n",
              "    white-space: pre-wrap;\n",
              "    word-wrap: break-word;\n",
              "    word-break: break-all;\n",
              "    font-family: \"Source Code Pro\", \"Menlo\", monospace;;\n",
              "    font-size: 13px;\n",
              "    color: #555;\n",
              "    margin-left: 4px;\n",
              "    line-height: 19px;\n",
              "  }\n",
              "</style>"
            ]
          },
          "metadata": {
            "application/vnd.databricks.v1+output": {
              "arguments": {},
              "data": "",
              "errorSummary": "Command skipped",
              "errorTraceType": "html",
              "metadata": {},
              "type": "ipynbError"
            }
          }
        }
      ],
      "source": [
        "MDB_final[(MDB_final['GROUP']==group)]['HCP_ID'].drop_duplicates().tolist()\n",
        "\n",
        "        #   & (~MDB_final['HCP_ID'].isin(hcp_list))"
      ]
    },
    {
      "cell_type": "code",
      "execution_count": null,
      "metadata": {
        "application/vnd.databricks.v1+cell": {
          "cellMetadata": {
            "byteLimit": 2048000,
            "rowLimit": 10000
          },
          "inputWidgets": {},
          "nuid": "1dcd6a28-2643-48f1-bdd6-eaad15fc3486",
          "showTitle": false,
          "title": ""
        },
        "id": "4NAnGttlirNP"
      },
      "outputs": [],
      "source": []
    },
    {
      "cell_type": "code",
      "execution_count": null,
      "metadata": {
        "application/vnd.databricks.v1+cell": {
          "cellMetadata": {
            "byteLimit": 2048000,
            "rowLimit": 10000
          },
          "inputWidgets": {},
          "nuid": "4eef3b0e-b031-4593-bc99-d74fcdf910a9",
          "showTitle": false,
          "title": ""
        },
        "id": "ZuODKCShirNa",
        "outputId": "572e2bc6-5365-4289-f583-72b54a30d7a9"
      },
      "outputs": [
        {
          "output_type": "display_data",
          "data": {
            "text/html": [
              "<style scoped>\n",
              "  .ansiout {\n",
              "    display: block;\n",
              "    unicode-bidi: embed;\n",
              "    white-space: pre-wrap;\n",
              "    word-wrap: break-word;\n",
              "    word-break: break-all;\n",
              "    font-family: \"Source Code Pro\", \"Menlo\", monospace;;\n",
              "    font-size: 13px;\n",
              "    color: #555;\n",
              "    margin-left: 4px;\n",
              "    line-height: 19px;\n",
              "  }\n",
              "</style>"
            ]
          },
          "metadata": {
            "application/vnd.databricks.v1+output": {
              "arguments": {},
              "data": "",
              "errorSummary": "Command skipped",
              "errorTraceType": "html",
              "metadata": {},
              "type": "ipynbError"
            }
          }
        }
      ],
      "source": [
        "##### Model Validation on labelled data to test sales forecast accuracy  #########"
      ]
    },
    {
      "cell_type": "code",
      "execution_count": null,
      "metadata": {
        "application/vnd.databricks.v1+cell": {
          "cellMetadata": {
            "byteLimit": 2048000,
            "rowLimit": 10000
          },
          "inputWidgets": {},
          "nuid": "6a104708-4466-4fd0-9004-20b2532ac066",
          "showTitle": true,
          "title": "Create train input"
        },
        "id": "ySdv3fFJirNb",
        "outputId": "79a7e4ff-f830-46cd-8945-9bee63545610"
      },
      "outputs": [
        {
          "output_type": "display_data",
          "data": {
            "text/html": [
              "<style scoped>\n",
              "  .ansiout {\n",
              "    display: block;\n",
              "    unicode-bidi: embed;\n",
              "    white-space: pre-wrap;\n",
              "    word-wrap: break-word;\n",
              "    word-break: break-all;\n",
              "    font-family: \"Source Code Pro\", \"Menlo\", monospace;;\n",
              "    font-size: 13px;\n",
              "    color: #555;\n",
              "    margin-left: 4px;\n",
              "    line-height: 19px;\n",
              "  }\n",
              "</style>"
            ]
          },
          "metadata": {
            "application/vnd.databricks.v1+output": {
              "arguments": {},
              "data": "",
              "errorSummary": "Command skipped",
              "errorTraceType": "html",
              "metadata": {},
              "type": "ipynbError"
            }
          }
        }
      ],
      "source": [
        "# from math import sqrt\n",
        "# from numpy import concatenate\n",
        "# from matplotlib import pyplot\n",
        "# from pandas import read_csv\n",
        "# from pandas import DataFrame\n",
        "# from pandas import concat\n",
        "# from sklearn.preprocessing import MinMaxScaler\n",
        "# from sklearn.preprocessing import LabelEncoder\n",
        "# from sklearn.metrics import mean_squared_error\n",
        "# from keras.models import Sequential\n",
        "# from keras.layers import Dense\n",
        "# from keras.layers import LSTM\n",
        "# from keras import layers\n",
        "# from tensorflow.keras import layers\n",
        "# from keras.layers import Dropout\n",
        "\n",
        "# # convert series to supervised learning\n",
        "# def series_to_supervised(data, n_in=1, n_out=1, dropnan=True):\n",
        "# \tn_vars = 1 if type(data) is list else data.shape[1]\n",
        "# \tdf = DataFrame(data)\n",
        "# \tcols, names = list(), list()\n",
        "# \t# input sequence (t-n, ... t-1)\n",
        "# \tfor i in range(n_in, 0, -1):\n",
        "# \t\tcols.append(df.shift(i))\n",
        "# \t\tnames += [('var%d(t-%d)' % (j+1, i)) for j in range(n_vars)]\n",
        "# \t# forecast sequence (t, t+1, ... t+n)\n",
        "# \tfor i in range(0, n_out):\n",
        "# \t\tcols.append(df.shift(-i))\n",
        "# \t\tif i == 0:\n",
        "# \t\t\tnames += [('var%d(t)' % (j+1)) for j in range(n_vars)]\n",
        "# \t\telse:\n",
        "# \t\t\tnames += [('var%d(t+%d)' % (j+1, i)) for j in range(n_vars)]\n",
        "# \t# put it all together\n",
        "# \tagg = concat(cols, axis=1)\n",
        "# \tagg.columns = names\n",
        "# \t# drop rows with NaN values\n",
        "# \tif dropnan:\n",
        "# \t\tagg.dropna(inplace=True)\n",
        "# \treturn agg\n",
        "\n",
        "# # load dataset\n",
        "\n",
        "# #######   For creating Lags  #####\n",
        "# n_hours = 4\n",
        "# n_features = 15\n",
        "\n",
        "# #####  For Modelling  ########\n",
        "# n_features_fil = 12\n",
        "# n_weeks = 5\n",
        "\n",
        "# model = Sequential()\n",
        "# model.add(LSTM(50, input_shape=(n_weeks, n_features_fil)))\n",
        "# #model.add(layers.Dense(10))\n",
        "# model.add(Dense(1))\n",
        "# #model.add(Dropout(0.2))\n",
        "# model.compile(loss='mean_squared_error', optimizer='adam')\n",
        "# #model.compile(loss='mae', optimizer='adam')\n",
        "# MDB_final = pd.DataFrame()\n",
        "\n",
        "\n",
        "# for hcp in mdb['HCP_ID'].drop_duplicates().tolist():\n",
        "# \tdataset = mdb[mdb['HCP_ID']==hcp].sort_values(by=['Week_number'], ascending=True)\n",
        "#     #.drop(['HCP_ID','Week_number'],axis = 1)\n",
        "\n",
        "\n",
        "# \t#scaler = MinMaxScaler(feature_range=(0, 1))\n",
        "# \t#scaled = scaler.fit_transform(values)\n",
        "# \t#reframed = series_to_supervised(scaled, n_hours, 1)\n",
        "# \tscaler = MinMaxScaler(feature_range=(0, 1))\n",
        "# \tscaled = scaler.fit_transform(dataset.iloc[:,2:])\n",
        "# \t#print('scaled.shape',scaled.shape)\n",
        "# #scale and join back first 2 columns HCP_ID and Week_number\n",
        "# \tdataset = dataset.iloc[:,:2].reset_index(drop=True).join(pd.DataFrame(scaled, columns=dataset.columns[2:]))\n",
        "# \tvalues = dataset.values\n",
        "# \tvalues = values.astype('float32')\n",
        "\n",
        "\n",
        "\n",
        "\n",
        "\n",
        "# \treframed = series_to_supervised(values, n_hours, 1)\n",
        "\n",
        "# \tvalues = reframed.values\n",
        "# \tn_train_hours = 44\n",
        "# \ttrain = values[:n_train_hours, :]\n",
        "# \ttest = values[n_train_hours:, :]\n",
        "# \tn_obs = n_hours * n_features\n",
        "\n",
        "#     #print(train_X.shape, len(train_X), train_y.shape)\n",
        "#     # reshape input to be 3D [samples, timesteps, features]\n",
        "# \tMDB_final = MDB_final.append(pd.DataFrame(values))\n",
        "\n",
        "# \t#train_X_final = train_X_final.append(pd.DataFrame(train_X))\n",
        "# \t#test_X_final = test_X_final.append(pd.DataFrame(test_X))\n",
        "\n",
        "#     # #print(train_X.shape, train_y.shape, test_X.shape, test_y.shape)\n",
        "\n",
        "# \t#train_y_final = train_y_final.append(pd.DataFrame(train_y))\n",
        "# \t#test_y_final = test_y_final.append(pd.DataFrame(test_y))\n",
        "\n",
        "#  \t# test_X = test_X.reshape((test_X.shape[0], n_hours*n_features))\n",
        "# \t# rmse = sqrt(mean_squared_error(test_y, yhat))\n",
        "# \t# print('Test RMSE: %.3f' % rmse)\n",
        "# \t# #out_temp = [test_y.reshape(1,-1),yhat.reshape(1,-1)]\n",
        "# \t# #pred_list.append(yhat.reshape(1,-1))\n",
        "# \t# #pred.loc[len(pred)] = yhat.reshape(1,-1)\n",
        "# \t# #index=pd.DataFrame({'test':test_y,'pred':yhat})\n",
        "# \t# pred = pred.append(pd.DataFrame(yhat.transpose(),columns=['M1_pred', 'M2_pred', 'M3_pred','M4_pred']), ignore_index=True)\n",
        "# \t# pred.at[len(pred)-1,'HCP_ID'] = hcp\n",
        "# \t# pred.at[len(pred)-1,'RMSE'] = rmse\n",
        "# \t# y = y.append(pd.DataFrame(test_y.reshape(1,-1),columns=['M1_Actual', 'M2_Actual', 'M3_Actual','M4_Actual']), ignore_index=True)\n",
        "# MDB_final.columns = [str(i) for i in range(MDB_final.shape[1])]\n",
        "# MDB_final = pd.merge(MDB_final,group,left_on ='60' ,right_on = 'HCP_ID',how = 'inner')"
      ]
    },
    {
      "cell_type": "code",
      "execution_count": null,
      "metadata": {
        "application/vnd.databricks.v1+cell": {
          "cellMetadata": {
            "byteLimit": 2048000,
            "rowLimit": 10000
          },
          "inputWidgets": {},
          "nuid": "a87e5276-5ecb-43a5-ae88-3a5d7707ce6a",
          "showTitle": true,
          "title": "Group level model training (check if need to move Train Y from 74 to 14, carryover is already included as column 13)"
        },
        "id": "e3nPJTpAirNc",
        "outputId": "db0e781a-26d3-47b9-a9ed-ef28682908bc"
      },
      "outputs": [
        {
          "output_type": "display_data",
          "data": {
            "text/html": [
              "<style scoped>\n",
              "  .ansiout {\n",
              "    display: block;\n",
              "    unicode-bidi: embed;\n",
              "    white-space: pre-wrap;\n",
              "    word-wrap: break-word;\n",
              "    word-break: break-all;\n",
              "    font-family: \"Source Code Pro\", \"Menlo\", monospace;;\n",
              "    font-size: 13px;\n",
              "    color: #555;\n",
              "    margin-left: 4px;\n",
              "    line-height: 19px;\n",
              "  }\n",
              "</style>"
            ]
          },
          "metadata": {
            "application/vnd.databricks.v1+output": {
              "arguments": {},
              "data": "",
              "errorSummary": "Command skipped",
              "errorTraceType": "html",
              "metadata": {},
              "type": "ipynbError"
            }
          }
        }
      ],
      "source": [
        "# pred = pd.DataFrame(columns = ['M1_pred','M2_pred','M3_pred','M4_pred','M5_pred','HCP_ID','RMSE','GROUP'])\n",
        "# y = pd.DataFrame(columns = ['M1_Actual','M2_Actual','M3_Actual','M4_Actual','M5_Actual'])\n",
        "\n",
        "# drop_list = ['0','1','14','15','16','29','30','31','44','45','46','59','60','61','74','HCP_ID','SEGMENT','PERSONA_SPEC_FILTERED','GROUP']\n",
        "\n",
        "# for group in MDB_final['GROUP'].drop_duplicates().tolist():\n",
        "#     MDB_fil = MDB_final[MDB_final['GROUP']==group]\n",
        "#     train_X= MDB_fil[(MDB_fil['61']>4)&(MDB_fil['61']<48)].drop(drop_list,axis =1).values.reshape((MDB_fil[(MDB_fil['61']>4)&(MDB_fil['61']<48)].shape[0], n_weeks, n_features_fil))\n",
        "#     train_y= MDB_fil.loc[(MDB_fil['61']>4)&(MDB_fil['61']<48),['74']].values\n",
        "#     history = model.fit(train_X, train_y,epochs=50, batch_size=72, verbose=2, shuffle=False)\n",
        "#     #epochs = 50\n",
        "\n",
        "\n",
        "#     for hcp in MDB_fil['HCP_ID'].drop_duplicates().tolist():\n",
        "#         test_X = MDB_fil[(MDB_fil['HCP_ID']==hcp)&(MDB_fil['61']>47)].drop(drop_list,axis =1).values.reshape((5, n_weeks, n_features_fil))\n",
        "#         test_y = MDB_fil.loc[(MDB_fil['HCP_ID']==hcp)&(MDB_fil['61']>47),['74']].values\n",
        "\n",
        "\n",
        "#         #history = model.fit(train_X, train_y, epochs=50, batch_size=72, validation_data=(test_X, test_y), verbose=2, shuffle=False)\n",
        "#         yhat = model.predict(test_X)\n",
        "#         test_X = test_X.reshape((test_X.shape[0], n_weeks* n_features_fil))\n",
        "\n",
        "\n",
        "\n",
        "# #         # make a prediction\n",
        "# # #yhat = model.predict(test_X)\n",
        "# # #test_X = test_X.reshape((test_X.shape[0], n_hours*n_features))\n",
        "# # # invert scaling for forecast\n",
        "#         inv_yhat = concatenate((yhat, test_X[:, -12:]), axis=1)\n",
        "#         inv_yhat = scaler.inverse_transform(inv_yhat)\n",
        "#         inv_yhat = inv_yhat[:,0]\n",
        "# # invert scaling for actual\n",
        "#         #test_y = test_y.reshape((len(test_y), 1))\n",
        "#         inv_y = concatenate((test_y, test_X[:, -12:]), axis=1)\n",
        "#         inv_y = scaler.inverse_transform(inv_y)\n",
        "#         inv_y = inv_y[:,0]\n",
        "# # # calculate RMSE\n",
        "#         rmse = sqrt(mean_squared_error(inv_y, inv_yhat))\n",
        "# # #print('Test RMSE: %.3f' % rmse)\n",
        "\n",
        "\n",
        "\n",
        "\n",
        "#         #rmse = sqrt(mean_squared_error(test_y, yhat))\n",
        "#         #rmse = sqrt(mean_squared_error(inv_y, inv_yhat))\n",
        "#         print('Test RMSE: %.3f' % rmse)\n",
        "# \t#out_temp = [test_y.reshape(1,-1),yhat.reshape(1,-1)]\n",
        "# \t#pred_list.append(yhat.reshape(1,-1))\n",
        "# \t#pred.loc[len(pred)] = yhat.reshape(1,-1)\n",
        "# \t#index=pd.DataFrame({'test':test_y,'pred':yhat})\n",
        "\n",
        "#         pred = pred.append(pd.DataFrame(yhat.transpose(),columns=['M1_pred', 'M2_pred', 'M3_pred','M4_pred','M5_pred']), ignore_index=True)\n",
        "#         pred.at[len(pred)-1,'HCP_ID'] = hcp\n",
        "#         pred.at[len(pred)-1,'RMSE'] = rmse\n",
        "#         pred.at[len(pred)-1,'GROUP'] = group\n",
        "#         y = y.append(pd.DataFrame(test_y.reshape(1,-1),columns=['M1_Actual', 'M2_Actual', 'M3_Actual','M4_Actual','M5_Actual']), ignore_index=True)\n",
        "\n",
        "# df = pred.merge(y,left_index=True,right_index=True)\n",
        "# df.display()"
      ]
    },
    {
      "cell_type": "code",
      "execution_count": null,
      "metadata": {
        "application/vnd.databricks.v1+cell": {
          "cellMetadata": {
            "byteLimit": 2048000,
            "rowLimit": 10000
          },
          "inputWidgets": {},
          "nuid": "88d0652e-6466-4910-9625-03a036602e90",
          "showTitle": true,
          "title": "HCP level model training"
        },
        "id": "2LzuBs8lirNe",
        "outputId": "19568331-8007-40e3-b896-dbeead09c68c"
      },
      "outputs": [
        {
          "output_type": "display_data",
          "data": {
            "text/html": [
              "<style scoped>\n",
              "  .ansiout {\n",
              "    display: block;\n",
              "    unicode-bidi: embed;\n",
              "    white-space: pre-wrap;\n",
              "    word-wrap: break-word;\n",
              "    word-break: break-all;\n",
              "    font-family: \"Source Code Pro\", \"Menlo\", monospace;;\n",
              "    font-size: 13px;\n",
              "    color: #555;\n",
              "    margin-left: 4px;\n",
              "    line-height: 19px;\n",
              "  }\n",
              "</style>"
            ]
          },
          "metadata": {
            "application/vnd.databricks.v1+output": {
              "arguments": {},
              "data": "",
              "errorSummary": "Command skipped",
              "errorTraceType": "html",
              "metadata": {},
              "type": "ipynbError"
            }
          }
        }
      ],
      "source": [
        "pred = pd.DataFrame(columns = ['M1_pred','M2_pred','M3_pred','M4_pred','M5_pred','HCP_ID','RMSE','GROUP'])\n",
        "y = pd.DataFrame(columns = ['M1_Actual','M2_Actual','M3_Actual','M4_Actual','M5_Actual'])\n",
        "\n",
        "for hcp in MDB_final['HCP_ID'].drop_duplicates().tolist():\n",
        "    MDB_fil = MDB_final[MDB_final['HCP_ID']==hcp]\n",
        "    train_X= MDB_fil[(MDB_final['61']>4)&(MDB_fil['61']<48)].drop(['0','1','14','15','16','29','30','31','44','45','46','59','60','61','74','HCP_ID','SEGMENT','PERSONA_SPEC_FILTERED','GROUP'],axis =1).values.reshape((MDB_fil[(MDB_fil['61']>4)&(MDB_fil['61']<48)].shape[0], n_weeks, n_features_fil))\n",
        "    train_y= MDB_fil.loc[(MDB_fil['61']>4)&(MDB_fil['61']<48),['74']].values\n",
        "    history = model.fit(train_X, train_y,epochs=50, batch_size=72, verbose=2, shuffle=False)\n",
        "    #epochs = 50\n",
        "\n",
        "\n",
        "    #for hcp in MDB_fil['HCP_ID'].drop_duplicates().tolist():\n",
        "    test_X = MDB_fil[(MDB_fil['HCP_ID']==hcp)&(MDB_fil['61']>47)].drop(['0','1','14','15','16','29','30','31','44','45','46','59','60','61','74','HCP_ID','SEGMENT','PERSONA_SPEC_FILTERED','GROUP'],axis =1).values.reshape((5, n_weeks, n_features_fil))\n",
        "    test_y = MDB_fil.loc[(MDB_fil['HCP_ID']==hcp)&(MDB_fil['61']>47),['74']].values\n",
        "\n",
        "\n",
        "        #history = model.fit(train_X, train_y, epochs=50, batch_size=72, validation_data=(test_X, test_y), verbose=2, shuffle=False)\n",
        "    yhat = model.predict(test_X)\n",
        "    test_X = test_X.reshape((test_X.shape[0], n_weeks* n_features_fil))\n",
        "    rmse = sqrt(mean_squared_error(test_y, yhat))\n",
        "    print('Test RMSE: %.3f' % rmse)\n",
        "\t#out_temp = [test_y.reshape(1,-1),yhat.reshape(1,-1)]\n",
        "\t#pred_list.append(yhat.reshape(1,-1))\n",
        "\t#pred.loc[len(pred)] = yhat.reshape(1,-1)\n",
        "\t#index=pd.DataFrame({'test':test_y,'pred':yhat})\n",
        "\n",
        "    pred = pred.append(pd.DataFrame(yhat.transpose(),columns=['M1_pred', 'M2_pred', 'M3_pred','M4_pred','M5_pred']), ignore_index=True)\n",
        "    pred.at[len(pred)-1,'HCP_ID'] = hcp\n",
        "    pred.at[len(pred)-1,'RMSE'] = rmse\n",
        "    pred.at[len(pred)-1,'GROUP'] = MDB_fil['GROUP'].iloc[0]\n",
        "    y = y.append(pd.DataFrame(test_y.reshape(1,-1),columns=['M1_Actual', 'M2_Actual', 'M3_Actual','M4_Actual','M5_Actual']), ignore_index=True)\n",
        "\n",
        "df = pred.merge(y,left_index=True,right_index=True)\n",
        "df.display()"
      ]
    },
    {
      "cell_type": "code",
      "execution_count": null,
      "metadata": {
        "application/vnd.databricks.v1+cell": {
          "cellMetadata": {
            "byteLimit": 2048000,
            "rowLimit": 10000
          },
          "inputWidgets": {},
          "nuid": "a8c84df7-5052-44bb-9a4d-eb4ed86fd655",
          "showTitle": false,
          "title": ""
        },
        "id": "GGIX2jlJirNf"
      },
      "outputs": [],
      "source": []
    },
    {
      "cell_type": "code",
      "execution_count": null,
      "metadata": {
        "application/vnd.databricks.v1+cell": {
          "cellMetadata": {
            "byteLimit": 2048000,
            "rowLimit": 10000
          },
          "inputWidgets": {},
          "nuid": "3504559b-252a-463c-bbed-5ace34ad168c",
          "showTitle": false,
          "title": ""
        },
        "id": "7j9H6ZkUirNf"
      },
      "outputs": [],
      "source": []
    },
    {
      "cell_type": "code",
      "execution_count": null,
      "metadata": {
        "application/vnd.databricks.v1+cell": {
          "cellMetadata": {
            "byteLimit": 2048000,
            "rowLimit": 10000
          },
          "inputWidgets": {},
          "nuid": "c906f08b-6ebf-4f21-9ada-afb3266e53d2",
          "showTitle": false,
          "title": ""
        },
        "id": "e4bE4VtLirNf"
      },
      "outputs": [],
      "source": []
    },
    {
      "cell_type": "code",
      "execution_count": null,
      "metadata": {
        "application/vnd.databricks.v1+cell": {
          "cellMetadata": {
            "byteLimit": 2048000,
            "rowLimit": 10000
          },
          "inputWidgets": {},
          "nuid": "1890e3b4-f7c7-43ac-a4f3-1532146ffbbc",
          "showTitle": false,
          "title": ""
        },
        "id": "TclQeOBZirNg",
        "outputId": "0eef4c6d-2029-46c6-d83c-c098a1e131a2"
      },
      "outputs": [
        {
          "output_type": "display_data",
          "data": {
            "text/html": [
              "<style scoped>\n",
              "  .ansiout {\n",
              "    display: block;\n",
              "    unicode-bidi: embed;\n",
              "    white-space: pre-wrap;\n",
              "    word-wrap: break-word;\n",
              "    word-break: break-all;\n",
              "    font-family: \"Source Code Pro\", \"Menlo\", monospace;;\n",
              "    font-size: 13px;\n",
              "    color: #555;\n",
              "    margin-left: 4px;\n",
              "    line-height: 19px;\n",
              "  }\n",
              "</style>"
            ]
          },
          "metadata": {
            "application/vnd.databricks.v1+output": {
              "arguments": {},
              "data": "",
              "errorSummary": "Command skipped",
              "errorTraceType": "html",
              "metadata": {},
              "type": "ipynbError"
            }
          }
        }
      ],
      "source": [
        "mdb.group.value_counts()"
      ]
    },
    {
      "cell_type": "code",
      "execution_count": null,
      "metadata": {
        "application/vnd.databricks.v1+cell": {
          "cellMetadata": {
            "byteLimit": 2048000,
            "rowLimit": 10000
          },
          "inputWidgets": {},
          "nuid": "0a89833f-b308-402d-a452-c8914e0e7996",
          "showTitle": false,
          "title": ""
        },
        "id": "n5ePGbtYirNg",
        "outputId": "8aacc135-1fef-4f4c-bcd6-737426914a21"
      },
      "outputs": [
        {
          "output_type": "display_data",
          "data": {
            "text/html": [
              "<style scoped>\n",
              "  .ansiout {\n",
              "    display: block;\n",
              "    unicode-bidi: embed;\n",
              "    white-space: pre-wrap;\n",
              "    word-wrap: break-word;\n",
              "    word-break: break-all;\n",
              "    font-family: \"Source Code Pro\", \"Menlo\", monospace;;\n",
              "    font-size: 13px;\n",
              "    color: #555;\n",
              "    margin-left: 4px;\n",
              "    line-height: 19px;\n",
              "  }\n",
              "</style>"
            ]
          },
          "metadata": {
            "application/vnd.databricks.v1+output": {
              "arguments": {},
              "data": "",
              "errorSummary": "Command skipped",
              "errorTraceType": "html",
              "metadata": {},
              "type": "ipynbError"
            }
          }
        }
      ],
      "source": [
        "reframed.shape"
      ]
    },
    {
      "cell_type": "code",
      "execution_count": null,
      "metadata": {
        "application/vnd.databricks.v1+cell": {
          "cellMetadata": {
            "byteLimit": 2048000,
            "rowLimit": 10000
          },
          "inputWidgets": {},
          "nuid": "4ab4a3eb-ed8a-4b09-8c0f-fdce19f405c0",
          "showTitle": false,
          "title": ""
        },
        "id": "9lSHHfaIirNh",
        "outputId": "3e6dafb4-071c-402b-c023-69ea75d688e4"
      },
      "outputs": [
        {
          "output_type": "display_data",
          "data": {
            "text/html": [
              "<style scoped>\n",
              "  .ansiout {\n",
              "    display: block;\n",
              "    unicode-bidi: embed;\n",
              "    white-space: pre-wrap;\n",
              "    word-wrap: break-word;\n",
              "    word-break: break-all;\n",
              "    font-family: \"Source Code Pro\", \"Menlo\", monospace;;\n",
              "    font-size: 13px;\n",
              "    color: #555;\n",
              "    margin-left: 4px;\n",
              "    line-height: 19px;\n",
              "  }\n",
              "</style>"
            ]
          },
          "metadata": {
            "application/vnd.databricks.v1+output": {
              "arguments": {},
              "data": "",
              "errorSummary": "Command skipped",
              "errorTraceType": "html",
              "metadata": {},
              "type": "ipynbError"
            }
          }
        }
      ],
      "source": [
        "from math import sqrt\n",
        "from numpy import concatenate\n",
        "from matplotlib import pyplot\n",
        "from pandas import read_csv\n",
        "from pandas import DataFrame\n",
        "from pandas import concat\n",
        "from sklearn.preprocessing import MinMaxScaler\n",
        "from sklearn.preprocessing import LabelEncoder\n",
        "from sklearn.metrics import mean_squared_error\n",
        "from keras.models import Sequential\n",
        "from keras.layers import Dense\n",
        "from keras.layers import LSTM\n",
        "\n",
        "# convert series to supervised learning\n",
        "def series_to_supervised(data, n_in=1, n_out=1, dropnan=True):\n",
        "\tn_vars = 1 if type(data) is list else data.shape[1]\n",
        "\tdf = DataFrame(data)\n",
        "\tcols, names = list(), list()\n",
        "\t# input sequence (t-n, ... t-1)\n",
        "\tfor i in range(n_in, 0, -1):\n",
        "\t\tcols.append(df.shift(i))\n",
        "\t\tnames += [('var%d(t-%d)' % (j+1, i)) for j in range(n_vars)]\n",
        "\t# forecast sequence (t, t+1, ... t+n)\n",
        "\tfor i in range(0, n_out):\n",
        "\t\tcols.append(df.shift(-i))\n",
        "\t\tif i == 0:\n",
        "\t\t\tnames += [('var%d(t)' % (j+1)) for j in range(n_vars)]\n",
        "\t\telse:\n",
        "\t\t\tnames += [('var%d(t+%d)' % (j+1, i)) for j in range(n_vars)]\n",
        "\t# put it all together\n",
        "\tagg = concat(cols, axis=1)\n",
        "\tagg.columns = names\n",
        "\t# drop rows with NaN values\n",
        "\tif dropnan:\n",
        "\t\tagg.dropna(inplace=True)\n",
        "\treturn agg\n",
        "\n",
        "# load dataset\n",
        "\n",
        "n_hours = 4\n",
        "n_features = 11\n",
        "\n",
        "model = Sequential()\n",
        "model.add(LSTM(50, input_shape=(n_hours, n_features)))\n",
        "model.add(Dense(1))\n",
        "model.compile(loss='mae', optimizer='adam')\n",
        "pred = pd.DataFrame(columns = ['M1_pred','M2_pred','M3_pred','M4_pred','HCP_ID','RMSE'])\n",
        "y = pd.DataFrame(columns = ['M1_Actual','M2_Actual','M3_Actual','M4_Actual'])\n",
        "hcp_list = pd.DataFrame(columns = ['HCP_ID'])\n",
        "rmse_list = pd.DataFrame(columns = ['RMSE'])\n",
        "\n",
        "for hcp in mdb['HCP_ID'].drop_duplicates().tolist():\n",
        "\tdataset = mdb[mdb['HCP_ID']==hcp].sort_values(by=['Week_number'], ascending=True).drop(['HCP_ID','Week_number'],axis = 1)\n",
        "\tvalues = dataset.values\n",
        "\tvalues = values.astype('float32')\n",
        "\treframed = series_to_supervised(values, n_hours, 1)\n",
        "\tvalues = reframed.values\n",
        "\tn_train_hours = 44\n",
        "\ttrain = values[4:n_train_hours, :]\n",
        "\ttest = values[n_train_hours:, :]\n",
        "\tn_obs = n_hours * n_features\n",
        "\ttrain_X, train_y = train[:, :n_obs], train[:, -n_features]\n",
        "\ttest_X, test_y = test[:, :n_obs], test[:, -n_features]\n",
        "    #print(train_X.shape, len(train_X), train_y.shape)\n",
        "    # reshape input to be 3D [samples, timesteps, features]\n",
        "\ttrain_X = train_X.reshape((train_X.shape[0], n_hours, n_features))\n",
        "\ttest_X = test_X.reshape((test_X.shape[0], n_hours, n_features))\n",
        "    #print(train_X.shape, train_y.shape, test_X.shape, test_y.shape)\n",
        "\thistory = model.fit(train_X, train_y, epochs=50, batch_size=72, validation_data=(test_X, test_y), verbose=2, shuffle=False)\n",
        "\tyhat = model.predict(test_X)\n",
        "\ttest_X = test_X.reshape((test_X.shape[0], n_hours*n_features))\n",
        "\trmse = sqrt(mean_squared_error(test_y, yhat))\n",
        "\tprint('Test RMSE: %.3f' % rmse)\n",
        "\t#out_temp = [test_y.reshape(1,-1),yhat.reshape(1,-1)]\n",
        "\t#pred_list.append(yhat.reshape(1,-1))\n",
        "\t#pred.loc[len(pred)] = yhat.reshape(1,-1)\n",
        "\t#index=pd.DataFrame({'test':test_y,'pred':yhat})\n",
        "\tpred = pred.append(pd.DataFrame(yhat.transpose(),columns=['M1_pred', 'M2_pred', 'M3_pred','M4_pred']), ignore_index=True)\n",
        "\tpred.at[len(pred)-1,'HCP_ID'] = hcp\n",
        "\tpred.at[len(pred)-1,'RMSE'] = rmse\n",
        "\ty = y.append(pd.DataFrame(test_y.reshape(1,-1),columns=['M1_Actual', 'M2_Actual', 'M3_Actual','M4_Actual']), ignore_index=True)\n",
        "\n",
        "\t#df.index = new_index\n",
        "\t#data.at[6,'NAME']='Safa'\n",
        "\t#df.at[0,'A'] = 2.\n",
        "\n",
        "\t#hcp_list = hcp_list.append(pd.DataFrame(hcp,columns=['HCP_ID']))\n",
        "\t#rmse_list = rmse_list.append(pd.DataFrame(rmse,columns=['RMSE']))\n",
        "#results=pd.DataFrame(pred_e.reshape(-1,1))\n",
        "#out=index.merge(results,left_index=True,right_index=True)\n",
        "#out.columns=['ID','Is_Churn']\n",
        "#out\n",
        "\n",
        "\n",
        "# integer encode direction\n",
        "#encoder = LabelEncoder()\n",
        "#values[:,4] = encoder.fit_transform(values[:,4])\n",
        "# ensure all data is float\n",
        "#values = values.astype('float32')\n",
        "# normalize features\n",
        "#scaler = MinMaxScaler(feature_range=(0, 1))\n",
        "#scaled = scaler.fit_transform(values)\n",
        "# specify the number of lag hours\n",
        "\n",
        "# frame as supervised learning\n",
        "\n",
        "#print(reframed.shape)\n",
        "\n",
        "# split into train and test sets\n",
        "\n",
        "# design network\n",
        "\n",
        "# fit network\n",
        "\n",
        "# plot history\n",
        "# pyplot.plot(history.history['loss'], label='train')\n",
        "# pyplot.plot(history.history['val_loss'], label='test')\n",
        "# pyplot.legend()\n",
        "# pyplot.show()\n",
        "\n",
        "# make a prediction\n",
        "\n",
        "# invert scaling for forecast\n",
        "#inv_yhat = concatenate((yhat, test_X[:, -7:]), axis=1)\n",
        "#inv_yhat = scaler.inverse_transform(inv_yhat)\n",
        "#inv_yhat = inv_yhat[:,0]\n",
        "# invert scaling for actual\n",
        "#test_y = test_y.reshape((len(test_y), 1))\n",
        "#inv_y = concatenate((test_y, test_X[:, -7:]), axis=1)\n",
        "#inv_y = scaler.inverse_transform(inv_y)\n",
        "#inv_y = inv_y[:,0]\n",
        "# calculate RMSE\n"
      ]
    },
    {
      "cell_type": "code",
      "execution_count": null,
      "metadata": {
        "application/vnd.databricks.v1+cell": {
          "cellMetadata": {
            "byteLimit": 2048000,
            "rowLimit": 10000
          },
          "inputWidgets": {},
          "nuid": "eca760bc-739c-4508-8737-582180987a79",
          "showTitle": false,
          "title": ""
        },
        "id": "wAEI1yBFirNi",
        "outputId": "14f9e5cf-92f2-4c96-e932-0f1d58638dee"
      },
      "outputs": [
        {
          "output_type": "display_data",
          "data": {
            "text/html": [
              "<style scoped>\n",
              "  .ansiout {\n",
              "    display: block;\n",
              "    unicode-bidi: embed;\n",
              "    white-space: pre-wrap;\n",
              "    word-wrap: break-word;\n",
              "    word-break: break-all;\n",
              "    font-family: \"Source Code Pro\", \"Menlo\", monospace;;\n",
              "    font-size: 13px;\n",
              "    color: #555;\n",
              "    margin-left: 4px;\n",
              "    line-height: 19px;\n",
              "  }\n",
              "</style>"
            ]
          },
          "metadata": {
            "application/vnd.databricks.v1+output": {
              "arguments": {},
              "data": "",
              "errorSummary": "Command skipped",
              "errorTraceType": "html",
              "metadata": {},
              "type": "ipynbError"
            }
          }
        }
      ],
      "source": [
        "pred"
      ]
    },
    {
      "cell_type": "code",
      "execution_count": null,
      "metadata": {
        "application/vnd.databricks.v1+cell": {
          "cellMetadata": {
            "byteLimit": 2048000,
            "rowLimit": 10000
          },
          "inputWidgets": {},
          "nuid": "58a34b91-8874-40fb-8d0a-f6aa9ef2e931",
          "showTitle": false,
          "title": ""
        },
        "id": "KcEsBUK-irNj",
        "outputId": "d9ca6f03-d7d4-4794-b3ef-60c3fb6e7926"
      },
      "outputs": [
        {
          "output_type": "display_data",
          "data": {
            "text/html": [
              "<style scoped>\n",
              "  .ansiout {\n",
              "    display: block;\n",
              "    unicode-bidi: embed;\n",
              "    white-space: pre-wrap;\n",
              "    word-wrap: break-word;\n",
              "    word-break: break-all;\n",
              "    font-family: \"Source Code Pro\", \"Menlo\", monospace;;\n",
              "    font-size: 13px;\n",
              "    color: #555;\n",
              "    margin-left: 4px;\n",
              "    line-height: 19px;\n",
              "  }\n",
              "</style>"
            ]
          },
          "metadata": {
            "application/vnd.databricks.v1+output": {
              "arguments": {},
              "data": "",
              "errorSummary": "Command skipped",
              "errorTraceType": "html",
              "metadata": {},
              "type": "ipynbError"
            }
          }
        }
      ],
      "source": [
        "hcp_list.append(pd.DataFrame(hcp,columns=['HCP_ID']))"
      ]
    },
    {
      "cell_type": "code",
      "execution_count": null,
      "metadata": {
        "application/vnd.databricks.v1+cell": {
          "cellMetadata": {
            "byteLimit": 2048000,
            "rowLimit": 10000
          },
          "inputWidgets": {},
          "nuid": "9bc81f73-d944-4bce-aa14-7922663f425b",
          "showTitle": false,
          "title": ""
        },
        "id": "Ix47S8yQirNj",
        "outputId": "5fec0b81-48e1-4337-90e4-31ce68451112"
      },
      "outputs": [
        {
          "output_type": "display_data",
          "data": {
            "text/html": [
              "<style scoped>\n",
              "  .ansiout {\n",
              "    display: block;\n",
              "    unicode-bidi: embed;\n",
              "    white-space: pre-wrap;\n",
              "    word-wrap: break-word;\n",
              "    word-break: break-all;\n",
              "    font-family: \"Source Code Pro\", \"Menlo\", monospace;;\n",
              "    font-size: 13px;\n",
              "    color: #555;\n",
              "    margin-left: 4px;\n",
              "    line-height: 19px;\n",
              "  }\n",
              "</style>"
            ]
          },
          "metadata": {
            "application/vnd.databricks.v1+output": {
              "arguments": {},
              "data": "",
              "errorSummary": "Command skipped",
              "errorTraceType": "html",
              "metadata": {},
              "type": "ipynbError"
            }
          }
        }
      ],
      "source": [
        "pred"
      ]
    },
    {
      "cell_type": "code",
      "execution_count": null,
      "metadata": {
        "application/vnd.databricks.v1+cell": {
          "cellMetadata": {
            "byteLimit": 2048000,
            "rowLimit": 10000
          },
          "inputWidgets": {},
          "nuid": "9c920074-9eea-49b3-8dd0-78239b212692",
          "showTitle": false,
          "title": ""
        },
        "id": "z6cdJbi1irNk",
        "outputId": "398e29c7-731d-4987-b43a-7b8436851f08"
      },
      "outputs": [
        {
          "output_type": "display_data",
          "data": {
            "text/html": [
              "<style scoped>\n",
              "  .ansiout {\n",
              "    display: block;\n",
              "    unicode-bidi: embed;\n",
              "    white-space: pre-wrap;\n",
              "    word-wrap: break-word;\n",
              "    word-break: break-all;\n",
              "    font-family: \"Source Code Pro\", \"Menlo\", monospace;;\n",
              "    font-size: 13px;\n",
              "    color: #555;\n",
              "    margin-left: 4px;\n",
              "    line-height: 19px;\n",
              "  }\n",
              "</style>"
            ]
          },
          "metadata": {
            "application/vnd.databricks.v1+output": {
              "arguments": {},
              "data": "",
              "errorSummary": "Command skipped",
              "errorTraceType": "html",
              "metadata": {},
              "type": "ipynbError"
            }
          }
        }
      ],
      "source": [
        "pred.at[0,'HCP_ID'] = 'a'"
      ]
    },
    {
      "cell_type": "code",
      "execution_count": null,
      "metadata": {
        "application/vnd.databricks.v1+cell": {
          "cellMetadata": {
            "byteLimit": 2048000,
            "rowLimit": 10000
          },
          "inputWidgets": {},
          "nuid": "20fb0a02-718e-473e-964d-2855acbedc06",
          "showTitle": false,
          "title": ""
        },
        "id": "DPx6E3anirNk",
        "outputId": "679e7836-0695-4e11-87e9-16fb9ee7d0cd"
      },
      "outputs": [
        {
          "output_type": "display_data",
          "data": {
            "text/html": [
              "<style scoped>\n",
              "  .ansiout {\n",
              "    display: block;\n",
              "    unicode-bidi: embed;\n",
              "    white-space: pre-wrap;\n",
              "    word-wrap: break-word;\n",
              "    word-break: break-all;\n",
              "    font-family: \"Source Code Pro\", \"Menlo\", monospace;;\n",
              "    font-size: 13px;\n",
              "    color: #555;\n",
              "    margin-left: 4px;\n",
              "    line-height: 19px;\n",
              "  }\n",
              "</style>"
            ]
          },
          "metadata": {
            "application/vnd.databricks.v1+output": {
              "arguments": {},
              "data": "",
              "errorSummary": "Command skipped",
              "errorTraceType": "html",
              "metadata": {},
              "type": "ipynbError"
            }
          }
        }
      ],
      "source": [
        "y = pd.DataFrame(columns = ['M1_Actual','M2_Actual','M3_Actual','M4_Actual'])\n",
        "y = y.append(pd.DataFrame(test_y.reshape(1,-1),columns=['M1_Actual','M2_Actual','M3_Actual','M4_Actual']))\n",
        "y"
      ]
    },
    {
      "cell_type": "code",
      "execution_count": null,
      "metadata": {
        "application/vnd.databricks.v1+cell": {
          "cellMetadata": {
            "byteLimit": 2048000,
            "rowLimit": 10000
          },
          "inputWidgets": {},
          "nuid": "b847ecd2-6ad5-4157-9362-97b2f9e2f3ef",
          "showTitle": false,
          "title": ""
        },
        "id": "Aoq7E6jDirNl",
        "outputId": "fa0ed111-07bc-4eb1-f00b-ff3da8a1ed0b"
      },
      "outputs": [
        {
          "output_type": "display_data",
          "data": {
            "text/html": [
              "<style scoped>\n",
              "  .ansiout {\n",
              "    display: block;\n",
              "    unicode-bidi: embed;\n",
              "    white-space: pre-wrap;\n",
              "    word-wrap: break-word;\n",
              "    word-break: break-all;\n",
              "    font-family: \"Source Code Pro\", \"Menlo\", monospace;;\n",
              "    font-size: 13px;\n",
              "    color: #555;\n",
              "    margin-left: 4px;\n",
              "    line-height: 19px;\n",
              "  }\n",
              "</style>"
            ]
          },
          "metadata": {
            "application/vnd.databricks.v1+output": {
              "arguments": {},
              "data": "",
              "errorSummary": "Command skipped",
              "errorTraceType": "html",
              "metadata": {},
              "type": "ipynbError"
            }
          }
        }
      ],
      "source": [
        "pd.DataFrame(test_y.reshape(1,-1))"
      ]
    },
    {
      "cell_type": "code",
      "execution_count": null,
      "metadata": {
        "application/vnd.databricks.v1+cell": {
          "cellMetadata": {
            "byteLimit": 2048000,
            "rowLimit": 10000
          },
          "inputWidgets": {},
          "nuid": "897c0a93-0d92-45fd-a436-ba08423bb1ce",
          "showTitle": false,
          "title": ""
        },
        "id": "W0RvcbI1irNl",
        "outputId": "494ac9c0-6bfa-4dea-e745-31a2b6febae3"
      },
      "outputs": [
        {
          "output_type": "display_data",
          "data": {
            "text/html": [
              "<style scoped>\n",
              "  .ansiout {\n",
              "    display: block;\n",
              "    unicode-bidi: embed;\n",
              "    white-space: pre-wrap;\n",
              "    word-wrap: break-word;\n",
              "    word-break: break-all;\n",
              "    font-family: \"Source Code Pro\", \"Menlo\", monospace;;\n",
              "    font-size: 13px;\n",
              "    color: #555;\n",
              "    margin-left: 4px;\n",
              "    line-height: 19px;\n",
              "  }\n",
              "</style>"
            ]
          },
          "metadata": {
            "application/vnd.databricks.v1+output": {
              "arguments": {},
              "data": "",
              "errorSummary": "Command skipped",
              "errorTraceType": "html",
              "metadata": {},
              "type": "ipynbError"
            }
          }
        }
      ],
      "source": [
        "pred"
      ]
    },
    {
      "cell_type": "code",
      "execution_count": null,
      "metadata": {
        "application/vnd.databricks.v1+cell": {
          "cellMetadata": {
            "byteLimit": 2048000,
            "rowLimit": 10000
          },
          "inputWidgets": {},
          "nuid": "81c42420-ec50-460e-92ef-cda33dd6c21b",
          "showTitle": false,
          "title": ""
        },
        "id": "_ZslfG2jirNl",
        "outputId": "77865e0e-281a-4483-dcfb-404324a30d05"
      },
      "outputs": [
        {
          "output_type": "display_data",
          "data": {
            "text/html": [
              "<style scoped>\n",
              "  .ansiout {\n",
              "    display: block;\n",
              "    unicode-bidi: embed;\n",
              "    white-space: pre-wrap;\n",
              "    word-wrap: break-word;\n",
              "    word-break: break-all;\n",
              "    font-family: \"Source Code Pro\", \"Menlo\", monospace;;\n",
              "    font-size: 13px;\n",
              "    color: #555;\n",
              "    margin-left: 4px;\n",
              "    line-height: 19px;\n",
              "  }\n",
              "</style>"
            ]
          },
          "metadata": {
            "application/vnd.databricks.v1+output": {
              "arguments": {},
              "data": "",
              "errorSummary": "Command skipped",
              "errorTraceType": "html",
              "metadata": {},
              "type": "ipynbError"
            }
          }
        }
      ],
      "source": [
        "pd.DataFrame(pred_list)"
      ]
    },
    {
      "cell_type": "code",
      "execution_count": null,
      "metadata": {
        "application/vnd.databricks.v1+cell": {
          "cellMetadata": {
            "byteLimit": 2048000,
            "rowLimit": 10000
          },
          "inputWidgets": {},
          "nuid": "53018547-ad3a-4a54-9bca-d51622839def",
          "showTitle": false,
          "title": ""
        },
        "id": "8pUr4v7girNl",
        "outputId": "ebf2d79a-bd8d-4617-d2ea-9ad08418ae19"
      },
      "outputs": [
        {
          "output_type": "display_data",
          "data": {
            "text/html": [
              "<style scoped>\n",
              "  .ansiout {\n",
              "    display: block;\n",
              "    unicode-bidi: embed;\n",
              "    white-space: pre-wrap;\n",
              "    word-wrap: break-word;\n",
              "    word-break: break-all;\n",
              "    font-family: \"Source Code Pro\", \"Menlo\", monospace;;\n",
              "    font-size: 13px;\n",
              "    color: #555;\n",
              "    margin-left: 4px;\n",
              "    line-height: 19px;\n",
              "  }\n",
              "</style>"
            ]
          },
          "metadata": {
            "application/vnd.databricks.v1+output": {
              "arguments": {},
              "data": "",
              "errorSummary": "Command skipped",
              "errorTraceType": "html",
              "metadata": {},
              "type": "ipynbError"
            }
          }
        }
      ],
      "source": [
        "pred"
      ]
    },
    {
      "cell_type": "markdown",
      "metadata": {
        "application/vnd.databricks.v1+cell": {
          "cellMetadata": {
            "byteLimit": 2048000,
            "rowLimit": 10000
          },
          "inputWidgets": {},
          "nuid": "c47cb72e-7655-460f-b2d1-7a26933d209d",
          "showTitle": false,
          "title": ""
        },
        "id": "hPHNya99irNm"
      },
      "source": [
        "## Importing User Defined Functions"
      ]
    },
    {
      "cell_type": "code",
      "execution_count": null,
      "metadata": {
        "application/vnd.databricks.v1+cell": {
          "cellMetadata": {
            "byteLimit": 2048000,
            "rowLimit": 10000
          },
          "inputWidgets": {},
          "nuid": "6d633601-b9e3-47dd-83aa-7a322f7231b3",
          "showTitle": false,
          "title": ""
        },
        "id": "3tZGaQbUirNm",
        "outputId": "5f639dbf-681f-4253-859d-6c3c7fe5b923"
      },
      "outputs": [
        {
          "output_type": "display_data",
          "data": {
            "text/html": [
              "<style scoped>\n",
              "  .ansiout {\n",
              "    display: block;\n",
              "    unicode-bidi: embed;\n",
              "    white-space: pre-wrap;\n",
              "    word-wrap: break-word;\n",
              "    word-break: break-all;\n",
              "    font-family: \"Source Code Pro\", \"Menlo\", monospace;;\n",
              "    font-size: 13px;\n",
              "    color: #555;\n",
              "    margin-left: 4px;\n",
              "    line-height: 19px;\n",
              "  }\n",
              "</style>"
            ]
          },
          "metadata": {
            "application/vnd.databricks.v1+output": {
              "arguments": {},
              "data": "",
              "errorSummary": "The execution of this command did not finish successfully",
              "errorTraceType": "html",
              "metadata": {},
              "type": "ipynbError"
            }
          }
        }
      ],
      "source": [
        "%run ./02_HELPER_FUNCTIONS"
      ]
    },
    {
      "cell_type": "markdown",
      "metadata": {
        "application/vnd.databricks.v1+cell": {
          "cellMetadata": {
            "byteLimit": 2048000,
            "rowLimit": 10000
          },
          "inputWidgets": {},
          "nuid": "d18dc83b-4b04-41d0-8ff3-18ddfefa68bd",
          "showTitle": false,
          "title": ""
        },
        "id": "3D94OmzvirNn"
      },
      "source": [
        "## Importing Global variables and Reading Data Tables"
      ]
    },
    {
      "cell_type": "code",
      "execution_count": null,
      "metadata": {
        "application/vnd.databricks.v1+cell": {
          "cellMetadata": {
            "byteLimit": 2048000,
            "rowLimit": 10000
          },
          "inputWidgets": {},
          "nuid": "36ad5769-79d4-4678-9199-aa8584d0c5fd",
          "showTitle": false,
          "title": ""
        },
        "id": "s9IfYBitirNn",
        "outputId": "0b8c2b61-a9e3-4235-b625-4ea9e9f7bc87"
      },
      "outputs": [
        {
          "output_type": "display_data",
          "data": {
            "text/html": [
              "<style scoped>\n",
              "  .ansiout {\n",
              "    display: block;\n",
              "    unicode-bidi: embed;\n",
              "    white-space: pre-wrap;\n",
              "    word-wrap: break-word;\n",
              "    word-break: break-all;\n",
              "    font-family: \"Source Code Pro\", \"Menlo\", monospace;;\n",
              "    font-size: 13px;\n",
              "    color: #555;\n",
              "    margin-left: 4px;\n",
              "    line-height: 19px;\n",
              "  }\n",
              "</style>"
            ]
          },
          "metadata": {
            "application/vnd.databricks.v1+output": {
              "arguments": {},
              "data": "",
              "errorSummary": "The execution of this command did not finish successfully",
              "errorTraceType": "html",
              "metadata": {},
              "type": "ipynbError"
            }
          }
        }
      ],
      "source": [
        "%run ./01_GLOBAL_VARIABLES"
      ]
    },
    {
      "cell_type": "markdown",
      "metadata": {
        "application/vnd.databricks.v1+cell": {
          "cellMetadata": {
            "byteLimit": 2048000,
            "rowLimit": 10000
          },
          "inputWidgets": {},
          "nuid": "04551a4c-8516-4e67-86e7-f49908e940b7",
          "showTitle": false,
          "title": ""
        },
        "id": "pBWqUXbEirNo"
      },
      "source": [
        "##Importing the Master Database"
      ]
    },
    {
      "cell_type": "code",
      "execution_count": null,
      "metadata": {
        "application/vnd.databricks.v1+cell": {
          "cellMetadata": {
            "byteLimit": 2048000,
            "rowLimit": 10000
          },
          "inputWidgets": {},
          "nuid": "15f31680-f515-4293-9b74-f86b43933595",
          "showTitle": false,
          "title": ""
        },
        "id": "W73A0FWHirNo",
        "outputId": "a121882e-0794-4204-ea4d-e4d9efdcdf0c"
      },
      "outputs": [
        {
          "output_type": "display_data",
          "data": {
            "text/html": [
              "<style scoped>\n",
              "  .ansiout {\n",
              "    display: block;\n",
              "    unicode-bidi: embed;\n",
              "    white-space: pre-wrap;\n",
              "    word-wrap: break-word;\n",
              "    word-break: break-all;\n",
              "    font-family: \"Source Code Pro\", \"Menlo\", monospace;;\n",
              "    font-size: 13px;\n",
              "    color: #555;\n",
              "    margin-left: 4px;\n",
              "    line-height: 19px;\n",
              "  }\n",
              "</style>"
            ]
          },
          "metadata": {
            "application/vnd.databricks.v1+output": {
              "arguments": {},
              "data": "",
              "errorSummary": "Command skipped",
              "errorTraceType": "html",
              "metadata": {},
              "type": "ipynbError"
            }
          }
        }
      ],
      "source": [
        "'''\n",
        "Importing the Modelling Dataset that we created in the '05_MODELLING_DATABASE_PROCESSING' notebook as MDB.\n",
        "'''\n",
        "\n",
        "MDB = spark.sql('select * from us_sequencing_analytics.US_NUCALA_MODELLING_DATABASE')\n",
        "MDB = MDB.toPandas()"
      ]
    },
    {
      "cell_type": "code",
      "execution_count": null,
      "metadata": {
        "application/vnd.databricks.v1+cell": {
          "cellMetadata": {
            "byteLimit": 2048000,
            "rowLimit": 10000
          },
          "inputWidgets": {},
          "nuid": "a34aa601-8ed4-4fa5-b86c-1382fb36efeb",
          "showTitle": false,
          "title": ""
        },
        "id": "cuWWxYkiirNp",
        "outputId": "770cdc90-49d6-45c3-a77a-62b2de845c7d"
      },
      "outputs": [
        {
          "output_type": "display_data",
          "data": {
            "text/html": [
              "<style scoped>\n",
              "  .ansiout {\n",
              "    display: block;\n",
              "    unicode-bidi: embed;\n",
              "    white-space: pre-wrap;\n",
              "    word-wrap: break-word;\n",
              "    word-break: break-all;\n",
              "    font-family: \"Source Code Pro\", \"Menlo\", monospace;;\n",
              "    font-size: 13px;\n",
              "    color: #555;\n",
              "    margin-left: 4px;\n",
              "    line-height: 19px;\n",
              "  }\n",
              "</style>"
            ]
          },
          "metadata": {
            "application/vnd.databricks.v1+output": {
              "arguments": {},
              "data": "",
              "errorSummary": "Command skipped",
              "errorTraceType": "html",
              "metadata": {},
              "type": "ipynbError"
            }
          }
        }
      ],
      "source": [
        "MDB.count()"
      ]
    },
    {
      "cell_type": "code",
      "execution_count": null,
      "metadata": {
        "application/vnd.databricks.v1+cell": {
          "cellMetadata": {
            "byteLimit": 2048000,
            "rowLimit": 10000
          },
          "inputWidgets": {},
          "nuid": "c2e6ca37-ae7d-44f4-b266-e69f9cc392b0",
          "showTitle": false,
          "title": ""
        },
        "id": "ZuuphFq6irNq",
        "outputId": "0a14d067-6430-4b4d-8078-b601eaf5f654"
      },
      "outputs": [
        {
          "output_type": "display_data",
          "data": {
            "text/html": [
              "<style scoped>\n",
              "  .ansiout {\n",
              "    display: block;\n",
              "    unicode-bidi: embed;\n",
              "    white-space: pre-wrap;\n",
              "    word-wrap: break-word;\n",
              "    word-break: break-all;\n",
              "    font-family: \"Source Code Pro\", \"Menlo\", monospace;;\n",
              "    font-size: 13px;\n",
              "    color: #555;\n",
              "    margin-left: 4px;\n",
              "    line-height: 19px;\n",
              "  }\n",
              "</style>"
            ]
          },
          "metadata": {
            "application/vnd.databricks.v1+output": {
              "arguments": {},
              "data": "",
              "errorSummary": "Command skipped",
              "errorTraceType": "html",
              "metadata": {},
              "type": "ipynbError"
            }
          }
        }
      ],
      "source": [
        "MDB.columns"
      ]
    },
    {
      "cell_type": "code",
      "execution_count": null,
      "metadata": {
        "application/vnd.databricks.v1+cell": {
          "cellMetadata": {
            "byteLimit": 2048000,
            "rowLimit": 10000
          },
          "inputWidgets": {},
          "nuid": "5b217ea4-c2da-4df8-b4a5-15bbab608064",
          "showTitle": false,
          "title": ""
        },
        "id": "P9mSZReVirNq",
        "outputId": "d113949d-6069-4dee-9fb8-bd5fbbb638a0"
      },
      "outputs": [
        {
          "output_type": "display_data",
          "data": {
            "text/html": [
              "<style scoped>\n",
              "  .ansiout {\n",
              "    display: block;\n",
              "    unicode-bidi: embed;\n",
              "    white-space: pre-wrap;\n",
              "    word-wrap: break-word;\n",
              "    word-break: break-all;\n",
              "    font-family: \"Source Code Pro\", \"Menlo\", monospace;;\n",
              "    font-size: 13px;\n",
              "    color: #555;\n",
              "    margin-left: 4px;\n",
              "    line-height: 19px;\n",
              "  }\n",
              "</style>"
            ]
          },
          "metadata": {
            "application/vnd.databricks.v1+output": {
              "arguments": {},
              "data": "",
              "errorSummary": "Command skipped",
              "errorTraceType": "html",
              "metadata": {},
              "type": "ipynbError"
            }
          }
        }
      ],
      "source": [
        "MDB = MDB.replace(to_replace = 'RHU', value = 'OTH') #Nucala Specific Change since n-count of RHU was very low."
      ]
    },
    {
      "cell_type": "markdown",
      "metadata": {
        "application/vnd.databricks.v1+cell": {
          "cellMetadata": {
            "byteLimit": 2048000,
            "rowLimit": 10000
          },
          "inputWidgets": {},
          "nuid": "7e1189df-7e13-4207-89bd-2c73c6d6e404",
          "showTitle": false,
          "title": ""
        },
        "id": "QpUQw9rqirNr"
      },
      "source": [
        "##User Defined Modelling Variables"
      ]
    },
    {
      "cell_type": "code",
      "execution_count": null,
      "metadata": {
        "application/vnd.databricks.v1+cell": {
          "cellMetadata": {
            "byteLimit": 2048000,
            "rowLimit": 10000
          },
          "inputWidgets": {},
          "nuid": "6dbc4c28-dc9a-460f-987d-3536c242c1c9",
          "showTitle": false,
          "title": ""
        },
        "id": "uXxTPI83irNr",
        "outputId": "405c816f-ac24-4300-e543-97906d23b7df"
      },
      "outputs": [
        {
          "output_type": "display_data",
          "data": {
            "text/html": [
              "<style scoped>\n",
              "  .ansiout {\n",
              "    display: block;\n",
              "    unicode-bidi: embed;\n",
              "    white-space: pre-wrap;\n",
              "    word-wrap: break-word;\n",
              "    word-break: break-all;\n",
              "    font-family: \"Source Code Pro\", \"Menlo\", monospace;;\n",
              "    font-size: 13px;\n",
              "    color: #555;\n",
              "    margin-left: 4px;\n",
              "    line-height: 19px;\n",
              "  }\n",
              "</style>"
            ]
          },
          "metadata": {
            "application/vnd.databricks.v1+output": {
              "arguments": {},
              "data": "",
              "errorSummary": "Command skipped",
              "errorTraceType": "html",
              "metadata": {},
              "type": "ipynbError"
            }
          }
        }
      ],
      "source": [
        "'''\n",
        "Defining the independent and dependent variables that are to be given as an input to the model.\n",
        "'''\n",
        "\n",
        "# salesColumn: Takes as input the column name to be considered for sales present in MDB and passed as Y-VARIABLE to the model.\n",
        "sales_column = 'APLD_CLAIMS_TOTAL'\n",
        "\n",
        "# feature_list: Takes as input a list of all the column names present in MDB that are to be passed as features to the model.\n",
        "feature_list = list(MDB.columns)\n",
        "feature_list.remove('HCP_ID')\n",
        "feature_list.remove(time_grain)\n",
        "feature_list.remove('SEGMENT')\n",
        "feature_list.remove('PERSONA_SPEC_FILTERED')\n",
        "feature_list.remove(sales_column)"
      ]
    },
    {
      "cell_type": "code",
      "execution_count": null,
      "metadata": {
        "application/vnd.databricks.v1+cell": {
          "cellMetadata": {
            "byteLimit": 2048000,
            "rowLimit": 10000
          },
          "inputWidgets": {},
          "nuid": "078a80cd-e998-4112-b83b-7b26b640ee26",
          "showTitle": false,
          "title": ""
        },
        "id": "KEmlJJ9EirNs",
        "outputId": "9a547285-1f55-4a2e-d931-df5fd435b199"
      },
      "outputs": [
        {
          "output_type": "display_data",
          "data": {
            "text/html": [
              "<style scoped>\n",
              "  .ansiout {\n",
              "    display: block;\n",
              "    unicode-bidi: embed;\n",
              "    white-space: pre-wrap;\n",
              "    word-wrap: break-word;\n",
              "    word-break: break-all;\n",
              "    font-family: \"Source Code Pro\", \"Menlo\", monospace;;\n",
              "    font-size: 13px;\n",
              "    color: #555;\n",
              "    margin-left: 4px;\n",
              "    line-height: 19px;\n",
              "  }\n",
              "</style>"
            ]
          },
          "metadata": {
            "application/vnd.databricks.v1+output": {
              "arguments": {},
              "data": "",
              "errorSummary": "Command skipped",
              "errorTraceType": "html",
              "metadata": {},
              "type": "ipynbError"
            }
          }
        }
      ],
      "source": [
        "'''\n",
        "Converting the datatypes of the MDB columns from string to float/integer.\n",
        "'''\n",
        "\n",
        "MDB[time_grain] = MDB[time_grain].astype(int)\n",
        "\n",
        "# Converting the String inputs to Float using the loop\n",
        "for col in feature_list+[sales_column]:\n",
        "    MDB[col] = MDB[col].astype('float')"
      ]
    },
    {
      "cell_type": "markdown",
      "metadata": {
        "application/vnd.databricks.v1+cell": {
          "cellMetadata": {
            "byteLimit": 2048000,
            "rowLimit": 10000
          },
          "inputWidgets": {},
          "nuid": "073bcf1e-579d-4446-8b70-f5d6f17d09e6",
          "showTitle": false,
          "title": ""
        },
        "id": "jrDWcPpXirNt"
      },
      "source": [
        "##Running the Model in Batches"
      ]
    },
    {
      "cell_type": "code",
      "execution_count": null,
      "metadata": {
        "application/vnd.databricks.v1+cell": {
          "cellMetadata": {
            "byteLimit": 2048000,
            "rowLimit": 10000
          },
          "inputWidgets": {},
          "nuid": "b7bd713d-c6b0-44e4-b883-88be1940592d",
          "showTitle": false,
          "title": ""
        },
        "id": "YvZhpJiPirNt",
        "outputId": "1e2daeb9-7123-4511-fb83-d4fd6fd3a55c"
      },
      "outputs": [
        {
          "output_type": "display_data",
          "data": {
            "text/html": [
              "<style scoped>\n",
              "  .ansiout {\n",
              "    display: block;\n",
              "    unicode-bidi: embed;\n",
              "    white-space: pre-wrap;\n",
              "    word-wrap: break-word;\n",
              "    word-break: break-all;\n",
              "    font-family: \"Source Code Pro\", \"Menlo\", monospace;;\n",
              "    font-size: 13px;\n",
              "    color: #555;\n",
              "    margin-left: 4px;\n",
              "    line-height: 19px;\n",
              "  }\n",
              "</style>"
            ]
          },
          "metadata": {
            "application/vnd.databricks.v1+output": {
              "arguments": {},
              "data": "",
              "errorSummary": "Command skipped",
              "errorTraceType": "html",
              "metadata": {},
              "type": "ipynbError"
            }
          }
        }
      ],
      "source": [
        "'''\n",
        "Our modeling process is designed to efficiently run and display multiple model iterations in batches. The input is a dictionary with a unique iteration ID as the key and another dictionary as the value containing the model inputs.\n",
        "The following are the modeling inputs:\n",
        "i. MDB: Takes the master database to be modeled as input.\n",
        "ii. feature_list: A list of all the features to be used as independent variables in the modeling process.\n",
        "iii. dependent_variable: The column containing the sales value to be used as the dependent variable in the modeling process.\n",
        "iv. scaling_flag: Specifies the type of scaling required (e.g. - STANDARD_SCALER, MIN_MAX_SCALER, ROBUST_SCALER, or NONE).\n",
        "v. best_alpha_flag: A Boolean variable that, if set to True, runs a grid search to find the optimal value of alpha.\n",
        "vi. default_alpha_value: The default value of alpha to be used if best_alpha_flag is set to False (default is 0.01, can be updated by user).\n",
        "vii. segment: The segment to filter the MDB on.\n",
        "viii. persona: The persona to filter the MDB on\n",
        "'''\n",
        "\n",
        "batch = {\n",
        "    'ITERATION_1' : {'MDB' : MDB, 'feature_list': feature_list, 'dependent_variable' : sales_column, 'scaling_flag' : 'STANDARD_SCALER', 'best_alpha_flag' : False, 'default_alpha_value' : 0.009, 'segment' : 'C', 'persona' : 'ALG'},\n",
        "    'ITERATION_2' : {'MDB' : MDB, 'feature_list': feature_list, 'dependent_variable' : sales_column, 'scaling_flag' : 'STANDARD_SCALER', 'best_alpha_flag' : False, 'default_alpha_value' : 0.01, 'segment' : 'C', 'persona' : 'PUD'},\n",
        "    'ITERATION_3' : {'MDB' : MDB, 'feature_list': feature_list, 'dependent_variable' : sales_column, 'scaling_flag' : 'STANDARD_SCALER', 'best_alpha_flag' : False, 'default_alpha_value' : 0.015, 'segment' : 'C', 'persona' : 'OTH'}\n",
        "}"
      ]
    },
    {
      "cell_type": "code",
      "execution_count": null,
      "metadata": {
        "application/vnd.databricks.v1+cell": {
          "cellMetadata": {
            "byteLimit": 2048000,
            "rowLimit": 10000
          },
          "inputWidgets": {},
          "nuid": "dcbf323b-223e-4230-918c-9a548d380362",
          "showTitle": false,
          "title": ""
        },
        "id": "Rf8Y9590irNu",
        "outputId": "092f9d86-e4f0-4047-e82c-7e7dae4d174e"
      },
      "outputs": [
        {
          "output_type": "display_data",
          "data": {
            "text/html": [
              "<style scoped>\n",
              "  .ansiout {\n",
              "    display: block;\n",
              "    unicode-bidi: embed;\n",
              "    white-space: pre-wrap;\n",
              "    word-wrap: break-word;\n",
              "    word-break: break-all;\n",
              "    font-family: \"Source Code Pro\", \"Menlo\", monospace;;\n",
              "    font-size: 13px;\n",
              "    color: #555;\n",
              "    margin-left: 4px;\n",
              "    line-height: 19px;\n",
              "  }\n",
              "</style>"
            ]
          },
          "metadata": {
            "application/vnd.databricks.v1+output": {
              "arguments": {},
              "data": "",
              "errorSummary": "Command skipped",
              "errorTraceType": "html",
              "metadata": {},
              "type": "ipynbError"
            }
          }
        }
      ],
      "source": [
        "'''\n",
        "We run a loop on the batch dictionary and for each iteration-\n",
        "i. It generates the Lasso and GLM outputs along with some diagnostics.\n",
        "ii. A file name is generated based on the brand name, iteration, and the values of “segment” and “persona” in the values dictionary.\n",
        "iii. The function run_modelling() is called with the unpacked values from the batch dictionary and returns the Lasso and GLM outputs which are stored in hive meta storage.\n",
        "'''\n",
        "\n",
        "for iteration, values in batch.items():\n",
        "    print(iteration + ': ')\n",
        "    file_name = brand_name+'_'+iteration+'_'+'REGRESSION_OUTPUTS'+'_SEGMENT_'+values['segment']+'_PERSONA_'+values['persona']\n",
        "    lasso_output_coefficient, regression_output_coefficient = run_modelling(**values)\n",
        "    print('Lasso Outputs:')\n",
        "    display(lasso_output_coefficient)\n",
        "    print('Regression Outputs:')\n",
        "    display(regression_output_coefficient)\n",
        "    regression_output_coefficient = spark.createDataFrame(regression_output_coefficient)\n",
        "    regression_output_coefficient.createOrReplaceTempView('regression_output_coefficient')\n",
        "    regression_output_coefficient.write.mode('overwrite').saveAsTable(f\"{'us_sequencing_analytics'}.{file_name}\")\n",
        "    print('--------------------------------------------------------------------------------------------------------------------------------------------------------------------------')"
      ]
    }
  ],
  "metadata": {
    "application/vnd.databricks.v1+notebook": {
      "dashboards": [],
      "language": "python",
      "notebookMetadata": {
        "mostRecentlyExecutedCommandWithImplicitDF": {
          "commandId": 2627614570303347,
          "dataframes": [
            "_sqldf"
          ]
        },
        "pythonIndentUnit": 4
      },
      "notebookName": "06_MODELLING_NOTEBOOK [LSTM] V4 (generating test promotion sequences)",
      "widgets": {}
    },
    "colab": {
      "provenance": [],
      "include_colab_link": true
    }
  },
  "nbformat": 4,
  "nbformat_minor": 0
}